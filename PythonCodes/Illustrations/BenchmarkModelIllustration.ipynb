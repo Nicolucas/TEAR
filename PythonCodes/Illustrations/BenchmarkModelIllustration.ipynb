{
 "cells": [
  {
   "cell_type": "code",
   "execution_count": 3,
   "id": "41684084",
   "metadata": {
    "ExecuteTime": {
     "end_time": "2022-02-15T00:28:45.435679Z",
     "start_time": "2022-02-15T00:28:45.106647Z"
    }
   },
   "outputs": [],
   "source": [
    "\n",
    "import numpy as np\n",
    "import matplotlib.pyplot as plt\n",
    "import matplotlib.patches as patches\n",
    "\n",
    "import sys\n",
    "sys.path.insert(0,\"/home/nico/Documents/TEAR/Codes_TEAR/PythonCodes/LibFolder\")\n",
    "from Lib_GeneralFunctions import *\n",
    "from ModelIllustration import *\n",
    "\n",
    "import math\n",
    "\n",
    "plt.style.use('science')"
   ]
  },
  {
   "cell_type": "code",
   "execution_count": 274,
   "id": "3b8769c8",
   "metadata": {
    "ExecuteTime": {
     "end_time": "2022-02-15T09:12:42.366159Z",
     "start_time": "2022-02-15T09:12:42.225213Z"
    }
   },
   "outputs": [],
   "source": [
    "def DrawPlotAxes(BGLoc, BGScale, axesDirList, ax, Label=\"\"):\n",
    "    \n",
    "    if Label==\"\":\n",
    "        Labels=[\"\"]*(len(axesDir))\n",
    "    else :\n",
    "        Labels = Label\n",
    "    \n",
    "    for idx,Dir in enumerate(axesDirList):\n",
    "        ax.annotate(\"\", \n",
    "                    xytext=(BGLoc[0]-0.5*(Dir[0])*BGScale,BGLoc[1]-0.5*(Dir[1])*BGScale), \n",
    "                    xy=(BGLoc[0]+0.5*(Dir[0])*BGScale,BGLoc[1]+0.5*(Dir[1])*BGScale),\n",
    "                    arrowprops=dict(arrowstyle=\"->\"),horizontalalignment='left')\n",
    "        ax.annotate(Labels[idx], \n",
    "                    xytext=(BGLoc[0]-0.7*(Dir[0])*BGScale,BGLoc[1]-0.7*(Dir[1])*BGScale),\n",
    "                    xy=(BGLoc[0],BGLoc[1]),\n",
    "                    horizontalalignment='center',\n",
    "                    verticalalignment = 'center'\n",
    "                   )\n",
    "\n",
    "\n",
    "def LocateSlipReceivers_MeshAligned(ax,loc,Color):\n",
    "    OffsetY = 2*loc[1]\n",
    "\n",
    "    MarkerSpecs = {\"marker\":\".\",\"facecolors\":Color,\"edgecolors\":\"k\",\"s\":300,\"zorder\":9}\n",
    "    ax.scatter(loc[0],loc[1], **MarkerSpecs)\n",
    "    ax.scatter(loc[0],loc[1]-OffsetY, **MarkerSpecs)\n",
    "        \n",
    "def GenKostrovCase(ax):\n",
    "    Delta = 0.02\n",
    "    \n",
    "    ####### Add Grid and axis specs\n",
    "    ax.set_xlim(-.1,.9)\n",
    "    ax.set_ylim(-.5,.5)\n",
    "    ax.xaxis.set_major_locator(plt.MultipleLocator(1.0))\n",
    "    ax.xaxis.set_minor_locator(plt.MultipleLocator(.02))\n",
    "    ax.yaxis.set_major_locator(plt.MultipleLocator(1.0))\n",
    "    ax.yaxis.set_minor_locator(plt.MultipleLocator(.02))\n",
    "    ax.grid(which='major', axis='x', linewidth=0.75, linestyle='-', color='0.75')\n",
    "    ax.grid(which='minor', axis='x', linewidth=0.25, linestyle='-', color='0.75')\n",
    "    ax.grid(which='major', axis='y', linewidth=0.75, linestyle='-', color='0.75')\n",
    "    ax.grid(which='minor', axis='y', linewidth=0.25, linestyle='-', color='0.75')\n",
    "    ax.set_xticklabels([])\n",
    "    ax.set_yticklabels([])\n",
    "    ax.set_aspect('equal')\n",
    "    #####################################\n",
    "\n",
    "\n",
    "    ####### Add patches\n",
    "\n",
    "    ax.add_patch(\n",
    "                 patches.Rectangle((-1, -Delta), 2., 2*Delta, fill=True, color=\"lightgray\" ) \n",
    "                ) \n",
    "    ax.add_patch(\n",
    "                 patches.Rectangle((-1, -Delta), 2., 2*Delta, fill=False ) \n",
    "                ) \n",
    "    #####################################\n",
    "\n",
    "\n",
    "    ####### Add axes of shear and normal background stress\n",
    "\n",
    "    BGLoc = [0.05,0.25]\n",
    "    BGScale = 0.15\n",
    "    axesDir = [[0,-1],[1,0]]\n",
    "    Label = ['$-\\sigma^b_{22}$','$\\sigma^b_{12}$']\n",
    "    DrawPlotAxes(BGLoc, BGScale, axesDir,ax, Label)\n",
    "    #####################################\n",
    "\n",
    "    \n",
    "    ###### Outside Arrows\n",
    "    OffsetArr = 0.02\n",
    "    \n",
    "    ax.annotate('', xy=(-OffsetArr, 0), xycoords='axes fraction', xytext=(-OffsetArr,1), \n",
    "            arrowprops=dict(arrowstyle=\"<->\", color='k'))\n",
    "    \n",
    "    ax.annotate('', xy=(0, -OffsetArr), xycoords='axes fraction', xytext=(1, -OffsetArr), \n",
    "            arrowprops=dict(arrowstyle=\"<->\", color='k'))\n",
    "    \n",
    "    bbox=dict(boxstyle=\"circle,pad=0.1\",facecolor='white',ec=\"b\", lw=0)\n",
    "    \n",
    "    ax.annotate('$x$', xy=(0.5, -OffsetArr-.01), xycoords='axes fraction', bbox=bbox)\n",
    "    ax.annotate('$y$', xy=(-OffsetArr-.01, 0.5), xycoords='axes fraction', bbox=bbox)\n",
    "\n",
    "    ########################################\n",
    "\n",
    "    ####### \n",
    "    BGLoc = [.5, 0]\n",
    "    BGScale = 2*Delta\n",
    "    Dir = [0,-1]\n",
    "    Label = ['2$\\delta$']\n",
    "    ax.annotate(\"\", \n",
    "                xytext=(BGLoc[0]-0.5*(Dir[0])*BGScale,BGLoc[1]-0.5*(Dir[1])*BGScale), \n",
    "                xy=(BGLoc[0]+0.5*(Dir[0])*BGScale,BGLoc[1]+0.5*(Dir[1])*BGScale),\n",
    "                arrowprops=dict(arrowstyle=\"<->\"),horizontalalignment='left')\n",
    "    ax.annotate(Label[0], \n",
    "                xytext=(BGLoc[0]+.02,BGLoc[1]), \n",
    "                xy=(BGLoc[0],BGLoc[1]),\n",
    "                horizontalalignment='left',verticalalignment = 'center')\n",
    "    #####################################\n",
    "    \n",
    "    for i in [0,1,2,3,4]:\n",
    "        loc=[0.2*i,0.02]\n",
    "\n",
    "        LocateSlipReceivers_MeshAligned(ax,loc,np.array(cmapProf[-i-1])/255)"
   ]
  },
  {
   "cell_type": "code",
   "execution_count": 275,
   "id": "e88ca629",
   "metadata": {
    "ExecuteTime": {
     "end_time": "2022-02-15T09:12:42.382812Z",
     "start_time": "2022-02-15T09:12:42.368377Z"
    }
   },
   "outputs": [],
   "source": [
    "SMALL_SIZE = 12\n",
    "MEDIUM_SIZE = 14\n",
    "BIGGER_SIZE = 16\n",
    "FontSizeControlFreak(SMALL_SIZE,MEDIUM_SIZE,BIGGER_SIZE)"
   ]
  },
  {
   "cell_type": "code",
   "execution_count": 276,
   "id": "4a641bde",
   "metadata": {
    "ExecuteTime": {
     "end_time": "2022-02-15T09:12:42.553968Z",
     "start_time": "2022-02-15T09:12:42.547873Z"
    }
   },
   "outputs": [],
   "source": [
    "StressTensor = np.array([[0 , 20], [20, -40]])\n",
    "StressEigVal, StressEigVec = np.linalg.eig(StressTensor)"
   ]
  },
  {
   "cell_type": "code",
   "execution_count": 277,
   "id": "337ca725",
   "metadata": {
    "ExecuteTime": {
     "end_time": "2022-02-15T09:12:42.705741Z",
     "start_time": "2022-02-15T09:12:42.694678Z"
    }
   },
   "outputs": [],
   "source": [
    "def LocateSlipReceivers_MeshAligned(ax,loc,Color):\n",
    "    OffsetY = 2*loc[1]\n",
    "\n",
    "    MarkerSpecs = {\"marker\":\".\",\"facecolors\":Color,\"edgecolors\":\"k\",\"s\":300,\"zorder\":9}\n",
    "    ax.scatter(loc[0],loc[1], **MarkerSpecs)\n",
    "    ax.scatter(loc[0],loc[1]-OffsetY, **MarkerSpecs)\n",
    "    \n",
    "from palettable.cartocolors.qualitative import Safe_5 as LineColor\n",
    "\n",
    "cmapProf = LineColor.colors"
   ]
  },
  {
   "cell_type": "code",
   "execution_count": 278,
   "id": "862742dc",
   "metadata": {
    "ExecuteTime": {
     "end_time": "2022-02-15T09:12:42.862438Z",
     "start_time": "2022-02-15T09:12:42.857510Z"
    }
   },
   "outputs": [
    {
     "data": {
      "text/plain": [
       "[136, 204, 238]"
      ]
     },
     "execution_count": 278,
     "metadata": {},
     "output_type": "execute_result"
    }
   ],
   "source": [
    "cmapProf[0]"
   ]
  },
  {
   "cell_type": "code",
   "execution_count": 279,
   "id": "614fada4",
   "metadata": {
    "ExecuteTime": {
     "end_time": "2022-02-15T09:12:43.480473Z",
     "start_time": "2022-02-15T09:12:43.034186Z"
    },
    "scrolled": false
   },
   "outputs": [
    {
     "data": {
      "image/png": "[encoded data removed]",
      "text/plain": [
       "<Figure size 432x288 with 1 Axes>"
      ]
     },
     "metadata": {
      "needs_background": "light"
     },
     "output_type": "display_data"
    }
   ],
   "source": [
    "ax = plt.axes([0, -1, 2, 2])\n",
    "\n",
    "GenKostrovCase(ax)\n",
    "\n",
    "\n",
    "\n",
    "plt.show()"
   ]
  },
  {
   "cell_type": "code",
   "execution_count": 280,
   "id": "3ca62eb5",
   "metadata": {
    "ExecuteTime": {
     "end_time": "2022-02-15T09:12:43.871286Z",
     "start_time": "2022-02-15T09:12:43.482674Z"
    }
   },
   "outputs": [
    {
     "data": {
      "image/png": "[encoded data removed]",
      "text/plain": [
       "<Figure size 432x288 with 1 Axes>"
      ]
     },
     "metadata": {
      "needs_background": "light"
     },
     "output_type": "display_data"
    }
   ],
   "source": [
    "ax = plt.axes([-1, -1, 2, 2])\n",
    "\n",
    "GenTPV3Case(ax)\n",
    "\n",
    "plt.show()"
   ]
  },
  {
   "cell_type": "code",
   "execution_count": null,
   "id": "29af509f",
   "metadata": {},
   "outputs": [],
   "source": []
  },
  {
   "cell_type": "code",
   "execution_count": null,
   "id": "fe0e8ab9",
   "metadata": {},
   "outputs": [],
   "source": []
  }
 ],
 "metadata": {
  "kernelspec": {
   "display_name": "Python 3",
   "language": "python",
   "name": "python3"
  },
  "language_info": {
   "codemirror_mode": {
    "name": "ipython",
    "version": 3
   },
   "file_extension": ".py",
   "mimetype": "text/x-python",
   "name": "python",
   "nbconvert_exporter": "python",
   "pygments_lexer": "ipython3",
   "version": "3.5.6"
  }
 },
 "nbformat": 4,
 "nbformat_minor": 5
}
