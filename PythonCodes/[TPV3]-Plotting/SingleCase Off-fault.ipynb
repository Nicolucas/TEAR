{
 "cells": [
  {
   "cell_type": "markdown",
   "metadata": {},
   "source": [
    "# [TPV3] Off fault case: Desktop at Uni\n",
    "by JN Hayek (Created on 02.12.2020)\n"
   ]
  },
  {
   "cell_type": "code",
   "execution_count": 1,
   "metadata": {
    "ExecuteTime": {
     "end_time": "2020-12-02T15:54:36.850717Z",
     "start_time": "2020-12-02T15:54:34.128197Z"
    }
   },
   "outputs": [
    {
     "data": {
      "text/plain": [
       "<Figure size 432x288 with 0 Axes>"
      ]
     },
     "metadata": {},
     "output_type": "display_data"
    }
   ],
   "source": [
    "import os, sys, math, time\n",
    "\n",
    "from glob import glob\n",
    "from matplotlib import pyplot as plt\n",
    "import numpy as np\n",
    "import pandas as pd\n",
    "\n",
    "sys.path.insert(0,\"/import/freenas-m-03-geodynamics/jhayek/TEAR/processing/TEAR/PythonCodes/LibFolder\")\n",
    "from Lib_GeneralFunctions import *\n",
    "from Lib_GeneralSignalProcNAnalysis import *\n",
    "from Lib_ProfilePlotting import *\n",
    "from Lib_ProfileProcessing import *\n",
    "\n",
    "#=================== Plotting style ===================\n",
    "plt.style.use('seaborn-whitegrid')\n",
    "\n",
    "from matplotlib import cm\n",
    "from matplotlib.colors import ListedColormap\n",
    "from matplotlib.lines import Line2D\n",
    "from matplotlib.gridspec import GridSpec\n",
    "\n",
    "#definition of colormap\n",
    "from palettable.scientific.sequential import Oleron_20\n",
    "cmap = Oleron_20.mpl_colormap\n",
    "plt.register_cmap(cmap=cmap)\n",
    "plt.set_cmap('Oleron_20')"
   ]
  },
  {
   "cell_type": "code",
   "execution_count": 2,
   "metadata": {
    "ExecuteTime": {
     "end_time": "2020-12-02T15:54:36.858007Z",
     "start_time": "2020-12-02T15:54:36.852996Z"
    }
   },
   "outputs": [],
   "source": [
    "# Timestamp variable\n",
    "start_time = time.time()"
   ]
  },
  {
   "cell_type": "code",
   "execution_count": 3,
   "metadata": {
    "ExecuteTime": {
     "end_time": "2020-12-02T15:54:36.885116Z",
     "start_time": "2020-12-02T15:54:36.861286Z"
    }
   },
   "outputs": [],
   "source": [
    "# Save into a class the \n",
    "class TPV3reference:\n",
    "    def __init__(self, filename, coordinates, RefSource=\"SEM2DPACK\"):\n",
    "        \n",
    "        line = pd.read_csv(filename.format(\"slip\"), header=None)\n",
    "        self.Time = line[0]\n",
    "        self.Slip = line[1]\n",
    "        \n",
    "        line = pd.read_csv(filename.format(\"sr\"), header=None)\n",
    "        self.SlipRate = line[1]\n",
    "        \n",
    "        self.Coord = coordinates #Only used for labels and \n",
    "        self.RefSource = RefSource\n",
    "    #end __init__\n",
    "    \n",
    "    # Default object printing information\n",
    "    def __repr__(self):\n",
    "        return \"The TPV3reference object was generated from: {} and the receiver is located at {}\".format(self.RefSource, self.Coord)\n",
    "    #end __repr__\n",
    "    \n",
    "    def __str__(self):\n",
    "        return \"The TPV3reference object was generated from: {} and the receiver is located at {}\".format(self.RefSource, self.Coord)\n",
    "    #end __str__\n",
    "    \n",
    "    def PlotReference(self, ax, SlipSlipRate, filtering=True, **kwargs):\n",
    "        \n",
    "        if SlipSlipRate==\"Slip\":\n",
    "            if(filtering):\n",
    "                ax.plot(self.Time, Butterworth(self.Slip, **kwargs), label = \"\", c = \"k\", ls = \"--\", zorder=1)\n",
    "            else:\n",
    "                ax.plot(self.Time, self.Slip, label = \"\", c = \"k\", ls = \"--\", zorder=1)\n",
    "        elif SlipSlipRate==\"SlipRate\":\n",
    "            if(filtering):\n",
    "                ax.plot(self.Time, Butterworth(self.SlipRate, **kwargs), label = \"\", c = \"k\", ls = \"--\", zorder=1)\n",
    "            else:\n",
    "                ax.plot(self.Time, self.SlipRate, label = \"\", c = \"k\", ls = \"--\", zorder=1)\n",
    "            \n",
    "        return ax"
   ]
  },
  {
   "cell_type": "code",
   "execution_count": 4,
   "metadata": {
    "ExecuteTime": {
     "end_time": "2020-12-02T15:54:36.914741Z",
     "start_time": "2020-12-02T15:54:36.886800Z"
    }
   },
   "outputs": [
    {
     "name": "stdout",
     "output_type": "stream",
     "text": [
      "The history saving thread hit an unexpected error (OperationalError('disk I/O error')).History will not be written to the database.\n"
     ]
    }
   ],
   "source": [
    "path = \"/import/freenas-m-03-geodynamics/jhayek/TEAR/processing/TEAR/ProfilePicking/\"\n",
    "\n",
    "# Reference saved into a list of objects\n",
    "RefList = [TPV3reference(path + \"Output/Reference/sem2dpack/sem2d-{}-2.txt\", \"4km\"),\n",
    "           TPV3reference(path + \"Output/Reference/sem2dpack/sem2d-{}-3.txt\", \"6km\"),\n",
    "           TPV3reference(path + \"Output/Reference/sem2dpack/sem2d-{}-4.txt\", \"8km\"),\n",
    "          ]"
   ]
  },
  {
   "cell_type": "code",
   "execution_count": 34,
   "metadata": {
    "ExecuteTime": {
     "end_time": "2020-12-02T16:15:57.264713Z",
     "start_time": "2020-12-02T16:15:57.251702Z"
    }
   },
   "outputs": [],
   "source": [
    "def format_axes(fig):\n",
    "    for i, ax in enumerate(fig.axes):\n",
    "        ax.set_xlim(0,7)\n",
    "        ax.set_ylim(-1,1)\n",
    "        \n",
    "        \n",
    "    Lines = fig.axes[-1].get_lines()[-4:]\n",
    "    \n",
    "    legend2 = fig.axes[-1].legend(Lines, ['Reference', '4km', '6km', '8km'], loc=1)\n",
    "    fig.axes[-1].add_artist(legend2)\n",
    "\n",
    "def GenericFigAxis():\n",
    "    fig = plt.figure(constrained_layout=True, figsize=[12,4])\n",
    "    gs = GridSpec(1, 2, figure=fig)\n",
    "\n",
    "    ax1 = fig.add_subplot(gs[0, 0])\n",
    "    ax2 = fig.add_subplot(gs[0, 1])\n",
    "    \n",
    "    \n",
    "    return fig, [ax1, ax2]"
   ]
  },
  {
   "cell_type": "code",
   "execution_count": 35,
   "metadata": {
    "ExecuteTime": {
     "end_time": "2020-12-02T16:15:57.406144Z",
     "start_time": "2020-12-02T16:15:57.396451Z"
    }
   },
   "outputs": [],
   "source": [
    "def PlotReceiverFile(ax, ReceiverFile, ColIDX, OrderPeriodicity=8, NumReceivers=3, filtering=True, **kwargs):\n",
    "    ylabeldict={1:\"Slip (m)\", 2:\"Slip Rate (m)\", 3:\"$\\mu$\"}\n",
    "    \n",
    "    if(filtering):\n",
    "        SamplingFrequency = 1./(ReceiverFile[0][1]-ReceiverFile[0][0])\n",
    "        [ax.plot(ReceiverFile[0], \n",
    "                 Butterworth(ReceiverFile[ColIDX+OrderPeriodicity*i],SamplingFrequency = SamplingFrequency, **kwargs), \n",
    "                 zorder=2) for i in range(NumReceivers)]\n",
    "    else:\n",
    "        [ax.plot(ReceiverFile[0], ReceiverFile[ColIDX+OrderPeriodicity*i], zorder=2) for i in range(NumReceivers)]\n",
    "        \n",
    "    ax.set_ylabel(ylabeldict[ColIDX])\n",
    "    ax.set_xlabel(\"time (s)\")\n",
    "    return ax"
   ]
  },
  {
   "cell_type": "code",
   "execution_count": 36,
   "metadata": {
    "ExecuteTime": {
     "end_time": "2020-12-02T16:15:57.577017Z",
     "start_time": "2020-12-02T16:15:57.563549Z"
    }
   },
   "outputs": [],
   "source": [
    "def PlotTimeProfileSetFlex(ax, Set,SlipSlipRate,title,Filtered = False, absolute = False, **kwargs):\n",
    "    UnitsDict = {\"Slip\" : \"Slip [m]\", \"SlipRate\" : \"Slip Rate [m/s]\"}\n",
    "    \n",
    "    ax.set(xlabel = 'Time [s]', ylabel = UnitsDict[SlipSlipRate], \n",
    "           title = title)\n",
    "    \n",
    "    OrdinateVariableList=[]\n",
    "    for idx,item in enumerate(Set):\n",
    "        \n",
    "        if (SlipSlipRate == \"Slip\"):\n",
    "            OrdinateVariableList.append([a for a in item.DispX]) \n",
    "        elif (SlipSlipRate == \"SlipRate\"):\n",
    "            OrdinateVariableList.append([a for a in item.VelX])\n",
    "\n",
    "        if (Filtered):\n",
    "            OrdinateVariableList[idx] = [a for a in Butterworth(OrdinateVariableList[idx])]\n",
    "\n",
    "        if (absolute):\n",
    "            OrdinateVariableList[idx] = [abs(a) for a in OrdinateVariableList[idx]]\n",
    "\n",
    "    for idx,item in enumerate(Set):\n",
    "        ax.plot(item.Time, OrdinateVariableList[idx], **kwargs)\n",
    "\n",
    "def PlotFlexSpecificLegend(ax, ListOfFiles,SlipSlipRate,title,Filtered=True,**kwargs):\n",
    "    for iidx,SingleFile in enumerate(ListOfFiles):\n",
    "        head, tail = os.path.split(SingleFile)\n",
    "        File = LoadPickleFile(Filename = tail,FolderPath = head+\"/\")\n",
    "        PlotTimeProfileSetFlex(ax, File, SlipSlipRate, title,Filtered,\n",
    "                               zorder = iidx + 2, c = cmap(iidx/(len(ListOfFiles)+1)),\n",
    "                               **kwargs )    \n",
    "\n",
    "    return ax"
   ]
  },
  {
   "cell_type": "code",
   "execution_count": 37,
   "metadata": {
    "ExecuteTime": {
     "end_time": "2020-12-02T16:15:57.703586Z",
     "start_time": "2020-12-02T16:15:57.699817Z"
    }
   },
   "outputs": [],
   "source": [
    "CompletePath = [path+r\"[TPV3]Results/20201202Duo/300dx-1p-300.3delta/TPList_t280_d300.1.pickle\"]"
   ]
  },
  {
   "cell_type": "code",
   "execution_count": 38,
   "metadata": {
    "ExecuteTime": {
     "end_time": "2020-12-02T16:15:58.210758Z",
     "start_time": "2020-12-02T16:15:57.868022Z"
    }
   },
   "outputs": [
    {
     "data": {
      "text/plain": [
       "<AxesSubplot:title={'center':'Direct'}, xlabel='Time [s]', ylabel='Slip Rate [m/s]'>"
      ]
     },
     "execution_count": 38,
     "metadata": {},
     "output_type": "execute_result"
    },
    {
     "data": {
      "image/png": "[encoded data removed]",
      "text/plain": [
       "<Figure size 864x288 with 2 Axes>"
      ]
     },
     "metadata": {},
     "output_type": "display_data"
    }
   ],
   "source": [
    "fig,axis=GenericFigAxis()\n",
    "format_axes(fig)\n",
    "\n",
    "PlotType = \"Slip\"\n",
    "#[item.PlotReference(axis[0], PlotType, filtering=True) for item in RefList] #Reference\n",
    "PlotFlexSpecificLegend(axis[0], CompletePath, \"Slip\", \"Direct\")\n",
    "\n",
    "PlotType = \"SlipRate\"\n",
    "#[item.PlotReference(axis[1], PlotType, filtering=True) for item in RefList] #Reference\n",
    "PlotFlexSpecificLegend(axis[1], CompletePath,\"SlipRate\",\"Direct\")"
   ]
  },
  {
   "cell_type": "code",
   "execution_count": 39,
   "metadata": {
    "ExecuteTime": {
     "end_time": "2020-12-02T16:15:58.219714Z",
     "start_time": "2020-12-02T16:15:58.212732Z"
    }
   },
   "outputs": [],
   "source": [
    "\n",
    "head, tail = os.path.split(CompletePath[0])\n",
    "File = LoadPickleFile(Filename = tail,FolderPath = head+\"/\")\n",
    "aaa = File[0]"
   ]
  },
  {
   "cell_type": "code",
   "execution_count": 40,
   "metadata": {
    "ExecuteTime": {
     "end_time": "2020-12-02T16:15:58.606139Z",
     "start_time": "2020-12-02T16:15:58.492482Z"
    }
   },
   "outputs": [
    {
     "data": {
      "text/plain": [
       "[<matplotlib.lines.Line2D at 0x7f22bd0d04c0>]"
      ]
     },
     "execution_count": 40,
     "metadata": {},
     "output_type": "execute_result"
    },
    {
     "data": {
      "image/png": "[encoded data removed]",
      "text/plain": [
       "<Figure size 432x288 with 1 Axes>"
      ]
     },
     "metadata": {},
     "output_type": "display_data"
    }
   ],
   "source": [
    "plt.plot(aaa.Time,aaa.DispY)\n",
    "plt.plot(aaa.Time,aaa.DispX)"
   ]
  },
  {
   "cell_type": "code",
   "execution_count": 42,
   "metadata": {
    "ExecuteTime": {
     "end_time": "2020-12-02T16:16:46.094920Z",
     "start_time": "2020-12-02T16:16:45.974783Z"
    }
   },
   "outputs": [
    {
     "data": {
      "text/plain": [
       "[<matplotlib.lines.Line2D at 0x7f22bcf28280>]"
      ]
     },
     "execution_count": 42,
     "metadata": {},
     "output_type": "execute_result"
    },
    {
     "data": {
      "image/png": "[encoded data removed]",
      "text/plain": [
       "<Figure size 432x288 with 1 Axes>"
      ]
     },
     "metadata": {},
     "output_type": "display_data"
    }
   ],
   "source": [
    "plt.plot(aaa.Time,aaa.VelY)\n",
    "plt.plot(aaa.Time,aaa.VelX)"
   ]
  },
  {
   "cell_type": "code",
   "execution_count": null,
   "metadata": {},
   "outputs": [],
   "source": []
  }
 ],
 "metadata": {
  "hide_input": false,
  "kernelspec": {
   "display_name": "Python 3",
   "language": "python",
   "name": "python3"
  },
  "language_info": {
   "codemirror_mode": {
    "name": "ipython",
    "version": 3
   },
   "file_extension": ".py",
   "mimetype": "text/x-python",
   "name": "python",
   "nbconvert_exporter": "python",
   "pygments_lexer": "ipython3",
   "version": "3.8.2"
  }
 },
 "nbformat": 4,
 "nbformat_minor": 4
}
