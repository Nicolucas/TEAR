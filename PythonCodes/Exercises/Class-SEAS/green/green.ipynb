{
 "cells": [
  {
   "cell_type": "markdown",
   "metadata": {},
   "source": [
    "Green's function\n",
    "=============="
   ]
  },
  {
   "cell_type": "markdown",
   "metadata": {},
   "source": [
    "Fundamental solution\n",
    "-------------------------------\n",
    "$E$ here is the fundamental solution for the Laplacian"
   ]
  },
  {
   "cell_type": "code",
   "execution_count": 1,
   "metadata": {
    "ExecuteTime": {
     "end_time": "2021-02-02T19:42:40.034169Z",
     "start_time": "2021-02-02T19:42:39.474129Z"
    }
   },
   "outputs": [],
   "source": [
    "from sympy import *\n",
    "from sympy.physics.vector.functions import dot\n",
    "init_printing()"
   ]
  },
  {
   "cell_type": "code",
   "execution_count": 2,
   "metadata": {
    "ExecuteTime": {
     "end_time": "2021-02-02T19:42:40.239797Z",
     "start_time": "2021-02-02T19:42:40.035987Z"
    },
    "scrolled": true
   },
   "outputs": [
    {
     "data": {
      "image/png": "[encoded data removed]",
      "text/latex": [
       "$\\displaystyle - \\frac{\\log{\\left(\\sqrt{\\left(x_{1} - \\xi_{1}\\right)^{2} + \\left(x_{2} - \\xi_{2}\\right)^{2}} \\right)}}{2 \\pi}$"
      ],
      "text/plain": [
       "    ⎛   _________________________⎞ \n",
       "    ⎜  ╱          2            2 ⎟ \n",
       "-log⎝╲╱  (x₁ - ξ₁)  + (x₂ - ξ₂)  ⎠ \n",
       "───────────────────────────────────\n",
       "                2⋅π                "
      ]
     },
     "execution_count": 2,
     "metadata": {},
     "output_type": "execute_result"
    }
   ],
   "source": [
    "x1, x2, xi1, xi2 = symbols('x_1 x_2 xi_1 xi_2')\n",
    "E = -1/(2*pi) * log(sqrt((x1-xi1)**2 + (x2-xi2)**2))\n",
    "E"
   ]
  },
  {
   "cell_type": "markdown",
   "metadata": {},
   "source": [
    "**Task**: Check that $\\nabla^2_\\xi E = 0$ for $x \\neq \\xi$.\n",
    "\n",
    "*Hint*: https://docs.sympy.org/latest/tutorial/calculus.html#derivatives"
   ]
  },
  {
   "cell_type": "code",
   "execution_count": 3,
   "metadata": {
    "ExecuteTime": {
     "end_time": "2021-02-02T19:42:40.517855Z",
     "start_time": "2021-02-02T19:42:40.242735Z"
    }
   },
   "outputs": [
    {
     "data": {
      "image/png": "[encoded data removed]",
      "text/latex": [
       "$\\displaystyle \\frac{\\frac{2 \\left(x_{1} - \\xi_{1}\\right)^{2}}{\\left(x_{1} - \\xi_{1}\\right)^{2} + \\left(x_{2} - \\xi_{2}\\right)^{2}} - 1}{2 \\pi \\left(\\left(x_{1} - \\xi_{1}\\right)^{2} + \\left(x_{2} - \\xi_{2}\\right)^{2}\\right)} + \\frac{\\frac{2 \\left(x_{2} - \\xi_{2}\\right)^{2}}{\\left(x_{1} - \\xi_{1}\\right)^{2} + \\left(x_{2} - \\xi_{2}\\right)^{2}} - 1}{2 \\pi \\left(\\left(x_{1} - \\xi_{1}\\right)^{2} + \\left(x_{2} - \\xi_{2}\\right)^{2}\\right)}$"
      ],
      "text/plain": [
       "                  2                               2          \n",
       "       2⋅(x₁ - ξ₁)                     2⋅(x₂ - ξ₂)           \n",
       " ─────────────────────── - 1     ─────────────────────── - 1 \n",
       "          2            2                  2            2     \n",
       " (x₁ - ξ₁)  + (x₂ - ξ₂)          (x₁ - ξ₁)  + (x₂ - ξ₂)      \n",
       "───────────────────────────── + ─────────────────────────────\n",
       "    ⎛         2            2⎞       ⎛         2            2⎞\n",
       "2⋅π⋅⎝(x₁ - ξ₁)  + (x₂ - ξ₂) ⎠   2⋅π⋅⎝(x₁ - ξ₁)  + (x₂ - ξ₂) ⎠"
      ]
     },
     "execution_count": 3,
     "metadata": {},
     "output_type": "execute_result"
    }
   ],
   "source": [
    "A = diff(E,x1,2)+diff(E,x2,2)\n",
    "A"
   ]
  },
  {
   "cell_type": "code",
   "execution_count": 4,
   "metadata": {
    "ExecuteTime": {
     "end_time": "2021-02-02T19:42:40.710208Z",
     "start_time": "2021-02-02T19:42:40.520429Z"
    }
   },
   "outputs": [
    {
     "data": {
      "image/png": "[encoded data removed]",
      "text/latex": [
       "$\\displaystyle 0$"
      ],
      "text/plain": [
       "0"
      ]
     },
     "execution_count": 4,
     "metadata": {},
     "output_type": "execute_result"
    }
   ],
   "source": [
    "simplify(A)"
   ]
  },
  {
   "cell_type": "markdown",
   "metadata": {},
   "source": [
    "Directional derivative\n",
    "------------------------------"
   ]
  },
  {
   "cell_type": "code",
   "execution_count": 5,
   "metadata": {
    "ExecuteTime": {
     "end_time": "2021-02-02T19:42:40.719191Z",
     "start_time": "2021-02-02T19:42:40.712014Z"
    }
   },
   "outputs": [],
   "source": [
    "n1, n2 = symbols('n_1 n_2')\n",
    "n = Matrix([n1,n2])\n",
    "gradE = Matrix([diff(E,x1),diff(E,x2)])\n"
   ]
  },
  {
   "cell_type": "markdown",
   "metadata": {},
   "source": [
    "**Task**: Compute the directional derivative $\\frac{\\partial E}{\\partial n}$."
   ]
  },
  {
   "cell_type": "code",
   "execution_count": 6,
   "metadata": {
    "ExecuteTime": {
     "end_time": "2021-02-02T19:42:40.977500Z",
     "start_time": "2021-02-02T19:42:40.720525Z"
    }
   },
   "outputs": [
    {
     "data": {
      "image/png": "[encoded data removed]",
      "text/latex": [
       "$\\displaystyle - \\frac{n_{1} \\left(x_{1} - \\xi_{1}\\right)}{2 \\pi \\sqrt{n_{1}^{2} + n_{2}^{2}} \\left(\\left(x_{1} - \\xi_{1}\\right)^{2} + \\left(x_{2} - \\xi_{2}\\right)^{2}\\right)} - \\frac{n_{2} \\left(x_{2} - \\xi_{2}\\right)}{2 \\pi \\sqrt{n_{1}^{2} + n_{2}^{2}} \\left(\\left(x_{1} - \\xi_{1}\\right)^{2} + \\left(x_{2} - \\xi_{2}\\right)^{2}\\right)}$"
      ],
      "text/plain": [
       "                  n₁⋅(x₁ - ξ₁)                                   n₂⋅(x₂ - ξ₂) \n",
       "- ──────────────────────────────────────────── - ─────────────────────────────\n",
       "         ___________                                    ___________           \n",
       "        ╱   2     2  ⎛         2            2⎞         ╱   2     2  ⎛         \n",
       "  2⋅π⋅╲╱  n₁  + n₂  ⋅⎝(x₁ - ξ₁)  + (x₂ - ξ₂) ⎠   2⋅π⋅╲╱  n₁  + n₂  ⋅⎝(x₁ - ξ₁)\n",
       "\n",
       "               \n",
       "───────────────\n",
       "               \n",
       "2            2⎞\n",
       "  + (x₂ - ξ₂) ⎠"
      ]
     },
     "execution_count": 6,
     "metadata": {},
     "output_type": "execute_result"
    }
   ],
   "source": [
    "DirDerE = (n1/sqrt(n1**2+n2**2))*diff(E,x1) + (n2/sqrt(n1**2+n2**2))*diff(E,x2)\n",
    "DirDerE"
   ]
  },
  {
   "cell_type": "markdown",
   "metadata": {},
   "source": [
    "**Task** (optional): Write a function which returns the directional derivative of an expression."
   ]
  },
  {
   "cell_type": "code",
   "execution_count": 7,
   "metadata": {
    "ExecuteTime": {
     "end_time": "2021-02-02T19:42:40.986649Z",
     "start_time": "2021-02-02T19:42:40.981143Z"
    }
   },
   "outputs": [],
   "source": [
    "def ddn(expr):\n",
    "    NewExpr = (n1/sqrt(n1**2+n2**2))*diff(expr,x1) + (n2/sqrt(n1**2+n2**2))*diff(expr,x2)\n",
    "    #NewExpr = diff(expr,x1) + diff(expr,x2)\n",
    "    \n",
    "    return NewExpr\n",
    "    #pass"
   ]
  },
  {
   "cell_type": "code",
   "execution_count": 8,
   "metadata": {
    "ExecuteTime": {
     "end_time": "2021-02-02T19:42:41.222138Z",
     "start_time": "2021-02-02T19:42:40.990421Z"
    }
   },
   "outputs": [
    {
     "data": {
      "image/png": "[encoded data removed]",
      "text/latex": [
       "$\\displaystyle - \\frac{n_{1} \\left(x_{1} - \\xi_{1}\\right)}{2 \\pi \\sqrt{n_{1}^{2} + n_{2}^{2}} \\left(\\left(x_{1} - \\xi_{1}\\right)^{2} + \\left(x_{2} - \\xi_{2}\\right)^{2}\\right)} - \\frac{n_{2} \\left(x_{2} - \\xi_{2}\\right)}{2 \\pi \\sqrt{n_{1}^{2} + n_{2}^{2}} \\left(\\left(x_{1} - \\xi_{1}\\right)^{2} + \\left(x_{2} - \\xi_{2}\\right)^{2}\\right)}$"
      ],
      "text/plain": [
       "                  n₁⋅(x₁ - ξ₁)                                   n₂⋅(x₂ - ξ₂) \n",
       "- ──────────────────────────────────────────── - ─────────────────────────────\n",
       "         ___________                                    ___________           \n",
       "        ╱   2     2  ⎛         2            2⎞         ╱   2     2  ⎛         \n",
       "  2⋅π⋅╲╱  n₁  + n₂  ⋅⎝(x₁ - ξ₁)  + (x₂ - ξ₂) ⎠   2⋅π⋅╲╱  n₁  + n₂  ⋅⎝(x₁ - ξ₁)\n",
       "\n",
       "               \n",
       "───────────────\n",
       "               \n",
       "2            2⎞\n",
       "  + (x₂ - ξ₂) ⎠"
      ]
     },
     "execution_count": 8,
     "metadata": {},
     "output_type": "execute_result"
    }
   ],
   "source": [
    "ddn(E)"
   ]
  },
  {
   "cell_type": "markdown",
   "metadata": {},
   "source": [
    "Reflection principle\n",
    "----------------------------"
   ]
  },
  {
   "cell_type": "markdown",
   "metadata": {},
   "source": [
    "For simple geometries Green's function can sometimes be found by reflecting the fundamental solution at the boundary and linearly combining the fundamental solution with its reflection. "
   ]
  },
  {
   "cell_type": "markdown",
   "metadata": {},
   "source": [
    "![reflection principle](reflection_principle.png)"
   ]
  },
  {
   "cell_type": "markdown",
   "metadata": {},
   "source": [
    "**Task**: Based on $E$, find the solution for the half-space problem\n",
    "\\begin{align*}\n",
    "    \\nabla^2G(x,\\xi) &= -\\delta(x-\\xi), & \\xi\\in\\Omega \\\\\n",
    "    G(x,\\xi) &= 0, & \\xi\\in\\partial\\Omega \\\\\n",
    "    \\Omega &= \\{\\xi\\in\\mathbb{R}^2 : \\xi_2 > 0\\}\n",
    "\\end{align*}\n",
    "\n",
    "*Hint*: https://docs.sympy.org/latest/tutorial/basic_operations.html#substitution"
   ]
  },
  {
   "cell_type": "code",
   "execution_count": 9,
   "metadata": {
    "ExecuteTime": {
     "end_time": "2021-02-02T19:42:41.474523Z",
     "start_time": "2021-02-02T19:42:41.223982Z"
    }
   },
   "outputs": [
    {
     "data": {
      "image/png": "[encoded data removed]",
      "text/latex": [
       "$\\displaystyle \\frac{- x_{2} - \\xi_{2}}{2 \\pi \\left(\\left(x_{1} - \\xi_{1}\\right)^{2} + \\left(- x_{2} - \\xi_{2}\\right)^{2}\\right)} + \\frac{x_{2} - \\xi_{2}}{2 \\pi \\left(\\left(x_{1} - \\xi_{1}\\right)^{2} + \\left(x_{2} - \\xi_{2}\\right)^{2}\\right)}$"
      ],
      "text/plain": [
       "           -x₂ - ξ₂                         x₂ - ξ₂           \n",
       "────────────────────────────── + ─────────────────────────────\n",
       "    ⎛         2             2⎞       ⎛         2            2⎞\n",
       "2⋅π⋅⎝(x₁ - ξ₁)  + (-x₂ - ξ₂) ⎠   2⋅π⋅⎝(x₁ - ξ₁)  + (x₂ - ξ₂) ⎠"
      ]
     },
     "execution_count": 9,
     "metadata": {},
     "output_type": "execute_result"
    }
   ],
   "source": [
    "G = ddn(E)\n",
    "\n",
    "Reflection = G.subs(x2, -x2)\n",
    "TotalGreen = Reflection + G\n",
    "\n",
    "SubsGreen = TotalGreen.subs(n1,0).subs(n2,-1)\n",
    "\n",
    "SubsGreen"
   ]
  },
  {
   "cell_type": "markdown",
   "metadata": {},
   "source": [
    "**Check condition**"
   ]
  },
  {
   "cell_type": "code",
   "execution_count": 10,
   "metadata": {
    "ExecuteTime": {
     "end_time": "2021-02-02T19:42:41.686029Z",
     "start_time": "2021-02-02T19:42:41.476187Z"
    }
   },
   "outputs": [
    {
     "data": {
      "image/png": "[encoded data removed]",
      "text/latex": [
       "$\\displaystyle 0$"
      ],
      "text/plain": [
       "0"
      ]
     },
     "execution_count": 10,
     "metadata": {},
     "output_type": "execute_result"
    }
   ],
   "source": [
    "SubsGreen.subs(xi2,0)"
   ]
  },
  {
   "cell_type": "markdown",
   "metadata": {},
   "source": [
    "**Task**: Based on $E$, find the solution for the half-space problem\n",
    "\\begin{align*}\n",
    "    \\nabla^2G(x,\\xi) &= -\\delta(x-\\xi), & \\xi\\in\\Omega \\\\\n",
    "    \\frac{\\partial G(x,\\xi)}{\\partial n} &= 0, & \\xi\\in\\partial\\Omega \\\\\n",
    "    \\Omega &= \\{\\xi\\in\\mathbb{R}^2 : \\xi_2 > 0\\}\n",
    "\\end{align*}"
   ]
  },
  {
   "cell_type": "code",
   "execution_count": 11,
   "metadata": {
    "ExecuteTime": {
     "end_time": "2021-02-02T19:42:41.907280Z",
     "start_time": "2021-02-02T19:42:41.687998Z"
    }
   },
   "outputs": [
    {
     "data": {
      "image/png": "[encoded data removed]",
      "text/latex": [
       "$\\displaystyle - \\frac{\\log{\\left(\\sqrt{\\left(x_{1} - \\xi_{1}\\right)^{2} + \\left(- x_{2} - \\xi_{2}\\right)^{2}} \\right)}}{2 \\pi} - \\frac{\\log{\\left(\\sqrt{\\left(x_{1} - \\xi_{1}\\right)^{2} + \\left(x_{2} - \\xi_{2}\\right)^{2}} \\right)}}{2 \\pi}$"
      ],
      "text/plain": [
       "     ⎛   __________________________⎞      ⎛   _________________________⎞\n",
       "     ⎜  ╱          2             2 ⎟      ⎜  ╱          2            2 ⎟\n",
       "  log⎝╲╱  (x₁ - ξ₁)  + (-x₂ - ξ₂)  ⎠   log⎝╲╱  (x₁ - ξ₁)  + (x₂ - ξ₂)  ⎠\n",
       "- ────────────────────────────────── - ─────────────────────────────────\n",
       "                 2⋅π                                  2⋅π               "
      ]
     },
     "execution_count": 11,
     "metadata": {},
     "output_type": "execute_result"
    }
   ],
   "source": [
    "Reflection = E.subs(x2, -x2)\n",
    "TotalGreen = Reflection + E\n",
    "TotalGreen"
   ]
  },
  {
   "cell_type": "markdown",
   "metadata": {},
   "source": [
    "**Check condition**\n",
    "\n",
    "\\begin{align*}\n",
    "    \\frac{\\partial G(x,\\xi)}{\\partial n} &= 0, & \\xi\\in\\partial\\Omega\n",
    "\\end{align*}"
   ]
  },
  {
   "cell_type": "code",
   "execution_count": 12,
   "metadata": {
    "ExecuteTime": {
     "end_time": "2021-02-02T19:42:42.142507Z",
     "start_time": "2021-02-02T19:42:41.909024Z"
    }
   },
   "outputs": [
    {
     "data": {
      "image/png": "[encoded data removed]",
      "text/latex": [
       "$\\displaystyle 0$"
      ],
      "text/plain": [
       "0"
      ]
     },
     "execution_count": 12,
     "metadata": {},
     "output_type": "execute_result"
    }
   ],
   "source": [
    "ddn(TotalGreen).subs(n1,0).subs(n2,-1).subs(x2,0)"
   ]
  },
  {
   "cell_type": "code",
   "execution_count": null,
   "metadata": {},
   "outputs": [],
   "source": []
  }
 ],
 "metadata": {
  "kernelspec": {
   "display_name": "Python 3",
   "language": "python",
   "name": "python3"
  },
  "language_info": {
   "codemirror_mode": {
    "name": "ipython",
    "version": 3
   },
   "file_extension": ".py",
   "mimetype": "text/x-python",
   "name": "python",
   "nbconvert_exporter": "python",
   "pygments_lexer": "ipython3",
   "version": "3.5.6"
  }
 },
 "nbformat": 4,
 "nbformat_minor": 4
}
