{
 "cells": [
  {
   "cell_type": "code",
   "execution_count": 1,
   "id": "fresh-afternoon",
   "metadata": {
    "ExecuteTime": {
     "end_time": "2021-02-03T23:06:03.821185Z",
     "start_time": "2021-02-03T23:06:03.816008Z"
    }
   },
   "outputs": [
    {
     "name": "stdout",
     "output_type": "stream",
     "text": [
      "Using Python 3.9.\n"
     ]
    }
   ],
   "source": [
    "import sys\n",
    "print(\"Using Python {}.{}.\".format(sys.version_info.major, sys.version_info.minor))\n"
   ]
  },
  {
   "cell_type": "markdown",
   "id": "floral-memory",
   "metadata": {},
   "source": [
    "## Importing packages"
   ]
  },
  {
   "cell_type": "code",
   "execution_count": 2,
   "id": "cardiovascular-reason",
   "metadata": {
    "ExecuteTime": {
     "end_time": "2021-02-03T23:06:04.431854Z",
     "start_time": "2021-02-03T23:06:03.829705Z"
    }
   },
   "outputs": [],
   "source": [
    "from sympy import *\n",
    "from scipy.optimize import toms748\n",
    "from scipy.integrate import solve_ivp\n",
    "from scipy.integrate import quad\n",
    "import numpy as np\n",
    "init_printing()"
   ]
  },
  {
   "cell_type": "markdown",
   "id": "following-expression",
   "metadata": {},
   "source": [
    "# Function definitions"
   ]
  },
  {
   "cell_type": "code",
   "execution_count": 3,
   "id": "personal-possibility",
   "metadata": {
    "ExecuteTime": {
     "end_time": "2021-02-03T23:06:04.624001Z",
     "start_time": "2021-02-03T23:06:04.433789Z"
    }
   },
   "outputs": [
    {
     "data": {
      "image/png": "[encoded data removed]",
      "text/latex": [
       "$\\displaystyle \\left( \\left[\\begin{matrix}-1\\\\0\\\\0\\end{matrix}\\right], \\  \\left[\\begin{matrix}1 & 0\\\\0 & 0\\\\0 & 0\\\\0 & 1\\end{matrix}\\right], \\  \\left[\\begin{matrix}1 & 0 & 0 & 0\\\\0 & 0 & 0 & 1\\end{matrix}\\right]\\right)$"
      ],
      "text/plain": [
       "⎛      ⎡1  0⎤              ⎞\n",
       "⎜⎡-1⎤  ⎢    ⎥              ⎟\n",
       "⎜⎢  ⎥  ⎢0  0⎥  ⎡1  0  0  0⎤⎟\n",
       "⎜⎢0 ⎥, ⎢    ⎥, ⎢          ⎥⎟\n",
       "⎜⎢  ⎥  ⎢0  0⎥  ⎣0  0  0  1⎦⎟\n",
       "⎜⎣0 ⎦  ⎢    ⎥              ⎟\n",
       "⎝      ⎣0  1⎦              ⎠"
      ]
     },
     "execution_count": 3,
     "metadata": {},
     "output_type": "execute_result"
    }
   ],
   "source": [
    "# Definition of coordinates\n",
    "x1, x2, xi1, xi2 = symbols('x_1 x_2 xi_1 xi_2')\n",
    "# Definition of directional variables\n",
    "n1, n2 = symbols('n_1 n_2')\n",
    "\n",
    "# Definition of sliding direction (Out of plane)\n",
    "n = Matrix([[-1], [0], [0]])"
   ]
  },
  {
   "cell_type": "code",
   "execution_count": 16,
   "id": "graphic-strategy",
   "metadata": {
    "ExecuteTime": {
     "end_time": "2021-02-03T23:11:47.231455Z",
     "start_time": "2021-02-03T23:11:47.027915Z"
    }
   },
   "outputs": [
    {
     "data": {
      "image/png": "[encoded data removed]",
      "text/latex": [
       "$\\displaystyle - \\frac{\\log{\\left(\\sqrt{\\left(12 - \\xi_{2}\\right)^{2} + \\left(x_{1} - \\xi_{1}\\right)^{2}} \\right)}}{2 \\pi}$"
      ],
      "text/plain": [
       "    ⎛   _________________________⎞ \n",
       "    ⎜  ╱          2            2 ⎟ \n",
       "-log⎝╲╱  (12 - ξ₂)  + (x₁ - ξ₁)  ⎠ \n",
       "───────────────────────────────────\n",
       "                2⋅π                "
      ]
     },
     "execution_count": 16,
     "metadata": {},
     "output_type": "execute_result"
    }
   ],
   "source": [
    "# Fundamental solution to laplacian equal to zero and the directional derivative\n",
    "E = -1/(2*pi) * log(sqrt((x1-xi1)**2 + (x2-xi2)**2))\n",
    "def ddn(expr):\n",
    "    NewExpr = (n1/sqrt(n1**2+n2**2))*diff(expr,x1) + (n2/sqrt(n1**2+n2**2))*diff(expr,x2)    \n",
    "    return NewExpr\n",
    "E"
   ]
  },
  {
   "cell_type": "code",
   "execution_count": 5,
   "id": "worthy-certificate",
   "metadata": {
    "ExecuteTime": {
     "end_time": "2021-02-03T23:06:05.085652Z",
     "start_time": "2021-02-03T23:06:04.680058Z"
    }
   },
   "outputs": [
    {
     "data": {
      "image/png": "[encoded data removed]",
      "text/latex": [
       "$\\displaystyle a \\log{\\left(\\frac{S_{r}}{V_{o}} \\right)} + b \\log{\\left(\\frac{V_{o} \\psi}{L} \\right)} + \\mu_{o}$"
      ],
      "text/plain": [
       "     ⎛Sᵣ⎞        ⎛Vₒ⋅ψ⎞     \n",
       "a⋅log⎜──⎟ + b⋅log⎜────⎟ + μₒ\n",
       "     ⎝Vₒ⎠        ⎝ L  ⎠     "
      ]
     },
     "execution_count": 5,
     "metadata": {},
     "output_type": "execute_result"
    }
   ],
   "source": [
    "# Friction law function symbols and function definitio\n",
    "mu, muo, a, Sr, Vo, b, L, psi= symbols('mu mu_o a S_r V_o b L psi')\n",
    "\n",
    "def frictionLaw():\n",
    "    return muo + a*ln(Sr/Vo) + b* ln(Vo*psi/L)\n",
    "\n",
    "# State variable relations\n",
    "def AgingLaw():\n",
    "    return 1-Sr*psi/L\n",
    "\n",
    "def RuinaLaw():\n",
    "    return 1-Sr*psi/L\n",
    "\n",
    "mu = frictionLaw()\n",
    "mu"
   ]
  },
  {
   "cell_type": "code",
   "execution_count": 6,
   "id": "inclusive-marks",
   "metadata": {
    "ExecuteTime": {
     "end_time": "2021-02-03T23:06:05.091222Z",
     "start_time": "2021-02-03T23:06:05.087440Z"
    }
   },
   "outputs": [],
   "source": [
    "# BEM symbols\n",
    "S, Vp, t, tau, Theta, sigmaN, u, eta= symbols('S V_p t tau Theta sigma_n u eta' )\n",
    "ThetaA = symbols('Theta_a')\n",
    "\n"
   ]
  },
  {
   "cell_type": "markdown",
   "id": "heated-stereo",
   "metadata": {},
   "source": [
    "# Implementation Aspects"
   ]
  },
  {
   "cell_type": "markdown",
   "id": "typical-madrid",
   "metadata": {},
   "source": [
    "$\\int_{\\Gamma_F}E\\frac{\\partial u}{\\partial n}dS + \n",
    "\\int_{\\Gamma_D}E\\frac{\\partial u}{\\partial n}dS + \n",
    "{\\int_{\\Gamma_N}E\\frac{\\partial u}{\\partial n}dS} =\n",
    "\\frac{1}{2}u(x)+\n",
    "\\int_{\\Gamma_F}u\\frac{\\partial E}{\\partial n_{\\xi}}dS + \n",
    "\\int_{\\Gamma_D}u\\frac{\\partial E}{\\partial n_{\\xi}}dS + \n",
    "\\int_{\\Gamma_N}u\\frac{\\partial E}{\\partial n_{\\xi}}dS$\n",
    "\n",
    "Taking out the terms that become zero, we obtain\n",
    "\n",
    "$\\int_{\\Gamma_F}E\\frac{\\partial u}{\\partial n}dS + \n",
    "\\int_{\\Gamma_D}E\\frac{\\partial u}{\\partial n}dS\n",
    "=\n",
    "\\frac{1}{2}u(x) + \n",
    "\\int_{\\Gamma_F}u\\frac{\\partial E}{\\partial n_{\\xi}}dS$"
   ]
  },
  {
   "cell_type": "code",
   "execution_count": 24,
   "id": "cardiac-unknown",
   "metadata": {
    "ExecuteTime": {
     "end_time": "2021-02-03T23:16:08.536073Z",
     "start_time": "2021-02-03T23:16:08.343865Z"
    }
   },
   "outputs": [
    {
     "data": {
      "image/png": "[encoded data removed]",
      "text/latex": [
       "$\\displaystyle \\left( \\int_{\\Gamma_F}EdS, \\  \\int_{\\Gamma_D}EdS, \\  \\int_{\\Gamma_N}EdS, \\  W_{f}, \\  W_{a}\\right)$"
      ],
      "text/plain": [
       "(\\int_{\\Gamma_F}EdS, \\int_{\\Gamma_D}EdS, \\int_{\\Gamma_N}EdS, W_f, Wₐ)"
      ]
     },
     "execution_count": 24,
     "metadata": {},
     "output_type": "execute_result"
    }
   ],
   "source": [
    "P1, P2, P3 = symbols('\\int_{\\Gamma_F}EdS \\int_{\\Gamma_D}EdS \\int_{\\Gamma_N}EdS')\n",
    "Wf, Wa = symbols('W_f W_a')\n",
    "P1, P2, P3, Wf, Wa"
   ]
  },
  {
   "cell_type": "code",
   "execution_count": 25,
   "id": "resident-colors",
   "metadata": {
    "ExecuteTime": {
     "end_time": "2021-02-03T23:16:08.937471Z",
     "start_time": "2021-02-03T23:16:08.932081Z"
    }
   },
   "outputs": [],
   "source": [
    "Wa = 10\n",
    "x2 = 12"
   ]
  },
  {
   "cell_type": "code",
   "execution_count": 27,
   "id": "elect-sellers",
   "metadata": {
    "ExecuteTime": {
     "end_time": "2021-02-03T23:16:22.318207Z",
     "start_time": "2021-02-03T23:16:22.117364Z"
    }
   },
   "outputs": [
    {
     "data": {
      "image/png": "[encoded data removed]",
      "text/latex": [
       "$\\displaystyle \\int_{\\Gamma_D}EdS$"
      ],
      "text/plain": [
       "\\int_{\\Gamma_D}EdS"
      ]
     },
     "execution_count": 27,
     "metadata": {},
     "output_type": "execute_result"
    }
   ],
   "source": [
    "# On-fault slip\n",
    "def integrandP1(Chi, wa, xo):\n",
    "    return (ln(abs(xo - wa*Chi)))/Chi**2\n",
    "\n",
    "def ImproperInt(wa, xo):\n",
    "    return -abs(wa)/(2*pi)*quad(integrandP1, 1, np.inf, args=(wa, xo))[0]\n",
    "\n",
    "\n",
    "# On plate boundary\n",
    "def integrandP2(Chi, xo, wf, h):\n",
    "    return ln(abs((xo - wf)-h*(Chi+1)/2))\n",
    "\n",
    "def IntGaussianQuad(xo, wf, h):\n",
    "    if(xo != h/2 + wf):\n",
    "        return -wf/(4.0*pi)*quad(integrandP2, -1, 1, args=(xo, wf, h))[0]\n"
   ]
  },
  {
   "cell_type": "markdown",
   "id": "worldwide-balance",
   "metadata": {},
   "source": [
    "# Putting it all together"
   ]
  },
  {
   "cell_type": "code",
   "execution_count": 29,
   "id": "functioning-lecture",
   "metadata": {
    "ExecuteTime": {
     "end_time": "2021-02-03T23:28:54.140519Z",
     "start_time": "2021-02-03T23:28:53.953119Z"
    }
   },
   "outputs": [
    {
     "data": {
      "image/png": "[encoded data removed]",
      "text/latex": [
       "$\\displaystyle \\left( \\left[\\begin{matrix}1 & 0\\\\0 & 0\\\\0 & 0\\\\0 & 1\\end{matrix}\\right], \\  \\left[\\begin{matrix}1 & 0 & 0 & 0\\\\0 & 0 & 0 & 1\\end{matrix}\\right]\\right)$"
      ],
      "text/plain": [
       "⎛⎡1  0⎤              ⎞\n",
       "⎜⎢    ⎥              ⎟\n",
       "⎜⎢0  0⎥  ⎡1  0  0  0⎤⎟\n",
       "⎜⎢    ⎥, ⎢          ⎥⎟\n",
       "⎜⎢0  0⎥  ⎣0  0  0  1⎦⎟\n",
       "⎜⎢    ⎥              ⎟\n",
       "⎝⎣0  1⎦              ⎠"
      ]
     },
     "execution_count": 29,
     "metadata": {},
     "output_type": "execute_result"
    }
   ],
   "source": [
    "# Definition of mapping matrix from quantities to BEM \n",
    "M = Matrix([[1, 0], [0, 0], [0, 0], [0, 1]])\n",
    "\n",
    "M, M.T"
   ]
  },
  {
   "cell_type": "code",
   "execution_count": null,
   "id": "alert-prefix",
   "metadata": {
    "ExecuteTime": {
     "end_time": "2021-02-03T23:06:05.466911Z",
     "start_time": "2021-02-03T23:06:03.886Z"
    }
   },
   "outputs": [],
   "source": [
    "# Putting it all together\n",
    "S = 2 * u + Vp * t\n",
    "tau = M.T*Theta\n",
    "#Fric = tau + mu * sigmaN + eta* V\n",
    "tau"
   ]
  },
  {
   "cell_type": "markdown",
   "id": "enabling-payday",
   "metadata": {},
   "source": [
    "# Initialization step"
   ]
  },
  {
   "cell_type": "code",
   "execution_count": null,
   "id": "featured-nickname",
   "metadata": {
    "ExecuteTime": {
     "end_time": "2021-02-03T23:06:05.468526Z",
     "start_time": "2021-02-03T23:06:03.894Z"
    }
   },
   "outputs": [],
   "source": [
    "u = ln(abs(x2))\n",
    "u"
   ]
  },
  {
   "cell_type": "code",
   "execution_count": null,
   "id": "dated-record",
   "metadata": {
    "ExecuteTime": {
     "end_time": "2021-02-03T23:06:05.469961Z",
     "start_time": "2021-02-03T23:06:03.896Z"
    }
   },
   "outputs": [],
   "source": [
    "Theta = ThetaA*abs(a)**2/x2**2\n",
    "Theta"
   ]
  },
  {
   "cell_type": "code",
   "execution_count": null,
   "id": "opened-travel",
   "metadata": {},
   "outputs": [],
   "source": []
  }
 ],
 "metadata": {
  "kernelspec": {
   "display_name": "Python 3",
   "language": "python",
   "name": "python3"
  },
  "language_info": {
   "codemirror_mode": {
    "name": "ipython",
    "version": 3
   },
   "file_extension": ".py",
   "mimetype": "text/x-python",
   "name": "python",
   "nbconvert_exporter": "python",
   "pygments_lexer": "ipython3",
   "version": "3.9.1"
  }
 },
 "nbformat": 4,
 "nbformat_minor": 5
}
