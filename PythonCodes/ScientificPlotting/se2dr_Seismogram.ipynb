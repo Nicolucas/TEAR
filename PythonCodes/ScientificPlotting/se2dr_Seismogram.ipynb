{
 "cells": [
  {
   "cell_type": "markdown",
   "metadata": {},
   "source": [
    "# se2dr Sesmogram plotting [test]\n",
    "\n",
    "seismogram plotting extracted from se2dr files. \n",
    "\n",
    "* It should allow to extract seismograms at a location wrt the fault and wrt to the mesh. \n",
    "\n",
    "* In case of the seismogram wrt the fault local reference system, accept a dictionary with the plot information\n",
    "* By default, extract the seismogram mesh aligned\n",
    "\n"
   ]
  },
  {
   "cell_type": "code",
   "execution_count": 1,
   "metadata": {},
   "outputs": [],
   "source": [
    "import numpy as np\n",
    "import matplotlib.pyplot as plt\n",
    "plt.style.use('science')\n",
    "\n",
    "import os, sys, time\n",
    "from glob import glob\n",
    "\n",
    "sys.path.insert(0,\"/home/nico/Tools/petsc-3.12.5/lib/petsc/bin/\")\n",
    "sys.path.insert(0,\"/home/nico/Documents/TEAR/Codes_TEAR/se2dr/se2wave/utils/python/\")\n",
    "sys.path.insert(0,\"/home/nico/Documents/TEAR/Codes_TEAR/PythonCodes/LibFolder\")\n",
    "from se2waveload import *\n",
    "from Lib_GeneralFunctions import *\n",
    "\n",
    "from Lib_ProfileProcessing import *\n",
    "from GeneratePaperFigs import *\n"
   ]
  },
  {
   "cell_type": "code",
   "execution_count": 2,
   "metadata": {},
   "outputs": [],
   "source": [
    "xx = np.linspace(-1.e4, 1.e4, 6001)\n",
    "\n",
    "HorizontalZeroSDF = ZeroLevelSet(xx,Tiltfunc(xx, theta = 0), Tiltfunc_der(xx, theta = 0), \"Horizontal SDF\")\n",
    "TiltedZeroSDF     = ZeroLevelSet(xx,Tiltfunc(xx, theta = 20*np.pi/180), Tiltfunc_der(xx, theta = 20*np.pi/180), \"Tilted 20deg SDF\")\n",
    "SigmZeroSDF       = ZeroLevelSet(xx,func(xx),func_der(xx), \"Sigmoid SDF\")\n"
   ]
  },
  {
   "cell_type": "code",
   "execution_count": 3,
   "metadata": {
    "scrolled": true
   },
   "outputs": [
    {
     "data": {
      "image/png": "[encoded data removed]",
      "text/plain": [
       "<Figure size 432x288 with 1 Axes>"
      ]
     },
     "metadata": {
      "needs_background": "light"
     },
     "output_type": "display_data"
    }
   ],
   "source": [
    "HorizontalZeroSDF.PlotZeroLevelSet()\n",
    "TiltedZeroSDF.PlotZeroLevelSet()\n",
    "SigmZeroSDF.PlotZeroLevelSet()\n",
    "plt.xlim([-10000,10000])\n",
    "plt.ylim([-10000,10000])\n",
    "plt.gca().set_aspect('equal', adjustable='box')"
   ]
  },
  {
   "cell_type": "markdown",
   "metadata": {},
   "source": [
    "# Extract the information for the profiles\n",
    "\n",
    "## First the reference"
   ]
  },
  {
   "cell_type": "code",
   "execution_count": 4,
   "metadata": {},
   "outputs": [],
   "source": [
    "start_time = time.time()\n",
    "fname = \"step-{timestep:04}_wavefield.pbin\"\n",
    "path = \"/home/nico/Desktop/EGU2021/SigmoidPlotP1/\"\n",
    "\n",
    "\n",
    "i=2250\n",
    "FieldFilename = os.path.join(path,fname.format(timestep=i))\n",
    "\n",
    "MeshFilename = os.path.join(path, \"default_mesh_coor.pbin\")\n",
    "se2_coor = se2wave_load_coordinates(MeshFilename)\n",
    "\n",
    "TimeStepVal, LCoorX, LCoorY, LFieldX, LFieldY, LFieldvelX, LFieldvelY =  ExtractFields(FieldFilename, se2_coor)\n",
    "\n",
    "SplineDispl = [RectBivariateSpline(LCoorX[:,0], LCoorY[0,:], LFieldX, kx=1, ky=1), \n",
    "                    RectBivariateSpline(LCoorX[:,0], LCoorY[0,:], LFieldY, kx=1, ky=1)]\n",
    "SplineVel = [RectBivariateSpline(LCoorX[:,0], LCoorY[0,:], LFieldvelX, kx=1, ky=1), \n",
    "                    RectBivariateSpline(LCoorX[:,0], LCoorY[0,:], LFieldvelY, kx=1, ky=1)]"
   ]
  },
  {
   "cell_type": "code",
   "execution_count": 5,
   "metadata": {},
   "outputs": [
    {
     "data": {
      "text/plain": [
       "(0.14100327501617535, 0.1696740900082932)"
      ]
     },
     "execution_count": 5,
     "metadata": {},
     "output_type": "execute_result"
    }
   ],
   "source": [
    "RandomLoc = [0,4000]\n",
    "\n",
    "\n",
    "GetOnlyLocData(Loc=RandomLoc,SplineFunction=SplineDispl)"
   ]
  },
  {
   "cell_type": "code",
   "execution_count": 6,
   "metadata": {},
   "outputs": [],
   "source": [
    "FileList = glob(os.path.join(path,\"step-{timestep}_wavefield.pbin\".format(timestep=\"*\")))\n",
    "l = [i.replace(os.path.join(path,'step-'),'').replace('_wavefield.pbin','') for i in FileList]"
   ]
  },
  {
   "cell_type": "code",
   "execution_count": 7,
   "metadata": {},
   "outputs": [
    {
     "data": {
      "text/plain": [
       "['2250']"
      ]
     },
     "execution_count": 7,
     "metadata": {},
     "output_type": "execute_result"
    }
   ],
   "source": [
    "l"
   ]
  },
  {
   "cell_type": "code",
   "execution_count": null,
   "metadata": {},
   "outputs": [],
   "source": []
  }
 ],
 "metadata": {
  "kernelspec": {
   "display_name": "Python 3.5.6 64-bit ('jane': conda)",
   "language": "python",
   "name": "python356jvsc74a57bd01c3e94ec8b35f323c9f6611a9029fda02adce9b47d4aeb34745972bf91fa4bfa"
  },
  "language_info": {
   "codemirror_mode": {
    "name": "ipython",
    "version": 3
   },
   "file_extension": ".py",
   "mimetype": "text/x-python",
   "name": "python",
   "nbconvert_exporter": "python",
   "pygments_lexer": "ipython3",
   "version": "3.5.6"
  }
 },
 "nbformat": 4,
 "nbformat_minor": 2
}
