{
 "cells": [
  {
   "cell_type": "markdown",
   "metadata": {},
   "source": [
    "# SeismogramSampler Sandbox"
   ]
  },
  {
   "cell_type": "code",
   "execution_count": 1,
   "metadata": {},
   "outputs": [],
   "source": [
    "import os, sys, glob\n",
    "from matplotlib import pyplot as plt\n",
    "from scipy.interpolate import RectBivariateSpline\n",
    "\n",
    "sys.path.insert(0,\"/home/nico/Tools/petsc-3.12.5/lib/petsc/bin/\")\n",
    "sys.path.insert(0,\"/home/nico/Documents/TEAR/Codes_TEAR/se2dr/se2wave/utils/python/\")\n",
    "sys.path.insert(0,\"/home/nico/Documents/TEAR/Codes_TEAR/PythonCodes/LibFolder\")\n",
    "from Lib_GeneralFunctions import *\n",
    "from Lib_ProfilePlotting import *\n",
    "from Lib_ProfileProcessing import *\n",
    "\n",
    "from se2waveload import *\n"
   ]
  },
  {
   "cell_type": "code",
   "execution_count": 4,
   "metadata": {},
   "outputs": [],
   "source": [
    "# Receivers of interest\n",
    "\n",
    "ListReceivers = [[0,0],[1000,0],[2000,0]]\n",
    "# Make a better version of this, perhaps stacking two lists to not make it so manual\n",
    "ListReceiversObj = [SingleReceiver(coords) for coords in ListReceivers]\n",
    "NRec = len(ListReceivers) "
   ]
  },
  {
   "cell_type": "code",
   "execution_count": 2,
   "metadata": {},
   "outputs": [
    {
     "ename": "NameError",
     "evalue": "name 'LFieldX' is not defined",
     "output_type": "error",
     "traceback": [
      "\u001b[0;31m---------------------------------------------------------------------------\u001b[0m",
      "\u001b[0;31mNameError\u001b[0m                                 Traceback (most recent call last)",
      "\u001b[0;32m<ipython-input-2-c215e47a3e5e>\u001b[0m in \u001b[0;36m<module>\u001b[0;34m()\u001b[0m\n\u001b[1;32m     32\u001b[0m \u001b[0;34m\u001b[0m\u001b[0m\n\u001b[1;32m     33\u001b[0m \u001b[0;31m# Create the SPline function in a specific Field\u001b[0m\u001b[0;34m\u001b[0m\u001b[0;34m\u001b[0m\u001b[0m\n\u001b[0;32m---> 34\u001b[0;31m SplineFunction = [RectBivariateSpline(LCoorX[:,0], LCoorY[0,:], LFieldX), \n\u001b[0m\u001b[1;32m     35\u001b[0m                   RectBivariateSpline(LCoorX[:,0], LCoorY[0,:], LFieldY)]\n\u001b[1;32m     36\u001b[0m \u001b[0;34m\u001b[0m\u001b[0m\n",
      "\u001b[0;31mNameError\u001b[0m: name 'LFieldX' is not defined"
     ]
    }
   ],
   "source": [
    "# Params\n",
    "path = \"/home/nico/Documents/TEAR/Codes_TEAR/PythonCodes/ConferencesFigures/EGU2021/TiltedData/18deg/\"\n",
    "filename = os.path.join(path,\"default_mesh_coor.pbin\")\n",
    "OutputFolder=\"/home/nico/Documents/TEAR/Codes_TEAR/ProfilePicking/Output/\"+GetTodayDate()+\"/\"\n",
    "\n",
    "CreateFolder(OutputFolder)\n",
    "\n",
    "se2_coor = se2wave_load_coordinates(filename)\n",
    "\n",
    "# Get a list of available files with a pattern name\n",
    "files = glob(os.path.join(path,\"step-*_wavefield.pbin\"))\n",
    "SortedFileNames = sorted(files)\n",
    "w_filename = SortedFileNames[-1]\n",
    "\n",
    "PopulateReceiverListObj(w_filename, ListReceivers, ListReceiversObj)\n"
   ]
  },
  {
   "cell_type": "code",
   "execution_count": null,
   "metadata": {},
   "outputs": [],
   "source": []
  },
  {
   "cell_type": "code",
   "execution_count": null,
   "metadata": {},
   "outputs": [],
   "source": []
  }
 ],
 "metadata": {
  "kernelspec": {
   "display_name": "Python 3",
   "language": "python",
   "name": "python3"
  },
  "language_info": {
   "codemirror_mode": {
    "name": "ipython",
    "version": 3
   },
   "file_extension": ".py",
   "mimetype": "text/x-python",
   "name": "python",
   "nbconvert_exporter": "python",
   "pygments_lexer": "ipython3",
   "version": "3.5.6"
  }
 },
 "nbformat": 4,
 "nbformat_minor": 2
}
