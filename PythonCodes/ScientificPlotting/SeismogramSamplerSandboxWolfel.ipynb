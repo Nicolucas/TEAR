{
 "cells": [
  {
   "cell_type": "markdown",
   "metadata": {},
   "source": [
    "# SeismogramSampler Sandbox Wolfel"
   ]
  },
  {
   "cell_type": "code",
   "execution_count": 1,
   "metadata": {
    "ExecuteTime": {
     "end_time": "2021-11-15T13:22:12.899906Z",
     "start_time": "2021-11-15T13:22:12.837186Z"
    }
   },
   "outputs": [],
   "source": [
    "import os, sys, glob\n",
    "from matplotlib import pyplot as plt\n",
    "from scipy.interpolate import RectBivariateSpline\n",
    "\n",
    "sys.path.insert(0,\"/import/freenas-m-03-geodynamics/jhayek/petsc-3.12.5/lib/petsc/bin/\")\n",
    "sys.path.insert(0,\"/import/freenas-m-03-geodynamics/jhayek/TEAR/se2wave/utils/python\")\n",
    "sys.path.insert(0,\"/import/freenas-m-03-geodynamics/jhayek/TEAR/processing/TEAR/PythonCodes/LibFolder\")\n",
    "\n",
    "from Lib_GeneralFunctions import *\n",
    "from Lib_ProfilePlotting import *\n",
    "from Lib_ProfileProcessing import *\n",
    "from Lib_SigmoidProcessing import *\n",
    "\n",
    "from se2waveload import *\n"
   ]
  },
  {
   "cell_type": "code",
   "execution_count": 2,
   "metadata": {
    "ExecuteTime": {
     "end_time": "2021-11-15T13:21:32.256702Z",
     "start_time": "2021-11-15T13:21:32.235109Z"
    }
   },
   "outputs": [],
   "source": [
    "# Receivers of interest\n",
    "\n",
    "ListReceivers = [[   0, 25],[   0, 50],[   0, 75],[   0, 100],[   0, 150],[   0, 200],[   0, 300],[   0,400],[   0,500],\n",
    "                 [2000, 25],[2000, 50],[2000, 75],[2000, 100],[2000, 150],[2000, 200],[2000, 300],[2000,400],[2000,500],\n",
    "                 [4000, 25],[4000, 50],[4000, 75],[4000, 100],[4000, 150],[4000, 200],[4000, 300],[4000,400],[4000,500],\n",
    "                 [6000, 25],[6000, 50],[6000, 75],[6000, 100],[6000, 150],[6000, 200],[6000, 300],[6000,400],[6000,500],\n",
    "                 [8000, 25],[8000, 50],[8000, 75],[8000, 100],[8000, 150],[8000, 200],[8000, 300],[8000,400],[8000,500],\n",
    "                ]\n",
    "# Make a better version of this, perhaps stacking two lists to not make it so manual\n",
    "ListReceiversObj = [SingleReceiver(coords) for coords in ListReceivers]\n",
    "NRec = len(ListReceivers) "
   ]
  },
  {
   "cell_type": "code",
   "execution_count": 3,
   "metadata": {},
   "outputs": [
    {
     "data": {
      "text/plain": [
       "[Single Receiver ([0, 25]),\n",
       " Single Receiver ([0, 50]),\n",
       " Single Receiver ([0, 75]),\n",
       " Single Receiver ([0, 100]),\n",
       " Single Receiver ([0, 150]),\n",
       " Single Receiver ([0, 200]),\n",
       " Single Receiver ([0, 300]),\n",
       " Single Receiver ([0, 400]),\n",
       " Single Receiver ([0, 500]),\n",
       " Single Receiver ([2000, 25]),\n",
       " Single Receiver ([2000, 50]),\n",
       " Single Receiver ([2000, 75]),\n",
       " Single Receiver ([2000, 100]),\n",
       " Single Receiver ([2000, 150]),\n",
       " Single Receiver ([2000, 200]),\n",
       " Single Receiver ([2000, 300]),\n",
       " Single Receiver ([2000, 400]),\n",
       " Single Receiver ([2000, 500]),\n",
       " Single Receiver ([4000, 25]),\n",
       " Single Receiver ([4000, 50]),\n",
       " Single Receiver ([4000, 75]),\n",
       " Single Receiver ([4000, 100]),\n",
       " Single Receiver ([4000, 150]),\n",
       " Single Receiver ([4000, 200]),\n",
       " Single Receiver ([4000, 300]),\n",
       " Single Receiver ([4000, 400]),\n",
       " Single Receiver ([4000, 500]),\n",
       " Single Receiver ([6000, 25]),\n",
       " Single Receiver ([6000, 50]),\n",
       " Single Receiver ([6000, 75]),\n",
       " Single Receiver ([6000, 100]),\n",
       " Single Receiver ([6000, 150]),\n",
       " Single Receiver ([6000, 200]),\n",
       " Single Receiver ([6000, 300]),\n",
       " Single Receiver ([6000, 400]),\n",
       " Single Receiver ([6000, 500]),\n",
       " Single Receiver ([8000, 25]),\n",
       " Single Receiver ([8000, 50]),\n",
       " Single Receiver ([8000, 75]),\n",
       " Single Receiver ([8000, 100]),\n",
       " Single Receiver ([8000, 150]),\n",
       " Single Receiver ([8000, 200]),\n",
       " Single Receiver ([8000, 300]),\n",
       " Single Receiver ([8000, 400]),\n",
       " Single Receiver ([8000, 500])]"
      ]
     },
     "execution_count": 3,
     "metadata": {},
     "output_type": "execute_result"
    }
   ],
   "source": [
    "ListReceiversObj"
   ]
  },
  {
   "cell_type": "code",
   "execution_count": 4,
   "metadata": {},
   "outputs": [
    {
     "name": "stderr",
     "output_type": "stream",
     "text": [
      "/import/freenas-m-03-geodynamics/jhayek/petsc-3.12.5/lib/petsc/bin/petsc_conf.py:22: UserWarning: PETSC_DIR env not set - unable to locate PETSc installation, using defaults\n",
      "  warnings.warn('PETSC_DIR env not set - unable to locate PETSc installation, using defaults')\n"
     ]
    }
   ],
   "source": [
    "# Params\n",
    "path = \"/import/freenas-m-03-geodynamics/jhayek/TEAR/Results/T2/Runs/TEAR7_TPV_T0_P3_025x025_d1.001_7sec/\"\n",
    "filename = os.path.join(path,\"default_mesh_coor.pbin\")\n",
    "OutputFolder=\"/import/freenas-m-03-geodynamics/jhayek/SharedWolfel/PaperData/Output/\"+GetTodayDate()+\"/\"\n",
    "\n",
    "CreateFolder(OutputFolder)\n",
    "\n",
    "se2_coor = se2wave_load_coordinates(filename)\n",
    "\n",
    "# Get a list of available files with a pattern name\n",
    "files = glob(os.path.join(path,\"step-*_wavefield.pbin\"))\n",
    "SortedFileNames = sorted(files)\n",
    "#w_filename = SortedFileNames[-1]\n",
    "\n",
    "for w_filename in SortedFileNames:\n",
    "    PopulateReceiverListObj(w_filename, se2_coor, ListReceivers, ListReceiversObj)\n"
   ]
  },
  {
   "cell_type": "code",
   "execution_count": 5,
   "metadata": {},
   "outputs": [],
   "source": [
    "SavePickleFile(OutputFolder, \"Receiver_TPV3_T0_P3_025x025_d1.001.pickle\", \n",
    "               ListReceiversObj)"
   ]
  },
  {
   "cell_type": "code",
   "execution_count": null,
   "metadata": {},
   "outputs": [],
   "source": []
  }
 ],
 "metadata": {
  "hide_input": false,
  "kernelspec": {
   "display_name": "Python 3",
   "language": "python",
   "name": "python3"
  },
  "language_info": {
   "codemirror_mode": {
    "name": "ipython",
    "version": 3
   },
   "file_extension": ".py",
   "mimetype": "text/x-python",
   "name": "python",
   "nbconvert_exporter": "python",
   "pygments_lexer": "ipython3",
   "version": "3.5.6"
  }
 },
 "nbformat": 4,
 "nbformat_minor": 2
}
