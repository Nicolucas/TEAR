{
 "cells": [
  {
   "cell_type": "code",
   "execution_count": 1,
   "metadata": {
    "ExecuteTime": {
     "end_time": "2021-07-06T12:15:42.916692Z",
     "start_time": "2021-07-06T12:15:42.487608Z"
    }
   },
   "outputs": [],
   "source": [
    "import os, sys, time\n",
    "import numpy as np\n",
    "from scipy.interpolate import RectBivariateSpline\n",
    "from sklearn.metrics.pairwise import euclidean_distances\n",
    "\n",
    "import matplotlib.pylab as plt\n",
    "\n",
    "\n",
    "\n",
    "\n",
    "sys.path.insert(0,\"/home/nico/Documents/TEAR/Codes_TEAR/PythonCodes/LibFolder\")\n",
    "sys.path.insert(0,\"/home/nico/Documents/TEAR/Codes_TEAR/se2dr/se2wave/utils/python\")\n",
    "from se2waveload import *\n",
    "from Lib_GeneralFunctions import *\n",
    "\n",
    "from mpl_toolkits.axes_grid1 import ImageGrid"
   ]
  },
  {
   "cell_type": "code",
   "execution_count": 2,
   "metadata": {
    "ExecuteTime": {
     "end_time": "2021-07-06T12:15:42.918719Z",
     "start_time": "2021-07-06T12:15:42.746Z"
    }
   },
   "outputs": [],
   "source": [
    "# Sigmoid or any function of interest to represent the center of the fault / Zero level set function\n",
    "def func(x, k=-0.0002, amp = 2.0):\n",
    "    fx = amp * (x - x * k) / (k - abs(x) * 2.0 * k + 1.0)\n",
    "    return fx\n",
    "\n",
    "# The respective derivative ofthe previous zero level set function\n",
    "def func_der(x, k=-0.0002, amp = 2.0):\n",
    "    fx_prime = amp * (1 - k * k) / ((k - abs(x) * 2.0 * k + 1.0)*(k - abs(x) * 2.0 * k + 1.0))\n",
    "    return fx_prime\n",
    "\n",
    "\n",
    "# Tangent vector for a given derivative\n",
    "def TangentVector(fPrimeX, **kwargs):\n",
    "    mag = np.sqrt(1.0 + fPrimeX * fPrimeX)\n",
    "    \n",
    "    TangentX = 1.0/mag\n",
    "    TangentY = fPrimeX/mag\n",
    "    return TangentX, TangentY\n",
    "\n",
    "# Normal vector for a given derivative\n",
    "def NormalVector(fPrimeX, **kwargs):\n",
    "    mag = np.sqrt(1.0 + fPrimeX * fPrimeX)\n",
    "    \n",
    "    NormalX = -fPrimeX/mag\n",
    "    NormalY = 1.0/mag\n",
    "    \n",
    "    return NormalX, NormalY\n",
    "\n"
   ]
  },
  {
   "cell_type": "code",
   "execution_count": 3,
   "metadata": {
    "ExecuteTime": {
     "end_time": "2021-07-06T12:15:43.116848Z",
     "start_time": "2021-07-06T12:15:43.105334Z"
    }
   },
   "outputs": [
    {
     "data": {
      "text/plain": [
       "[<matplotlib.lines.Line2D at 0x14a8befa49b0>]"
      ]
     },
     "execution_count": 3,
     "metadata": {},
     "output_type": "execute_result"
    },
    {
     "data": {
      "image/png": "[encoded data removed]",
      "text/plain": [
       "<Figure size 432x288 with 1 Axes>"
      ]
     },
     "metadata": {
      "needs_background": "light"
     },
     "output_type": "display_data"
    }
   ],
   "source": [
    "#Test\n",
    "plt.figure()\n",
    "xx = np.linspace(-1.e4, 1.e4, 6001)\n",
    "plt.plot(xx,func(xx),\"k-\")"
   ]
  },
  {
   "cell_type": "code",
   "execution_count": 4,
   "metadata": {
    "ExecuteTime": {
     "end_time": "2021-07-06T12:15:43.400762Z",
     "start_time": "2021-07-06T12:15:43.387879Z"
    }
   },
   "outputs": [
    {
     "data": {
      "text/plain": [
       "0.0"
      ]
     },
     "execution_count": 4,
     "metadata": {},
     "output_type": "execute_result"
    }
   ],
   "source": [
    "xx[3000]"
   ]
  },
  {
   "cell_type": "code",
   "execution_count": 5,
   "metadata": {
    "ExecuteTime": {
     "end_time": "2021-07-06T12:15:43.739413Z",
     "start_time": "2021-07-06T12:15:43.721612Z"
    }
   },
   "outputs": [],
   "source": [
    "def SeparateList(List2Sep,nx,ny):\n",
    "    TotNum = len(List2Sep)\n",
    "    xComponent = List2Sep[0:TotNum:2]\n",
    "    yComponent = List2Sep[1:TotNum:2]\n",
    "\n",
    "    xComponent = np.reshape(xComponent, (nx, ny), \"F\")\n",
    "    yComponent = np.reshape(yComponent, (nx, ny), \"F\")\n",
    "    return xComponent,yComponent\n",
    "\n",
    "\n",
    "def ExtractFields(w_filename, se2_coor):\n",
    "    se2_field = se2wave_load_wavefield(w_filename,True,True)\n",
    "    TimeStep = se2_field[\"time\"].item()\n",
    "\n",
    "    LCoorX, LCoorY         = SeparateList(se2_coor['coor'],   se2_coor['nx'].item(),  se2_coor['ny'].item())\n",
    "    LFieldX, LFieldY       = SeparateList(se2_field['displ'], se2_field['nx'].item(), se2_field['ny'].item())\n",
    "    LFieldvelX, LFieldvelY = SeparateList(se2_field['vel'],   se2_field['nx'].item(), se2_field['ny'].item())\n",
    "    \n",
    "    return TimeStep, LCoorX, LCoorY, LFieldX, LFieldY, LFieldvelX, LFieldvelY\n",
    "\n",
    "\n",
    "def GetBivariateSplineFuncFromFields(LCoorX, LCoorY, LFieldX, LFieldY,LFieldvelX, LFieldvelY):\n",
    "    SplineDispl = [RectBivariateSpline(LCoorX[:,0], LCoorY[0,:], LFieldX, kx=1, ky=1), \n",
    "                   RectBivariateSpline(LCoorX[:,0], LCoorY[0,:], LFieldY, kx=1, ky=1)]\n",
    "    SplineVel = [RectBivariateSpline(LCoorX[:,0], LCoorY[0,:], LFieldvelX, kx=1, ky=1), \n",
    "                 RectBivariateSpline(LCoorX[:,0], LCoorY[0,:], LFieldvelY, kx=1, ky=1)]\n",
    "    \n",
    "    return SplineDispl, SplineVel\n",
    "\n",
    "\n",
    "def GetLocData(Loc, SplineFunction, GetSlip=False):\n",
    "\n",
    "    CompX = SplineFunction[0](Loc[0],Loc[1])[0][0]\n",
    "    CompY = SplineFunction[1](Loc[0],Loc[1])[0][0]\n",
    "    return CompX, CompY\n",
    "\n",
    "\n",
    "# Wrappers\n",
    "def GetSplineFunctions(w_filename, se2_coor):\n",
    "    TimeStepVal, LCoorX, LCoorY, LFieldX, LFieldY, LFieldvelX, LFieldvelY =  ExtractFields(w_filename, se2_coor)\n",
    "    SplineDisplPair, SplineVelPair = GetBivariateSplineFuncFromFields(LCoorX, LCoorY, \n",
    "                                                              LFieldX, LFieldY,\n",
    "                                                              LFieldvelX, LFieldvelY)\n",
    "    return TimeStepVal, SplineDisplPair, SplineVelPair"
   ]
  },
  {
   "cell_type": "code",
   "execution_count": 6,
   "metadata": {
    "ExecuteTime": {
     "end_time": "2021-07-06T12:15:48.523826Z",
     "start_time": "2021-07-06T12:15:48.515148Z"
    }
   },
   "outputs": [],
   "source": [
    "def PlotDomain(CoorX, CoorY, Field, FieldName,TimeTxt,**kwargs):\n",
    "    try:\n",
    "      fig = plt.figure(figsize = (10, 10), constrained_layout=True)\n",
    "      gs = fig.add_gridspec(1, 1)\n",
    "      ax = fig.add_subplot(gs[:, :])\n",
    "    except:\n",
    "      fig = plt.figure(figsize = (10, 10))\n",
    "      ax = fig.add_subplot(1,1,1)\n",
    "    ax.set_title(\"{FName}\".format(FName = FieldName[0]))\n",
    "    ax.set_xlabel(\"X-Coordinate [m]\"), ax.set_ylabel(\"Y-Coordinate [m]\")\n",
    "    ax.set_aspect('equal', 'box')\n",
    "    img = ax.pcolormesh(CoorX, CoorY, Field,**kwargs)\n",
    "\n",
    "    ax.annotate(text=\"T:{0:.2f}s\".format(TimeTxt),xy=[0.8,0.1], xycoords= \"axes fraction\")\n",
    "    cbar = fig.colorbar(img, shrink=.5)\n",
    "    cbar.ax.set_ylabel(FieldName[1])\n",
    "    \n",
    "    return fig, img,ax"
   ]
  },
  {
   "cell_type": "code",
   "execution_count": 7,
   "metadata": {
    "ExecuteTime": {
     "end_time": "2021-07-06T12:15:49.121955Z",
     "start_time": "2021-07-06T12:15:49.099860Z"
    }
   },
   "outputs": [],
   "source": [
    "from palettable.scientific.diverging import Roma_5 as ElColor\n",
    "\n",
    "cmap = ElColor.mpl_colormap"
   ]
  },
  {
   "cell_type": "code",
   "execution_count": 8,
   "metadata": {
    "ExecuteTime": {
     "end_time": "2021-07-06T12:15:50.090463Z",
     "start_time": "2021-07-06T12:15:50.077592Z"
    }
   },
   "outputs": [
    {
     "ename": "ImportError",
     "evalue": "No module named 'petsc_conf'",
     "output_type": "error",
     "traceback": [
      "\u001b[0;31m---------------------------------------------------------------------------\u001b[0m",
      "\u001b[0;31mImportError\u001b[0m                               Traceback (most recent call last)",
      "\u001b[0;32m<ipython-input-8-90b765952b83>\u001b[0m in \u001b[0;36m<module>\u001b[0;34m()\u001b[0m\n\u001b[1;32m     10\u001b[0m \u001b[0;34m\u001b[0m\u001b[0m\n\u001b[1;32m     11\u001b[0m \u001b[0mMeshFilename\u001b[0m \u001b[0;34m=\u001b[0m \u001b[0mos\u001b[0m\u001b[0;34m.\u001b[0m\u001b[0mpath\u001b[0m\u001b[0;34m.\u001b[0m\u001b[0mjoin\u001b[0m\u001b[0;34m(\u001b[0m\u001b[0mpath\u001b[0m\u001b[0;34m,\u001b[0m \u001b[0;34m\"default_mesh_coor.pbin\"\u001b[0m\u001b[0;34m)\u001b[0m\u001b[0;34m\u001b[0m\u001b[0m\n\u001b[0;32m---> 12\u001b[0;31m \u001b[0mse2_coor\u001b[0m \u001b[0;34m=\u001b[0m \u001b[0mse2wave_load_coordinates\u001b[0m\u001b[0;34m(\u001b[0m\u001b[0mMeshFilename\u001b[0m\u001b[0;34m)\u001b[0m\u001b[0;34m\u001b[0m\u001b[0m\n\u001b[0m",
      "\u001b[0;32m/home/nico/Documents/TEAR/Codes_TEAR/se2dr/se2wave/utils/python/se2waveload.py\u001b[0m in \u001b[0;36mse2wave_load_coordinates\u001b[0;34m(filename, debug)\u001b[0m\n\u001b[1;32m     12\u001b[0m \u001b[0;34m\u001b[0m\u001b[0m\n\u001b[1;32m     13\u001b[0m \u001b[0;32mdef\u001b[0m \u001b[0mse2wave_load_coordinates\u001b[0m\u001b[0;34m(\u001b[0m\u001b[0mfilename\u001b[0m\u001b[0;34m,\u001b[0m\u001b[0mdebug\u001b[0m\u001b[0;34m=\u001b[0m\u001b[0;32mFalse\u001b[0m\u001b[0;34m)\u001b[0m\u001b[0;34m:\u001b[0m\u001b[0;34m\u001b[0m\u001b[0m\n\u001b[0;32m---> 14\u001b[0;31m   \u001b[0mio\u001b[0m \u001b[0;34m=\u001b[0m \u001b[0mpio\u001b[0m\u001b[0;34m.\u001b[0m\u001b[0mPetscBinaryIO\u001b[0m\u001b[0;34m(\u001b[0m\u001b[0;34m)\u001b[0m\u001b[0;34m\u001b[0m\u001b[0m\n\u001b[0m\u001b[1;32m     15\u001b[0m   \u001b[0mdata\u001b[0m \u001b[0;34m=\u001b[0m \u001b[0mdict\u001b[0m\u001b[0;34m(\u001b[0m\u001b[0;34m)\u001b[0m\u001b[0;34m\u001b[0m\u001b[0m\n\u001b[1;32m     16\u001b[0m   \u001b[0;32mwith\u001b[0m \u001b[0mopen\u001b[0m\u001b[0;34m(\u001b[0m\u001b[0mfilename\u001b[0m\u001b[0;34m)\u001b[0m \u001b[0;32mas\u001b[0m \u001b[0mfp\u001b[0m\u001b[0;34m:\u001b[0m\u001b[0;34m\u001b[0m\u001b[0m\n",
      "\u001b[0;32m/home/nico/Documents/TEAR/Codes_TEAR/se2dr/se2wave/utils/python/PetscBinaryIO.py\u001b[0m in \u001b[0;36m__init__\u001b[0;34m(self, precision, indices, complexscalars)\u001b[0m\n\u001b[1;32m    184\u001b[0m     \u001b[0;32mdef\u001b[0m \u001b[0m__init__\u001b[0m\u001b[0;34m(\u001b[0m\u001b[0mself\u001b[0m\u001b[0;34m,\u001b[0m \u001b[0mprecision\u001b[0m\u001b[0;34m=\u001b[0m\u001b[0;32mNone\u001b[0m\u001b[0;34m,\u001b[0m \u001b[0mindices\u001b[0m\u001b[0;34m=\u001b[0m\u001b[0;32mNone\u001b[0m\u001b[0;34m,\u001b[0m \u001b[0mcomplexscalars\u001b[0m\u001b[0;34m=\u001b[0m\u001b[0;32mNone\u001b[0m\u001b[0;34m)\u001b[0m\u001b[0;34m:\u001b[0m\u001b[0;34m\u001b[0m\u001b[0m\n\u001b[1;32m    185\u001b[0m         \u001b[0;32mif\u001b[0m \u001b[0;34m(\u001b[0m\u001b[0mprecision\u001b[0m \u001b[0;32mis\u001b[0m \u001b[0;32mNone\u001b[0m\u001b[0;34m)\u001b[0m \u001b[0;32mor\u001b[0m \u001b[0;34m(\u001b[0m\u001b[0mindices\u001b[0m \u001b[0;32mis\u001b[0m \u001b[0;32mNone\u001b[0m\u001b[0;34m)\u001b[0m \u001b[0;32mor\u001b[0m \u001b[0;34m(\u001b[0m\u001b[0mcomplexscalars\u001b[0m \u001b[0;32mis\u001b[0m \u001b[0;32mNone\u001b[0m\u001b[0;34m)\u001b[0m\u001b[0;34m:\u001b[0m\u001b[0;34m\u001b[0m\u001b[0m\n\u001b[0;32m--> 186\u001b[0;31m             \u001b[0;32mimport\u001b[0m \u001b[0mpetsc_conf\u001b[0m\u001b[0;34m\u001b[0m\u001b[0m\n\u001b[0m\u001b[1;32m    187\u001b[0m             \u001b[0mdefaultprecision\u001b[0m\u001b[0;34m,\u001b[0m \u001b[0mdefaultindices\u001b[0m\u001b[0;34m,\u001b[0m \u001b[0mdefaultcomplexscalars\u001b[0m \u001b[0;34m=\u001b[0m \u001b[0mpetsc_conf\u001b[0m\u001b[0;34m.\u001b[0m\u001b[0mget_conf\u001b[0m\u001b[0;34m(\u001b[0m\u001b[0;34m)\u001b[0m\u001b[0;34m\u001b[0m\u001b[0m\n\u001b[1;32m    188\u001b[0m             \u001b[0;32mif\u001b[0m \u001b[0mprecision\u001b[0m \u001b[0;32mis\u001b[0m \u001b[0;32mNone\u001b[0m\u001b[0;34m:\u001b[0m\u001b[0;34m\u001b[0m\u001b[0m\n",
      "\u001b[0;31mImportError\u001b[0m: No module named 'petsc_conf'"
     ]
    }
   ],
   "source": [
    "start_time = time.time()\n",
    "\n",
    "fname = \"step-{timestep:04}_wavefield.pbin\"\n",
    "\n",
    "path = \"/home/nico/Desktop/EGU2021/SigmoidPlotP1/\"\n",
    "\n",
    "\n",
    "i=2250\n",
    "FieldFilename = os.path.join(path,fname.format(timestep=i))\n",
    "\n",
    "MeshFilename = os.path.join(path, \"default_mesh_coor.pbin\")\n",
    "se2_coor = se2wave_load_coordinates(MeshFilename)"
   ]
  },
  {
   "cell_type": "code",
   "execution_count": 8,
   "metadata": {
    "ExecuteTime": {
     "end_time": "2021-07-06T12:15:50.880062Z",
     "start_time": "2021-07-06T12:15:50.865712Z"
    }
   },
   "outputs": [
    {
     "ename": "NameError",
     "evalue": "name 'se2_coor' is not defined",
     "output_type": "error",
     "traceback": [
      "\u001b[0;31m---------------------------------------------------------------------------\u001b[0m",
      "\u001b[0;31mNameError\u001b[0m                                 Traceback (most recent call last)",
      "\u001b[0;32m<ipython-input-8-8d7e44c6ae68>\u001b[0m in \u001b[0;36m<module>\u001b[0;34m\u001b[0m\n\u001b[0;32m----> 1\u001b[0;31m \u001b[0mTimeStepVal\u001b[0m\u001b[0;34m,\u001b[0m \u001b[0mLCoorX\u001b[0m\u001b[0;34m,\u001b[0m \u001b[0mLCoorY\u001b[0m\u001b[0;34m,\u001b[0m \u001b[0mLFieldX\u001b[0m\u001b[0;34m,\u001b[0m \u001b[0mLFieldY\u001b[0m\u001b[0;34m,\u001b[0m \u001b[0mLFieldvelX\u001b[0m\u001b[0;34m,\u001b[0m \u001b[0mLFieldvelY\u001b[0m \u001b[0;34m=\u001b[0m  \u001b[0mExtractFields\u001b[0m\u001b[0;34m(\u001b[0m\u001b[0mFieldFilename\u001b[0m\u001b[0;34m,\u001b[0m \u001b[0mse2_coor\u001b[0m\u001b[0;34m)\u001b[0m\u001b[0;34m\u001b[0m\u001b[0;34m\u001b[0m\u001b[0m\n\u001b[0m",
      "\u001b[0;31mNameError\u001b[0m: name 'se2_coor' is not defined"
     ]
    }
   ],
   "source": [
    "TimeStepVal, LCoorX, LCoorY, LFieldX, LFieldY, LFieldvelX, LFieldvelY =  ExtractFields(FieldFilename, se2_coor)"
   ]
  },
  {
   "cell_type": "code",
   "execution_count": 9,
   "metadata": {
    "ExecuteTime": {
     "end_time": "2021-07-06T12:15:51.412731Z",
     "start_time": "2021-07-06T12:15:51.395272Z"
    },
    "scrolled": false
   },
   "outputs": [
    {
     "ename": "NameError",
     "evalue": "name 'plt' is not defined",
     "output_type": "error",
     "traceback": [
      "\u001b[0;31m---------------------------------------------------------------------------\u001b[0m",
      "\u001b[0;31mNameError\u001b[0m                                 Traceback (most recent call last)",
      "\u001b[0;32m<ipython-input-9-f74574b05c34>\u001b[0m in \u001b[0;36m<module>\u001b[0;34m\u001b[0m\n\u001b[0;32m----> 1\u001b[0;31m \u001b[0mplt\u001b[0m\u001b[0;34m.\u001b[0m\u001b[0mrcParams\u001b[0m\u001b[0;34m[\u001b[0m\u001b[0;34m\"axes.axisbelow\"\u001b[0m\u001b[0;34m]\u001b[0m \u001b[0;34m=\u001b[0m \u001b[0;32mFalse\u001b[0m\u001b[0;34m\u001b[0m\u001b[0;34m\u001b[0m\u001b[0m\n\u001b[0m\u001b[1;32m      2\u001b[0m F1,Im1,ax1 = PlotDomain(LCoorX, LCoorY, LFieldX, \n\u001b[1;32m      3\u001b[0m            \u001b[0;34m[\u001b[0m\u001b[0;34m\"X-Component Displacement \"\u001b[0m\u001b[0;34m,\u001b[0m \u001b[0;34m\"X-Component Displacement [m]\"\u001b[0m\u001b[0;34m]\u001b[0m\u001b[0;34m,\u001b[0m\u001b[0;34m\u001b[0m\u001b[0;34m\u001b[0m\u001b[0m\n\u001b[1;32m      4\u001b[0m            TimeStepVal,cmap=cmap)\n\u001b[1;32m      5\u001b[0m F2,Im2,ax2 = PlotDomain(LCoorX, LCoorY, LFieldY, \n",
      "\u001b[0;31mNameError\u001b[0m: name 'plt' is not defined"
     ]
    }
   ],
   "source": [
    "plt.rcParams[\"axes.axisbelow\"] = False\n",
    "F1,Im1,ax1 = PlotDomain(LCoorX, LCoorY, LFieldX, \n",
    "           [\"X-Component Displacement \", \"X-Component Displacement [m]\"],\n",
    "           TimeStepVal,cmap=cmap)\n",
    "F2,Im2,ax2 = PlotDomain(LCoorX, LCoorY, LFieldY, \n",
    "           [\"Y-Component Displacement \", \"Y-Component Displacement [m]\"],\n",
    "           TimeStepVal,cmap=cmap)\n",
    "F3,Im3,ax3 = PlotDomain(LCoorX, LCoorY, LFieldvelX, \n",
    "           [\"X-Component Velocity \", \"X-Component Velocity [m/s]\"],\n",
    "           TimeStepVal,cmap=cmap)\n",
    "F4,Im4,ax4 = PlotDomain(LCoorX, LCoorY, LFieldvelY, \n",
    "           [\"Y-Component Velocity \", \"Y-Component Velocity [m/s]\"],\n",
    "           TimeStepVal,cmap=cmap)\n",
    "ax3.set_ylim(3400,3900)\n",
    "ax3.set_xlim(6000,7000)\n",
    "ax3.grid(True, which='minor', axis='both', linestyle='-', color='k')"
   ]
  },
  {
   "cell_type": "code",
   "execution_count": null,
   "metadata": {
    "scrolled": false
   },
   "outputs": [],
   "source": [
    "\n"
   ]
  },
  {
   "cell_type": "code",
   "execution_count": 19,
   "metadata": {
    "scrolled": false
   },
   "outputs": [
    {
     "ename": "ImportError",
     "evalue": "No module named 'petsc_conf'",
     "output_type": "error",
     "traceback": [
      "\u001b[0;31m---------------------------------------------------------------------------\u001b[0m",
      "\u001b[0;31mImportError\u001b[0m                               Traceback (most recent call last)",
      "\u001b[0;32m<ipython-input-19-310b1589b088>\u001b[0m in \u001b[0;36m<module>\u001b[0;34m()\u001b[0m\n\u001b[1;32m     10\u001b[0m \u001b[0;34m\u001b[0m\u001b[0m\n\u001b[1;32m     11\u001b[0m \u001b[0mMeshFilename\u001b[0m \u001b[0;34m=\u001b[0m \u001b[0mos\u001b[0m\u001b[0;34m.\u001b[0m\u001b[0mpath\u001b[0m\u001b[0;34m.\u001b[0m\u001b[0mjoin\u001b[0m\u001b[0;34m(\u001b[0m\u001b[0mpath\u001b[0m\u001b[0;34m,\u001b[0m \u001b[0;34m\"default_mesh_coor.pbin\"\u001b[0m\u001b[0;34m)\u001b[0m\u001b[0;34m\u001b[0m\u001b[0m\n\u001b[0;32m---> 12\u001b[0;31m \u001b[0mse2_coor\u001b[0m \u001b[0;34m=\u001b[0m \u001b[0mse2wave_load_coordinates\u001b[0m\u001b[0;34m(\u001b[0m\u001b[0mMeshFilename\u001b[0m\u001b[0;34m)\u001b[0m\u001b[0;34m\u001b[0m\u001b[0m\n\u001b[0m\u001b[1;32m     13\u001b[0m \u001b[0;34m\u001b[0m\u001b[0m\n\u001b[1;32m     14\u001b[0m \u001b[0mTimeStepVal\u001b[0m\u001b[0;34m,\u001b[0m \u001b[0mLCoorX\u001b[0m\u001b[0;34m,\u001b[0m \u001b[0mLCoorY\u001b[0m\u001b[0;34m,\u001b[0m \u001b[0mLFieldX\u001b[0m\u001b[0;34m,\u001b[0m \u001b[0mLFieldY\u001b[0m\u001b[0;34m,\u001b[0m \u001b[0mLFieldvelX\u001b[0m\u001b[0;34m,\u001b[0m \u001b[0mLFieldvelY\u001b[0m \u001b[0;34m=\u001b[0m  \u001b[0mExtractFields\u001b[0m\u001b[0;34m(\u001b[0m\u001b[0mFieldFilename\u001b[0m\u001b[0;34m,\u001b[0m \u001b[0mse2_coor\u001b[0m\u001b[0;34m)\u001b[0m\u001b[0;34m\u001b[0m\u001b[0m\n",
      "\u001b[0;32m/home/nico/Documents/TEAR/Codes_TEAR/se2dr/se2wave/utils/python/se2waveload.py\u001b[0m in \u001b[0;36mse2wave_load_coordinates\u001b[0;34m(filename, debug)\u001b[0m\n\u001b[1;32m     12\u001b[0m \u001b[0;34m\u001b[0m\u001b[0m\n\u001b[1;32m     13\u001b[0m \u001b[0;32mdef\u001b[0m \u001b[0mse2wave_load_coordinates\u001b[0m\u001b[0;34m(\u001b[0m\u001b[0mfilename\u001b[0m\u001b[0;34m,\u001b[0m\u001b[0mdebug\u001b[0m\u001b[0;34m=\u001b[0m\u001b[0;32mFalse\u001b[0m\u001b[0;34m)\u001b[0m\u001b[0;34m:\u001b[0m\u001b[0;34m\u001b[0m\u001b[0m\n\u001b[0;32m---> 14\u001b[0;31m   \u001b[0mio\u001b[0m \u001b[0;34m=\u001b[0m \u001b[0mpio\u001b[0m\u001b[0;34m.\u001b[0m\u001b[0mPetscBinaryIO\u001b[0m\u001b[0;34m(\u001b[0m\u001b[0;34m)\u001b[0m\u001b[0;34m\u001b[0m\u001b[0m\n\u001b[0m\u001b[1;32m     15\u001b[0m   \u001b[0mdata\u001b[0m \u001b[0;34m=\u001b[0m \u001b[0mdict\u001b[0m\u001b[0;34m(\u001b[0m\u001b[0;34m)\u001b[0m\u001b[0;34m\u001b[0m\u001b[0m\n\u001b[1;32m     16\u001b[0m   \u001b[0;32mwith\u001b[0m \u001b[0mopen\u001b[0m\u001b[0;34m(\u001b[0m\u001b[0mfilename\u001b[0m\u001b[0;34m)\u001b[0m \u001b[0;32mas\u001b[0m \u001b[0mfp\u001b[0m\u001b[0;34m:\u001b[0m\u001b[0;34m\u001b[0m\u001b[0m\n",
      "\u001b[0;32m/home/nico/Documents/TEAR/Codes_TEAR/se2dr/se2wave/utils/python/PetscBinaryIO.py\u001b[0m in \u001b[0;36m__init__\u001b[0;34m(self, precision, indices, complexscalars)\u001b[0m\n\u001b[1;32m    184\u001b[0m     \u001b[0;32mdef\u001b[0m \u001b[0m__init__\u001b[0m\u001b[0;34m(\u001b[0m\u001b[0mself\u001b[0m\u001b[0;34m,\u001b[0m \u001b[0mprecision\u001b[0m\u001b[0;34m=\u001b[0m\u001b[0;32mNone\u001b[0m\u001b[0;34m,\u001b[0m \u001b[0mindices\u001b[0m\u001b[0;34m=\u001b[0m\u001b[0;32mNone\u001b[0m\u001b[0;34m,\u001b[0m \u001b[0mcomplexscalars\u001b[0m\u001b[0;34m=\u001b[0m\u001b[0;32mNone\u001b[0m\u001b[0;34m)\u001b[0m\u001b[0;34m:\u001b[0m\u001b[0;34m\u001b[0m\u001b[0m\n\u001b[1;32m    185\u001b[0m         \u001b[0;32mif\u001b[0m \u001b[0;34m(\u001b[0m\u001b[0mprecision\u001b[0m \u001b[0;32mis\u001b[0m \u001b[0;32mNone\u001b[0m\u001b[0;34m)\u001b[0m \u001b[0;32mor\u001b[0m \u001b[0;34m(\u001b[0m\u001b[0mindices\u001b[0m \u001b[0;32mis\u001b[0m \u001b[0;32mNone\u001b[0m\u001b[0;34m)\u001b[0m \u001b[0;32mor\u001b[0m \u001b[0;34m(\u001b[0m\u001b[0mcomplexscalars\u001b[0m \u001b[0;32mis\u001b[0m \u001b[0;32mNone\u001b[0m\u001b[0;34m)\u001b[0m\u001b[0;34m:\u001b[0m\u001b[0;34m\u001b[0m\u001b[0m\n\u001b[0;32m--> 186\u001b[0;31m             \u001b[0;32mimport\u001b[0m \u001b[0mpetsc_conf\u001b[0m\u001b[0;34m\u001b[0m\u001b[0m\n\u001b[0m\u001b[1;32m    187\u001b[0m             \u001b[0mdefaultprecision\u001b[0m\u001b[0;34m,\u001b[0m \u001b[0mdefaultindices\u001b[0m\u001b[0;34m,\u001b[0m \u001b[0mdefaultcomplexscalars\u001b[0m \u001b[0;34m=\u001b[0m \u001b[0mpetsc_conf\u001b[0m\u001b[0;34m.\u001b[0m\u001b[0mget_conf\u001b[0m\u001b[0;34m(\u001b[0m\u001b[0;34m)\u001b[0m\u001b[0;34m\u001b[0m\u001b[0m\n\u001b[1;32m    188\u001b[0m             \u001b[0;32mif\u001b[0m \u001b[0mprecision\u001b[0m \u001b[0;32mis\u001b[0m \u001b[0;32mNone\u001b[0m\u001b[0;34m:\u001b[0m\u001b[0;34m\u001b[0m\u001b[0m\n",
      "\u001b[0;31mImportError\u001b[0m: No module named 'petsc_conf'"
     ]
    }
   ],
   "source": [
    "start_time = time.time()\n",
    "\n",
    "fname = \"step-{timestep:04}_wavefield.pbin\"\n",
    "\n",
    "path = \"/home/nico/Documents/TEAR/Codes_TEAR/PythonCodes/ConferencesFigures/EGU2021/TiltedData/09deg/\"\n",
    "\n",
    "\n",
    "i=1130\n",
    "FieldFilename = os.path.join(path,fname.format(timestep=i))\n",
    "\n",
    "MeshFilename = os.path.join(path, \"default_mesh_coor.pbin\")\n",
    "se2_coor = se2wave_load_coordinates(MeshFilename)\n",
    "\n",
    "TimeStepVal, LCoorX, LCoorY, LFieldX, LFieldY, LFieldvelX, LFieldvelY =  ExtractFields(FieldFilename, se2_coor)\n",
    "\n",
    "F1,Im1,ax1 = PlotDomain(LCoorX, LCoorY, LFieldX, \n",
    "           [\"X-Component Displacement \", \"X-Component Displacement [m]\"],\n",
    "           TimeStepVal,cmap=cmap)\n",
    "F2,Im2,ax2 = PlotDomain(LCoorX, LCoorY, LFieldY, \n",
    "           [\"Y-Component Displacement \", \"Y-Component Displacement [m]\"],\n",
    "           TimeStepVal,cmap=cmap)\n",
    "F3,Im3,ax3 = PlotDomain(LCoorX, LCoorY, LFieldvelX, \n",
    "           [\"X-Component Velocity \", \"X-Component Velocity [m/s]\"],\n",
    "           TimeStepVal,cmap=cmap)\n",
    "F4,Im4,ax4 = PlotDomain(LCoorX, LCoorY, LFieldvelY, \n",
    "           [\"Y-Component Velocity \", \"Y-Component Velocity [m/s]\"],\n",
    "           TimeStepVal,cmap=cmap)\n"
   ]
  },
  {
   "cell_type": "code",
   "execution_count": 20,
   "metadata": {
    "scrolled": false
   },
   "outputs": [
    {
     "ename": "ImportError",
     "evalue": "No module named 'petsc_conf'",
     "output_type": "error",
     "traceback": [
      "\u001b[0;31m---------------------------------------------------------------------------\u001b[0m",
      "\u001b[0;31mImportError\u001b[0m                               Traceback (most recent call last)",
      "\u001b[0;32m<ipython-input-20-bb5d788a876c>\u001b[0m in \u001b[0;36m<module>\u001b[0;34m()\u001b[0m\n\u001b[1;32m     10\u001b[0m \u001b[0;34m\u001b[0m\u001b[0m\n\u001b[1;32m     11\u001b[0m \u001b[0mMeshFilename\u001b[0m \u001b[0;34m=\u001b[0m \u001b[0mos\u001b[0m\u001b[0;34m.\u001b[0m\u001b[0mpath\u001b[0m\u001b[0;34m.\u001b[0m\u001b[0mjoin\u001b[0m\u001b[0;34m(\u001b[0m\u001b[0mpath\u001b[0m\u001b[0;34m,\u001b[0m \u001b[0;34m\"default_mesh_coor.pbin\"\u001b[0m\u001b[0;34m)\u001b[0m\u001b[0;34m\u001b[0m\u001b[0m\n\u001b[0;32m---> 12\u001b[0;31m \u001b[0mse2_coor\u001b[0m \u001b[0;34m=\u001b[0m \u001b[0mse2wave_load_coordinates\u001b[0m\u001b[0;34m(\u001b[0m\u001b[0mMeshFilename\u001b[0m\u001b[0;34m)\u001b[0m\u001b[0;34m\u001b[0m\u001b[0m\n\u001b[0m\u001b[1;32m     13\u001b[0m \u001b[0;34m\u001b[0m\u001b[0m\n\u001b[1;32m     14\u001b[0m \u001b[0mTimeStepVal\u001b[0m\u001b[0;34m,\u001b[0m \u001b[0mLCoorX\u001b[0m\u001b[0;34m,\u001b[0m \u001b[0mLCoorY\u001b[0m\u001b[0;34m,\u001b[0m \u001b[0mLFieldX\u001b[0m\u001b[0;34m,\u001b[0m \u001b[0mLFieldY\u001b[0m\u001b[0;34m,\u001b[0m \u001b[0mLFieldvelX\u001b[0m\u001b[0;34m,\u001b[0m \u001b[0mLFieldvelY\u001b[0m \u001b[0;34m=\u001b[0m  \u001b[0mExtractFields\u001b[0m\u001b[0;34m(\u001b[0m\u001b[0mFieldFilename\u001b[0m\u001b[0;34m,\u001b[0m \u001b[0mse2_coor\u001b[0m\u001b[0;34m)\u001b[0m\u001b[0;34m\u001b[0m\u001b[0m\n",
      "\u001b[0;32m/home/nico/Documents/TEAR/Codes_TEAR/se2dr/se2wave/utils/python/se2waveload.py\u001b[0m in \u001b[0;36mse2wave_load_coordinates\u001b[0;34m(filename, debug)\u001b[0m\n\u001b[1;32m     12\u001b[0m \u001b[0;34m\u001b[0m\u001b[0m\n\u001b[1;32m     13\u001b[0m \u001b[0;32mdef\u001b[0m \u001b[0mse2wave_load_coordinates\u001b[0m\u001b[0;34m(\u001b[0m\u001b[0mfilename\u001b[0m\u001b[0;34m,\u001b[0m\u001b[0mdebug\u001b[0m\u001b[0;34m=\u001b[0m\u001b[0;32mFalse\u001b[0m\u001b[0;34m)\u001b[0m\u001b[0;34m:\u001b[0m\u001b[0;34m\u001b[0m\u001b[0m\n\u001b[0;32m---> 14\u001b[0;31m   \u001b[0mio\u001b[0m \u001b[0;34m=\u001b[0m \u001b[0mpio\u001b[0m\u001b[0;34m.\u001b[0m\u001b[0mPetscBinaryIO\u001b[0m\u001b[0;34m(\u001b[0m\u001b[0;34m)\u001b[0m\u001b[0;34m\u001b[0m\u001b[0m\n\u001b[0m\u001b[1;32m     15\u001b[0m   \u001b[0mdata\u001b[0m \u001b[0;34m=\u001b[0m \u001b[0mdict\u001b[0m\u001b[0;34m(\u001b[0m\u001b[0;34m)\u001b[0m\u001b[0;34m\u001b[0m\u001b[0m\n\u001b[1;32m     16\u001b[0m   \u001b[0;32mwith\u001b[0m \u001b[0mopen\u001b[0m\u001b[0;34m(\u001b[0m\u001b[0mfilename\u001b[0m\u001b[0;34m)\u001b[0m \u001b[0;32mas\u001b[0m \u001b[0mfp\u001b[0m\u001b[0;34m:\u001b[0m\u001b[0;34m\u001b[0m\u001b[0m\n",
      "\u001b[0;32m/home/nico/Documents/TEAR/Codes_TEAR/se2dr/se2wave/utils/python/PetscBinaryIO.py\u001b[0m in \u001b[0;36m__init__\u001b[0;34m(self, precision, indices, complexscalars)\u001b[0m\n\u001b[1;32m    184\u001b[0m     \u001b[0;32mdef\u001b[0m \u001b[0m__init__\u001b[0m\u001b[0;34m(\u001b[0m\u001b[0mself\u001b[0m\u001b[0;34m,\u001b[0m \u001b[0mprecision\u001b[0m\u001b[0;34m=\u001b[0m\u001b[0;32mNone\u001b[0m\u001b[0;34m,\u001b[0m \u001b[0mindices\u001b[0m\u001b[0;34m=\u001b[0m\u001b[0;32mNone\u001b[0m\u001b[0;34m,\u001b[0m \u001b[0mcomplexscalars\u001b[0m\u001b[0;34m=\u001b[0m\u001b[0;32mNone\u001b[0m\u001b[0;34m)\u001b[0m\u001b[0;34m:\u001b[0m\u001b[0;34m\u001b[0m\u001b[0m\n\u001b[1;32m    185\u001b[0m         \u001b[0;32mif\u001b[0m \u001b[0;34m(\u001b[0m\u001b[0mprecision\u001b[0m \u001b[0;32mis\u001b[0m \u001b[0;32mNone\u001b[0m\u001b[0;34m)\u001b[0m \u001b[0;32mor\u001b[0m \u001b[0;34m(\u001b[0m\u001b[0mindices\u001b[0m \u001b[0;32mis\u001b[0m \u001b[0;32mNone\u001b[0m\u001b[0;34m)\u001b[0m \u001b[0;32mor\u001b[0m \u001b[0;34m(\u001b[0m\u001b[0mcomplexscalars\u001b[0m \u001b[0;32mis\u001b[0m \u001b[0;32mNone\u001b[0m\u001b[0;34m)\u001b[0m\u001b[0;34m:\u001b[0m\u001b[0;34m\u001b[0m\u001b[0m\n\u001b[0;32m--> 186\u001b[0;31m             \u001b[0;32mimport\u001b[0m \u001b[0mpetsc_conf\u001b[0m\u001b[0;34m\u001b[0m\u001b[0m\n\u001b[0m\u001b[1;32m    187\u001b[0m             \u001b[0mdefaultprecision\u001b[0m\u001b[0;34m,\u001b[0m \u001b[0mdefaultindices\u001b[0m\u001b[0;34m,\u001b[0m \u001b[0mdefaultcomplexscalars\u001b[0m \u001b[0;34m=\u001b[0m \u001b[0mpetsc_conf\u001b[0m\u001b[0;34m.\u001b[0m\u001b[0mget_conf\u001b[0m\u001b[0;34m(\u001b[0m\u001b[0;34m)\u001b[0m\u001b[0;34m\u001b[0m\u001b[0m\n\u001b[1;32m    188\u001b[0m             \u001b[0;32mif\u001b[0m \u001b[0mprecision\u001b[0m \u001b[0;32mis\u001b[0m \u001b[0;32mNone\u001b[0m\u001b[0;34m:\u001b[0m\u001b[0;34m\u001b[0m\u001b[0m\n",
      "\u001b[0;31mImportError\u001b[0m: No module named 'petsc_conf'"
     ]
    }
   ],
   "source": [
    "start_time = time.time()\n",
    "\n",
    "fname = \"step-{timestep:04}_wavefield.pbin\"\n",
    "\n",
    "path = \"/home/nico/Documents/TEAR/Codes_TEAR/PythonCodes/ConferencesFigures/EGU2021/TiltedData/18deg/\"\n",
    "\n",
    "\n",
    "i=1130\n",
    "FieldFilename = os.path.join(path,fname.format(timestep=i))\n",
    "\n",
    "MeshFilename = os.path.join(path, \"default_mesh_coor.pbin\")\n",
    "se2_coor = se2wave_load_coordinates(MeshFilename)\n",
    "\n",
    "TimeStepVal, LCoorX, LCoorY, LFieldX, LFieldY, LFieldvelX, LFieldvelY =  ExtractFields(FieldFilename, se2_coor)\n",
    "\n",
    "F1,Im1,ax1 = PlotDomain(LCoorX, LCoorY, LFieldX, \n",
    "           [\"X-Component Displacement \", \"X-Component Displacement [m]\"],\n",
    "           TimeStepVal,cmap=cmap)\n",
    "F2,Im2,ax2 = PlotDomain(LCoorX, LCoorY, LFieldY, \n",
    "           [\"Y-Component Displacement \", \"Y-Component Displacement [m]\"],\n",
    "           TimeStepVal,cmap=cmap)\n",
    "F3,Im3,ax3 = PlotDomain(LCoorX, LCoorY, LFieldvelX, \n",
    "           [\"X-Component Velocity \", \"X-Component Velocity [m/s]\"],\n",
    "           TimeStepVal,cmap=cmap)\n",
    "F4,Im4,ax4 = PlotDomain(LCoorX, LCoorY, LFieldvelY, \n",
    "           [\"Y-Component Velocity \", \"Y-Component Velocity [m/s]\"],\n",
    "           TimeStepVal,cmap=cmap)\n"
   ]
  },
  {
   "cell_type": "code",
   "execution_count": 10,
   "metadata": {
    "scrolled": false
   },
   "outputs": [
    {
     "ename": "NameError",
     "evalue": "name 'se2wave_load_coordinates' is not defined",
     "output_type": "error",
     "traceback": [
      "\u001b[0;31m---------------------------------------------------------------------------\u001b[0m",
      "\u001b[0;31mNameError\u001b[0m                                 Traceback (most recent call last)",
      "\u001b[0;32m<ipython-input-10-02921981f2d5>\u001b[0m in \u001b[0;36m<module>\u001b[0;34m()\u001b[0m\n\u001b[1;32m     10\u001b[0m \u001b[0;34m\u001b[0m\u001b[0m\n\u001b[1;32m     11\u001b[0m \u001b[0mMeshFilename\u001b[0m \u001b[0;34m=\u001b[0m \u001b[0mos\u001b[0m\u001b[0;34m.\u001b[0m\u001b[0mpath\u001b[0m\u001b[0;34m.\u001b[0m\u001b[0mjoin\u001b[0m\u001b[0;34m(\u001b[0m\u001b[0mpath\u001b[0m\u001b[0;34m,\u001b[0m \u001b[0;34m\"default_mesh_coor.pbin\"\u001b[0m\u001b[0;34m)\u001b[0m\u001b[0;34m\u001b[0m\u001b[0m\n\u001b[0;32m---> 12\u001b[0;31m \u001b[0mse2_coor\u001b[0m \u001b[0;34m=\u001b[0m \u001b[0mse2wave_load_coordinates\u001b[0m\u001b[0;34m(\u001b[0m\u001b[0mMeshFilename\u001b[0m\u001b[0;34m)\u001b[0m\u001b[0;34m\u001b[0m\u001b[0m\n\u001b[0m\u001b[1;32m     13\u001b[0m \u001b[0;34m\u001b[0m\u001b[0m\n\u001b[1;32m     14\u001b[0m \u001b[0mTimeStepVal\u001b[0m\u001b[0;34m,\u001b[0m \u001b[0mLCoorX\u001b[0m\u001b[0;34m,\u001b[0m \u001b[0mLCoorY\u001b[0m\u001b[0;34m,\u001b[0m \u001b[0mLFieldX\u001b[0m\u001b[0;34m,\u001b[0m \u001b[0mLFieldY\u001b[0m\u001b[0;34m,\u001b[0m \u001b[0mLFieldvelX\u001b[0m\u001b[0;34m,\u001b[0m \u001b[0mLFieldvelY\u001b[0m \u001b[0;34m=\u001b[0m  \u001b[0mExtractFields\u001b[0m\u001b[0;34m(\u001b[0m\u001b[0mFieldFilename\u001b[0m\u001b[0;34m,\u001b[0m \u001b[0mse2_coor\u001b[0m\u001b[0;34m)\u001b[0m\u001b[0;34m\u001b[0m\u001b[0m\n",
      "\u001b[0;31mNameError\u001b[0m: name 'se2wave_load_coordinates' is not defined"
     ]
    }
   ],
   "source": [
    "start_time = time.time()\n",
    "\n",
    "fname = \"step-{timestep:04}_wavefield.pbin\"\n",
    "\n",
    "path = \"/home/nico/Documents/TEAR/Codes_TEAR/PythonCodes/ConferencesFigures/EGU2021/TiltedData/27deg/\"\n",
    "\n",
    "\n",
    "i=1130\n",
    "FieldFilename = os.path.join(path,fname.format(timestep=i))\n",
    "\n",
    "MeshFilename = os.path.join(path, \"default_mesh_coor.pbin\")\n",
    "se2_coor = se2wave_load_coordinates(MeshFilename)\n",
    "\n",
    "TimeStepVal, LCoorX, LCoorY, LFieldX, LFieldY, LFieldvelX, LFieldvelY =  ExtractFields(FieldFilename, se2_coor)\n",
    "\n",
    "F1,Im1,ax1 = PlotDomain(LCoorX, LCoorY, LFieldX, \n",
    "           [\"X-Component Displacement \", \"X-Component Displacement [m]\"],\n",
    "           TimeStepVal,cmap=cmap)\n",
    "F2,Im2,ax2 = PlotDomain(LCoorX, LCoorY, LFieldY, \n",
    "           [\"Y-Component Displacement \", \"Y-Component Displacement [m]\"],\n",
    "           TimeStepVal,cmap=cmap)\n",
    "F3,Im3,ax3 = PlotDomain(LCoorX, LCoorY, LFieldvelX, \n",
    "           [\"X-Component Velocity \", \"X-Component Velocity [m/s]\"],\n",
    "           TimeStepVal,cmap=cmap)\n",
    "F4,Im4,ax4 = PlotDomain(LCoorX, LCoorY, LFieldvelY, \n",
    "           [\"Y-Component Velocity \", \"Y-Component Velocity [m/s]\"],\n",
    "           TimeStepVal,cmap=cmap)\n"
   ]
  },
  {
   "cell_type": "code",
   "execution_count": 11,
   "metadata": {
    "scrolled": false
   },
   "outputs": [
    {
     "ename": "NameError",
     "evalue": "name 'se2wave_load_coordinates' is not defined",
     "output_type": "error",
     "traceback": [
      "\u001b[0;31m---------------------------------------------------------------------------\u001b[0m",
      "\u001b[0;31mNameError\u001b[0m                                 Traceback (most recent call last)",
      "\u001b[0;32m<ipython-input-11-9506e6b0f3c0>\u001b[0m in \u001b[0;36m<module>\u001b[0;34m()\u001b[0m\n\u001b[1;32m     10\u001b[0m \u001b[0;34m\u001b[0m\u001b[0m\n\u001b[1;32m     11\u001b[0m \u001b[0mMeshFilename\u001b[0m \u001b[0;34m=\u001b[0m \u001b[0mos\u001b[0m\u001b[0;34m.\u001b[0m\u001b[0mpath\u001b[0m\u001b[0;34m.\u001b[0m\u001b[0mjoin\u001b[0m\u001b[0;34m(\u001b[0m\u001b[0mpath\u001b[0m\u001b[0;34m,\u001b[0m \u001b[0;34m\"default_mesh_coor.pbin\"\u001b[0m\u001b[0;34m)\u001b[0m\u001b[0;34m\u001b[0m\u001b[0m\n\u001b[0;32m---> 12\u001b[0;31m \u001b[0mse2_coor\u001b[0m \u001b[0;34m=\u001b[0m \u001b[0mse2wave_load_coordinates\u001b[0m\u001b[0;34m(\u001b[0m\u001b[0mMeshFilename\u001b[0m\u001b[0;34m)\u001b[0m\u001b[0;34m\u001b[0m\u001b[0m\n\u001b[0m\u001b[1;32m     13\u001b[0m \u001b[0;34m\u001b[0m\u001b[0m\n\u001b[1;32m     14\u001b[0m \u001b[0mTimeStepVal\u001b[0m\u001b[0;34m,\u001b[0m \u001b[0mLCoorX\u001b[0m\u001b[0;34m,\u001b[0m \u001b[0mLCoorY\u001b[0m\u001b[0;34m,\u001b[0m \u001b[0mLFieldX\u001b[0m\u001b[0;34m,\u001b[0m \u001b[0mLFieldY\u001b[0m\u001b[0;34m,\u001b[0m \u001b[0mLFieldvelX\u001b[0m\u001b[0;34m,\u001b[0m \u001b[0mLFieldvelY\u001b[0m \u001b[0;34m=\u001b[0m  \u001b[0mExtractFields\u001b[0m\u001b[0;34m(\u001b[0m\u001b[0mFieldFilename\u001b[0m\u001b[0;34m,\u001b[0m \u001b[0mse2_coor\u001b[0m\u001b[0;34m)\u001b[0m\u001b[0;34m\u001b[0m\u001b[0m\n",
      "\u001b[0;31mNameError\u001b[0m: name 'se2wave_load_coordinates' is not defined"
     ]
    }
   ],
   "source": [
    "start_time = time.time()\n",
    "\n",
    "fname = \"step-{timestep:04}_wavefield.pbin\"\n",
    "\n",
    "path = \"/home/nico/Documents/TEAR/Codes_TEAR/PythonCodes/ConferencesFigures/EGU2021/TiltedData/36deg/\"\n",
    "\n",
    "\n",
    "i=1130\n",
    "FieldFilename = os.path.join(path,fname.format(timestep=i))\n",
    "\n",
    "MeshFilename = os.path.join(path, \"default_mesh_coor.pbin\")\n",
    "se2_coor = se2wave_load_coordinates(MeshFilename)\n",
    "\n",
    "TimeStepVal, LCoorX, LCoorY, LFieldX, LFieldY, LFieldvelX, LFieldvelY =  ExtractFields(FieldFilename, se2_coor)\n",
    "\n",
    "F1,Im1,ax1 = PlotDomain(LCoorX, LCoorY, LFieldX, \n",
    "           [\"X-Component Displacement \", \"X-Component Displacement [m]\"],\n",
    "           TimeStepVal,cmap=cmap)\n",
    "F2,Im2,ax2 = PlotDomain(LCoorX, LCoorY, LFieldY, \n",
    "           [\"Y-Component Displacement \", \"Y-Component Displacement [m]\"],\n",
    "           TimeStepVal,cmap=cmap)\n",
    "F3,Im3,ax3 = PlotDomain(LCoorX, LCoorY, LFieldvelX, \n",
    "           [\"X-Component Velocity \", \"X-Component Velocity [m/s]\"],\n",
    "           TimeStepVal,cmap=cmap)\n",
    "F4,Im4,ax4 = PlotDomain(LCoorX, LCoorY, LFieldvelY, \n",
    "           [\"Y-Component Velocity \", \"Y-Component Velocity [m/s]\"],\n",
    "           TimeStepVal,cmap=cmap)\n"
   ]
  },
  {
   "cell_type": "code",
   "execution_count": null,
   "metadata": {},
   "outputs": [],
   "source": []
  },
  {
   "cell_type": "code",
   "execution_count": null,
   "metadata": {},
   "outputs": [],
   "source": []
  },
  {
   "cell_type": "code",
   "execution_count": null,
   "metadata": {},
   "outputs": [],
   "source": []
  }
 ],
 "metadata": {
  "kernelspec": {
   "display_name": "Python 3",
   "language": "python",
   "name": "python3"
  },
  "language_info": {
   "codemirror_mode": {
    "name": "ipython",
    "version": 3
   },
   "file_extension": ".py",
   "mimetype": "text/x-python",
   "name": "python",
   "nbconvert_exporter": "python",
   "pygments_lexer": "ipython3",
   "version": "3.5.6"
  }
 },
 "nbformat": 4,
 "nbformat_minor": 2
}
