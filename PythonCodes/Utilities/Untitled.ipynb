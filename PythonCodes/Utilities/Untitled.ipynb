{
 "cells": [
  {
   "cell_type": "code",
   "execution_count": 1,
   "metadata": {
    "ExecuteTime": {
     "end_time": "2021-09-14T07:16:03.827120Z",
     "start_time": "2021-09-14T07:16:03.422134Z"
    }
   },
   "outputs": [],
   "source": [
    "import pandas as pd"
   ]
  },
  {
   "cell_type": "code",
   "execution_count": 8,
   "metadata": {
    "ExecuteTime": {
     "end_time": "2021-09-14T07:21:49.992106Z",
     "start_time": "2021-09-14T07:21:49.986108Z"
    }
   },
   "outputs": [],
   "source": [
    "import os\n",
    "folder = \"/import/freenas-m-03-geodynamics/jhayek/TEAR/Results/T2/Runs/\"\n",
    "subfolders = [ f.name for f in os.scandir(folder) if f.is_dir() ]"
   ]
  },
  {
   "cell_type": "code",
   "execution_count": 10,
   "metadata": {
    "ExecuteTime": {
     "end_time": "2021-09-14T07:22:19.126690Z",
     "start_time": "2021-09-14T07:22:19.119162Z"
    }
   },
   "outputs": [],
   "source": [
    "subfolders.sort()"
   ]
  },
  {
   "cell_type": "code",
   "execution_count": 12,
   "metadata": {
    "ExecuteTime": {
     "end_time": "2021-09-14T07:23:46.671835Z",
     "start_time": "2021-09-14T07:23:46.646719Z"
    }
   },
   "outputs": [
    {
     "data": {
      "text/plain": [
       "['Images',\n",
       " 'P4-P3-025x025-Blend-delta50',\n",
       " 'P4-P3-025x025-Blend-delta50-0CG',\n",
       " 'P4-P3-025x025-Blend-delta50-Sigmoid',\n",
       " 'P4-P3-025x025-E',\n",
       " 'P4-P3-025x025-F',\n",
       " 'P4-P3-025x025-G',\n",
       " 'P4-P3-025x025-H',\n",
       " 'P4-P3-025x025-I',\n",
       " 'P4-P3-025x025-NoBlend-delta50',\n",
       " 'P4-P3-025x025-SteepBlend-delta50',\n",
       " 'P4-P3-025x025-delta100-A',\n",
       " 'P4-P3-025x025-tpv3-delta25-Maxwell',\n",
       " 'P4-P3-025x025-tpv3-delta25-Maxwell-Sigmoid',\n",
       " 'P4-P3-025x025-tpv3-delta25-OldBlend',\n",
       " 'P4-P3-025x025-tpv3-delta50-2.5ABlend-Sigmoid',\n",
       " 'P4-P3-025x025-tpv3-delta50-2.5ABlend-tilted',\n",
       " 'P4-P3-025x025-tpv3-delta50-5ABlend-Sigmoid',\n",
       " 'P4-P3-025x025-tpv3-delta50-5ABlend-Tilt',\n",
       " 'P4-P3-025x025-tpv3-delta50-FullCellYielding-Tilted',\n",
       " 'P4-P3-025x025-tpv3-delta50-FullcellYielding-Sigmoid',\n",
       " 'P4-P3-025x025-tpv3-delta50-Maxwell-Sigmoid',\n",
       " 'P4-P3-025x025-tpv3-delta50-Maxwell-Tilted',\n",
       " 'P4-P5-025x025-tpv3-delta100-12A-065phi',\n",
       " 'P4-P5-025x025-tpv3-delta100-2.5A-05phi',\n",
       " 'P4-P5-025x025-tpv3-delta100-2.5A-phi',\n",
       " 'P4-P5-025x025-tpv3-delta100-2.5A-phi-VonMises',\n",
       " 'P4-P5-025x025-tpv3-delta100-5A-05phi',\n",
       " 'P4-P5-025x025-tpv3-delta100-5A-065phi',\n",
       " 'P4-P5-025x025-tpv3-delta50-12A-065phi-CG0',\n",
       " 'P4-P5-025x025-tpv3-delta50-5ABlend-Tilt',\n",
       " 'P4-P5-025x025-tpv3-delta50-5A-phi-Tilt',\n",
       " 'P4-P5-025x025-tpv3-delta50-FullcellYielding-Sigmoid',\n",
       " 'P4-P5-025x025-tpv3-delta50-Maxwell-Sigmoid',\n",
       " 'P5-P3-025x025-tpv3-delta50-phio0.75-A5-SigmoidExtended',\n",
       " 'P5-P3-050x050-B',\n",
       " 'P5-P3-050x050-Blend-delta50',\n",
       " 'P5-P3-050x050-Blend-delta50-0CG',\n",
       " 'P5-P3-050x050-Blend-delta50-Sigmoid',\n",
       " 'P5-P3-050x050-D',\n",
       " 'P5-P3-050x050-E',\n",
       " 'P5-P3-050x050-F',\n",
       " 'P5-P3-050x050-G',\n",
       " 'P5-P3-050x050-H',\n",
       " 'P5-P3-050x050-I',\n",
       " 'P5-P3-050x050-NoBlend-delta50',\n",
       " 'P5-P3-050x050-SteepBlend-delta50',\n",
       " 'P5-P3-050x050--delta100-A',\n",
       " 'P5-P3-050x050-tpv3-delta1.43dy-10ABlend-phidelta-Tilt',\n",
       " 'P5-P3-050x050-tpv3-delta1.43dy-2.5ABlend-phidelta-Tilt',\n",
       " 'P5-P3-050x050-tpv3-delta1.43dy-phio0.75-A5',\n",
       " 'P5-P3-050x050-tpv3-delta1.43dy-phio0.75-A5-NoPolyFac',\n",
       " 'P5-P3-050x050-tpv3-delta1.43dy-phio0.75-A5-Sigmoid',\n",
       " 'P5-P3-050x050-tpv3-delta1.43dy-phio0.75-A5-SigmoidExtended-Tweak',\n",
       " 'P5-P3-050x050-tpv3-delta1dy-phio0.75-A5-SigmoidExtended',\n",
       " 'P5-P3-050x050-tpv3-delta1dy-phio0.75-A5-SigmoidExtended-Tweak',\n",
       " 'P5-P3-050x050-tpv3-delta1dy-phio0.75-A5-TiltedExtended',\n",
       " 'P5-P3-050x050-tpv3-delta1dy-phio0.75-A5-TiltedExtended-Tweak',\n",
       " 'P5-P3-050x050-tpv3-delta2dy-phio0.75-A5-Sigmoid',\n",
       " 'P5-P3-050x050-tpv3-delta3dy-phio0.75-A5-SigmoidExtended',\n",
       " 'P5-P3-050x050-tpv3-delta3dy-phio0.75-A5-SigmoidExtended-Tweak',\n",
       " 'P5-P3-050x050-tpv3-delta50',\n",
       " 'P5-P3-050x050-tpv3-delta50-2.5ABlend-Sigmoid',\n",
       " 'P5-P3-050x050-tpv3-delta50-2.5ABlend-tilted',\n",
       " 'P5-P3-050x050-tpv3-delta50-5ABlend-Sigmoid',\n",
       " 'P5-P3-050x050-tpv3-delta50-5ABlend-Tilt',\n",
       " 'P5-P3-050x050-tpv3-delta50-FullCellYielding-tilted',\n",
       " 'P5-P3-050x050-tpv3-delta50-Maxwell',\n",
       " 'P5-P3-050x050-tpv3-delta50-sigmoid',\n",
       " 'P5-P3-050x050-tpv3-deltaf0.71-Constant',\n",
       " 'P5-P3-050x050-tpv3-deltaf1-StupidTest-AnotherStupidTest',\n",
       " 'P5-P3-050x050-tpv3-deltaf1-StupidTest-AnotherStupidTest2',\n",
       " 'P5-P3-050x050-tpv3-deltaf1-StupidTest-FixSign',\n",
       " 'P5-P5-050x050-tpv3-delta1dy-phio0.75-A5-TiltedExtended-Tweak',\n",
       " 'P5-P5-050x050-tpv3-delta50-5ABlend-Tilt',\n",
       " 'P6-P3-100x100-Tilting-PM']"
      ]
     },
     "execution_count": 12,
     "metadata": {},
     "output_type": "execute_result"
    }
   ],
   "source": [
    "new_list = [s.replace(\"_\", \"-\") for s in subfolders]\n",
    "new_list"
   ]
  },
  {
   "cell_type": "code",
   "execution_count": 14,
   "metadata": {
    "ExecuteTime": {
     "end_time": "2021-09-14T07:25:55.978765Z",
     "start_time": "2021-09-14T07:25:55.964726Z"
    }
   },
   "outputs": [
    {
     "data": {
      "text/plain": [
       "['Images',\n",
       " 'P4-P3-025x025-Blend-delta50',\n",
       " 'P4-P3-025x025-Blend-delta50-0CG',\n",
       " 'P4-P3-025x025-E',\n",
       " 'P4-P3-025x025-F',\n",
       " 'P4-P3-025x025-G',\n",
       " 'P4-P3-025x025-H',\n",
       " 'P4-P3-025x025-I',\n",
       " 'P4-P3-025x025-NoBlend-delta50',\n",
       " 'P4-P3-025x025-SteepBlend-delta50',\n",
       " 'P4-P3-025x025-delta100-A',\n",
       " 'P4-P3-025x025-tpv3-delta25-Maxwell',\n",
       " 'P4-P3-025x025-tpv3-delta25-OldBlend',\n",
       " 'P4-P3-025x025-tpv3-delta50-2.5ABlend-tilted',\n",
       " 'P4-P3-025x025-tpv3-delta50-5ABlend-Tilt',\n",
       " 'P4-P3-025x025-tpv3-delta50-FullCellYielding-Tilted',\n",
       " 'P4-P3-025x025-tpv3-delta50-Maxwell-Tilted',\n",
       " 'P4-P5-025x025-tpv3-delta100-12A-065phi',\n",
       " 'P4-P5-025x025-tpv3-delta100-2.5A-05phi',\n",
       " 'P4-P5-025x025-tpv3-delta100-2.5A-phi',\n",
       " 'P4-P5-025x025-tpv3-delta100-2.5A-phi-VonMises',\n",
       " 'P4-P5-025x025-tpv3-delta100-5A-05phi',\n",
       " 'P4-P5-025x025-tpv3-delta100-5A-065phi',\n",
       " 'P4-P5-025x025-tpv3-delta50-12A-065phi-CG0',\n",
       " 'P4-P5-025x025-tpv3-delta50-5ABlend-Tilt',\n",
       " 'P4-P5-025x025-tpv3-delta50-5A-phi-Tilt',\n",
       " 'P5-P3-050x050-B',\n",
       " 'P5-P3-050x050-Blend-delta50',\n",
       " 'P5-P3-050x050-Blend-delta50-0CG',\n",
       " 'P5-P3-050x050-D',\n",
       " 'P5-P3-050x050-E',\n",
       " 'P5-P3-050x050-F',\n",
       " 'P5-P3-050x050-G',\n",
       " 'P5-P3-050x050-H',\n",
       " 'P5-P3-050x050-I',\n",
       " 'P5-P3-050x050-NoBlend-delta50',\n",
       " 'P5-P3-050x050-SteepBlend-delta50',\n",
       " 'P5-P3-050x050--delta100-A',\n",
       " 'P5-P3-050x050-tpv3-delta1.43dy-10ABlend-phidelta-Tilt',\n",
       " 'P5-P3-050x050-tpv3-delta1.43dy-2.5ABlend-phidelta-Tilt',\n",
       " 'P5-P3-050x050-tpv3-delta1.43dy-phio0.75-A5',\n",
       " 'P5-P3-050x050-tpv3-delta1.43dy-phio0.75-A5-NoPolyFac',\n",
       " 'P5-P3-050x050-tpv3-delta1dy-phio0.75-A5-TiltedExtended',\n",
       " 'P5-P3-050x050-tpv3-delta1dy-phio0.75-A5-TiltedExtended-Tweak',\n",
       " 'P5-P3-050x050-tpv3-delta50',\n",
       " 'P5-P3-050x050-tpv3-delta50-2.5ABlend-tilted',\n",
       " 'P5-P3-050x050-tpv3-delta50-5ABlend-Tilt',\n",
       " 'P5-P3-050x050-tpv3-delta50-FullCellYielding-tilted',\n",
       " 'P5-P3-050x050-tpv3-delta50-Maxwell',\n",
       " 'P5-P3-050x050-tpv3-deltaf0.71-Constant',\n",
       " 'P5-P3-050x050-tpv3-deltaf1-StupidTest-AnotherStupidTest',\n",
       " 'P5-P3-050x050-tpv3-deltaf1-StupidTest-AnotherStupidTest2',\n",
       " 'P5-P3-050x050-tpv3-deltaf1-StupidTest-FixSign',\n",
       " 'P5-P5-050x050-tpv3-delta1dy-phio0.75-A5-TiltedExtended-Tweak',\n",
       " 'P5-P5-050x050-tpv3-delta50-5ABlend-Tilt',\n",
       " 'P6-P3-100x100-Tilting-PM']"
      ]
     },
     "execution_count": 14,
     "metadata": {},
     "output_type": "execute_result"
    }
   ],
   "source": [
    "list(filter(lambda k: 'igmoid' not in k, new_list))"
   ]
  },
  {
   "cell_type": "code",
   "execution_count": 16,
   "metadata": {
    "ExecuteTime": {
     "end_time": "2021-09-14T15:57:03.646421Z",
     "start_time": "2021-09-14T15:57:03.632756Z"
    }
   },
   "outputs": [
    {
     "data": {
      "text/plain": [
       "['P4-P3-025x025-Blend-delta50-Sigmoid',\n",
       " 'P4-P3-025x025-tpv3-delta25-Maxwell-Sigmoid',\n",
       " 'P4-P3-025x025-tpv3-delta50-2.5ABlend-Sigmoid',\n",
       " 'P4-P3-025x025-tpv3-delta50-5ABlend-Sigmoid',\n",
       " 'P4-P3-025x025-tpv3-delta50-FullcellYielding-Sigmoid',\n",
       " 'P4-P3-025x025-tpv3-delta50-Maxwell-Sigmoid',\n",
       " 'P4-P5-025x025-tpv3-delta50-FullcellYielding-Sigmoid',\n",
       " 'P4-P5-025x025-tpv3-delta50-Maxwell-Sigmoid',\n",
       " 'P5-P3-025x025-tpv3-delta50-phio0.75-A5-SigmoidExtended',\n",
       " 'P5-P3-050x050-Blend-delta50-Sigmoid',\n",
       " 'P5-P3-050x050-tpv3-delta1.43dy-phio0.75-A5-Sigmoid',\n",
       " 'P5-P3-050x050-tpv3-delta1.43dy-phio0.75-A5-SigmoidExtended-Tweak',\n",
       " 'P5-P3-050x050-tpv3-delta1dy-phio0.75-A5-SigmoidExtended',\n",
       " 'P5-P3-050x050-tpv3-delta1dy-phio0.75-A5-SigmoidExtended-Tweak',\n",
       " 'P5-P3-050x050-tpv3-delta2dy-phio0.75-A5-Sigmoid',\n",
       " 'P5-P3-050x050-tpv3-delta3dy-phio0.75-A5-SigmoidExtended',\n",
       " 'P5-P3-050x050-tpv3-delta3dy-phio0.75-A5-SigmoidExtended-Tweak',\n",
       " 'P5-P3-050x050-tpv3-delta50-2.5ABlend-Sigmoid',\n",
       " 'P5-P3-050x050-tpv3-delta50-5ABlend-Sigmoid',\n",
       " 'P5-P3-050x050-tpv3-delta50-sigmoid']"
      ]
     },
     "execution_count": 16,
     "metadata": {},
     "output_type": "execute_result"
    }
   ],
   "source": [
    "list(filter(lambda k: 'igmoid' in k, new_list))"
   ]
  },
  {
   "cell_type": "code",
   "execution_count": null,
   "metadata": {},
   "outputs": [],
   "source": []
  }
 ],
 "metadata": {
  "hide_input": false,
  "kernelspec": {
   "display_name": "Python 3",
   "language": "python",
   "name": "python3"
  },
  "language_info": {
   "codemirror_mode": {
    "name": "ipython",
    "version": 3
   },
   "file_extension": ".py",
   "mimetype": "text/x-python",
   "name": "python",
   "nbconvert_exporter": "python",
   "pygments_lexer": "ipython3",
   "version": "3.7.3"
  }
 },
 "nbformat": 4,
 "nbformat_minor": 2
}
