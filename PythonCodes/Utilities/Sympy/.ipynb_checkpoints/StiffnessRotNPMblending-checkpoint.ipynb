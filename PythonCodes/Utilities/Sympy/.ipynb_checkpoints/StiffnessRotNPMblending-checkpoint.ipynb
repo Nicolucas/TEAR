{
 "cells": [
  {
   "cell_type": "code",
   "execution_count": 1,
   "metadata": {
    "ExecuteTime": {
     "end_time": "2021-06-12T21:30:01.725514Z",
     "start_time": "2021-06-12T21:30:01.360665Z"
    }
   },
   "outputs": [],
   "source": [
    "from sympy import *\n",
    "init_printing(use_unicode=True)\n",
    "from sympy.codegen.ast import Assignment"
   ]
  },
  {
   "cell_type": "code",
   "execution_count": 2,
   "metadata": {
    "ExecuteTime": {
     "end_time": "2021-06-12T21:30:01.730109Z",
     "start_time": "2021-06-12T21:30:01.727326Z"
    }
   },
   "outputs": [],
   "source": [
    "m, n = symbols('m n')\n",
    "x = symbols('x')\n",
    "theta = Symbol(\"theta\")"
   ]
  },
  {
   "cell_type": "code",
   "execution_count": 3,
   "metadata": {
    "ExecuteTime": {
     "end_time": "2021-06-12T21:30:01.787676Z",
     "start_time": "2021-06-12T21:30:01.731980Z"
    }
   },
   "outputs": [],
   "source": [
    "m = cos(theta)\n",
    "n = sin(theta)"
   ]
  },
  {
   "cell_type": "markdown",
   "metadata": {},
   "source": [
    "# Definition of rotation matrix $A$"
   ]
  },
  {
   "cell_type": "code",
   "execution_count": 4,
   "metadata": {
    "ExecuteTime": {
     "end_time": "2021-06-12T21:30:03.938556Z",
     "start_time": "2021-06-12T21:30:01.790350Z"
    }
   },
   "outputs": [
    {
     "data": {
      "image/png": "[encoded data removed]",
      "text/latex": [
       "$\\displaystyle \\left( \\left[\\begin{matrix}\\cos^{2}{\\left(\\theta \\right)} & \\sin^{2}{\\left(\\theta \\right)} & - \\sin{\\left(2 \\theta \\right)}\\\\\\sin^{2}{\\left(\\theta \\right)} & \\cos^{2}{\\left(\\theta \\right)} & \\sin{\\left(2 \\theta \\right)}\\\\\\frac{\\sin{\\left(2 \\theta \\right)}}{2} & - \\frac{\\sin{\\left(2 \\theta \\right)}}{2} & \\cos{\\left(2 \\theta \\right)}\\end{matrix}\\right], \\  \\left[\\begin{matrix}\\cos^{2}{\\left(\\theta \\right)} & \\sin^{2}{\\left(\\theta \\right)} & \\sin{\\left(2 \\theta \\right)}\\\\\\sin^{2}{\\left(\\theta \\right)} & \\cos^{2}{\\left(\\theta \\right)} & - \\sin{\\left(2 \\theta \\right)}\\\\- \\frac{\\sin{\\left(2 \\theta \\right)}}{2} & \\frac{\\sin{\\left(2 \\theta \\right)}}{2} & \\cos{\\left(2 \\theta \\right)}\\end{matrix}\\right]\\right)$"
      ],
      "text/plain": [
       "⎛⎡   2          2                ⎤  ⎡    2          2               ⎤⎞\n",
       "⎜⎢cos (θ)    sin (θ)    -sin(2⋅θ)⎥  ⎢ cos (θ)    sin (θ)   sin(2⋅θ) ⎥⎟\n",
       "⎜⎢                               ⎥  ⎢                               ⎥⎟\n",
       "⎜⎢   2          2                ⎥  ⎢    2          2               ⎥⎟\n",
       "⎜⎢sin (θ)    cos (θ)    sin(2⋅θ) ⎥, ⎢ sin (θ)    cos (θ)   -sin(2⋅θ)⎥⎟\n",
       "⎜⎢                               ⎥  ⎢                               ⎥⎟\n",
       "⎜⎢sin(2⋅θ)  -sin(2⋅θ)            ⎥  ⎢-sin(2⋅θ)   sin(2⋅θ)           ⎥⎟\n",
       "⎜⎢────────  ──────────  cos(2⋅θ) ⎥  ⎢──────────  ────────  cos(2⋅θ) ⎥⎟\n",
       "⎝⎣   2          2                ⎦  ⎣    2          2               ⎦⎠"
      ]
     },
     "execution_count": 4,
     "metadata": {},
     "output_type": "execute_result"
    }
   ],
   "source": [
    "A = Matrix([[m**2, n**2, 2*m*n], [n**2, m**2, -2*m*n], [-m*n, m*n,m**2-n**2]])\n",
    "At = simplify(A.inv())\n",
    "\n",
    "At, simplify(A)\n",
    "# The inverse of the rotation matrix in voigt notation is not the transpose"
   ]
  },
  {
   "cell_type": "code",
   "execution_count": 5,
   "metadata": {
    "ExecuteTime": {
     "end_time": "2021-06-12T21:30:04.320497Z",
     "start_time": "2021-06-12T21:30:03.940588Z"
    }
   },
   "outputs": [
    {
     "data": {
      "image/png": "[encoded data removed]",
      "text/latex": [
       "$\\displaystyle \\left[\\begin{matrix}\\cos^{2}{\\left(\\theta \\right)} & \\sin^{2}{\\left(\\theta \\right)} & \\sin{\\left(2 \\theta \\right)}\\\\\\sin^{2}{\\left(\\theta \\right)} & \\cos^{2}{\\left(\\theta \\right)} & - \\sin{\\left(2 \\theta \\right)}\\\\- \\frac{\\sin{\\left(2 \\theta \\right)}}{2} & \\frac{\\sin{\\left(2 \\theta \\right)}}{2} & \\cos{\\left(2 \\theta \\right)}\\end{matrix}\\right]$"
      ],
      "text/plain": [
       "⎡    2          2               ⎤\n",
       "⎢ cos (θ)    sin (θ)   sin(2⋅θ) ⎥\n",
       "⎢                               ⎥\n",
       "⎢    2          2               ⎥\n",
       "⎢ sin (θ)    cos (θ)   -sin(2⋅θ)⎥\n",
       "⎢                               ⎥\n",
       "⎢-sin(2⋅θ)   sin(2⋅θ)           ⎥\n",
       "⎢──────────  ────────  cos(2⋅θ) ⎥\n",
       "⎣    2          2               ⎦"
      ]
     },
     "execution_count": 5,
     "metadata": {},
     "output_type": "execute_result"
    }
   ],
   "source": [
    "simplify(A)"
   ]
  },
  {
   "cell_type": "code",
   "execution_count": 6,
   "metadata": {
    "ExecuteTime": {
     "end_time": "2021-06-12T21:30:04.529831Z",
     "start_time": "2021-06-12T21:30:04.322325Z"
    }
   },
   "outputs": [
    {
     "data": {
      "image/png": "[encoded data removed]",
      "text/latex": [
       "$\\displaystyle \\left[\\begin{matrix}\\frac{1}{2} & \\frac{1}{2} & 1\\\\\\frac{1}{2} & \\frac{1}{2} & -1\\\\- \\frac{1}{2} & \\frac{1}{2} & 0\\end{matrix}\\right]$"
      ],
      "text/plain": [
       "⎡1/2   1/2  1 ⎤\n",
       "⎢             ⎥\n",
       "⎢1/2   1/2  -1⎥\n",
       "⎢             ⎥\n",
       "⎣-1/2  1/2  0 ⎦"
      ]
     },
     "execution_count": 6,
     "metadata": {},
     "output_type": "execute_result"
    }
   ],
   "source": [
    "simplify(A.subs(theta,pi/4))"
   ]
  },
  {
   "cell_type": "markdown",
   "metadata": {},
   "source": [
    "# Definition of the Reuter Matrix $R$"
   ]
  },
  {
   "cell_type": "code",
   "execution_count": 7,
   "metadata": {
    "ExecuteTime": {
     "end_time": "2021-06-12T21:30:04.734414Z",
     "start_time": "2021-06-12T21:30:04.531715Z"
    }
   },
   "outputs": [
    {
     "data": {
      "image/png": "[encoded data removed]",
      "text/latex": [
       "$\\displaystyle \\left[\\begin{matrix}1 & 0 & 0\\\\0 & 1 & 0\\\\0 & 0 & 2\\end{matrix}\\right]$"
      ],
      "text/plain": [
       "⎡1  0  0⎤\n",
       "⎢       ⎥\n",
       "⎢0  1  0⎥\n",
       "⎢       ⎥\n",
       "⎣0  0  2⎦"
      ]
     },
     "execution_count": 7,
     "metadata": {},
     "output_type": "execute_result"
    }
   ],
   "source": [
    "R = Matrix([[1, 0, 0], [0, 1, 0], [0, 0,2]])\n",
    "Rt = Matrix([[1, 0, 0], [0, 1, 0], [0, 0,0.5]])\n",
    "R"
   ]
  },
  {
   "cell_type": "markdown",
   "metadata": {},
   "source": [
    "# transversely isotropic stiffness tensor $C$\n",
    "\n",
    "$C' = A^{-1}CRAR^{-1}$"
   ]
  },
  {
   "cell_type": "code",
   "execution_count": 8,
   "metadata": {
    "ExecuteTime": {
     "end_time": "2021-06-12T21:30:05.095749Z",
     "start_time": "2021-06-12T21:30:04.737806Z"
    }
   },
   "outputs": [
    {
     "data": {
      "image/png": "[encoded data removed]",
      "text/latex": [
       "$\\displaystyle \\left[\\begin{matrix}C_{0 0} & C_{0 1} & C_{0 2}\\\\C_{1 0} & C_{1 1} & C_{1 2}\\\\C_{2 0} & C_{2 1} & C_{2 2}\\end{matrix}\\right]$"
      ],
      "text/plain": [
       "⎡C₀ ₀  C₀ ₁  C₀ ₂⎤\n",
       "⎢                ⎥\n",
       "⎢C₁ ₀  C₁ ₁  C₁ ₂⎥\n",
       "⎢                ⎥\n",
       "⎣C₂ ₀  C₂ ₁  C₂ ₂⎦"
      ]
     },
     "execution_count": 8,
     "metadata": {},
     "output_type": "execute_result"
    }
   ],
   "source": [
    "C = Matrix( symarray('C', (3,3)) )\n",
    "C"
   ]
  },
  {
   "cell_type": "code",
   "execution_count": 9,
   "metadata": {
    "ExecuteTime": {
     "end_time": "2021-06-12T21:30:05.318389Z",
     "start_time": "2021-06-12T21:30:05.098570Z"
    }
   },
   "outputs": [
    {
     "data": {
      "image/png": "[encoded data removed]",
      "text/latex": [
       "$\\displaystyle \\left[\\begin{matrix}C_{0 0} & C_{0 1} & 0\\\\C_{1 0} & C_{1 1} & 0\\\\0 & 0 & C_{2 2}\\end{matrix}\\right]$"
      ],
      "text/plain": [
       "⎡C₀ ₀  C₀ ₁   0  ⎤\n",
       "⎢                ⎥\n",
       "⎢C₁ ₀  C₁ ₁   0  ⎥\n",
       "⎢                ⎥\n",
       "⎣ 0     0    C₂ ₂⎦"
      ]
     },
     "execution_count": 9,
     "metadata": {},
     "output_type": "execute_result"
    }
   ],
   "source": [
    "C[2,0] = 0\n",
    "C[2,1] = 0\n",
    "C[0,2] = 0\n",
    "C[1,2] = 0\n",
    "C"
   ]
  },
  {
   "cell_type": "code",
   "execution_count": 10,
   "metadata": {
    "ExecuteTime": {
     "end_time": "2021-06-12T21:30:09.869866Z",
     "start_time": "2021-06-12T21:30:05.320665Z"
    }
   },
   "outputs": [
    {
     "data": {
      "image/png": "[encoded data removed]",
      "text/latex": [
       "$\\displaystyle \\left[\\begin{matrix}\\frac{C_{2 2} \\left(1 - \\cos{\\left(4 \\theta \\right)}\\right)}{2} + \\left(C_{0 0} \\cos^{2}{\\left(\\theta \\right)} + C_{1 0} \\sin^{2}{\\left(\\theta \\right)}\\right) \\cos^{2}{\\left(\\theta \\right)} + \\left(C_{0 1} \\cos^{2}{\\left(\\theta \\right)} + C_{1 1} \\sin^{2}{\\left(\\theta \\right)}\\right) \\sin^{2}{\\left(\\theta \\right)} & - \\frac{C_{2 2} \\left(1 - \\cos{\\left(4 \\theta \\right)}\\right)}{2} + \\left(C_{0 0} \\cos^{2}{\\left(\\theta \\right)} + C_{1 0} \\sin^{2}{\\left(\\theta \\right)}\\right) \\sin^{2}{\\left(\\theta \\right)} + \\left(C_{0 1} \\cos^{2}{\\left(\\theta \\right)} + C_{1 1} \\sin^{2}{\\left(\\theta \\right)}\\right) \\cos^{2}{\\left(\\theta \\right)} & 1.0 \\left(C_{0 0} \\cos^{2}{\\left(\\theta \\right)} - C_{0 1} \\cos^{2}{\\left(\\theta \\right)} + C_{1 0} \\sin^{2}{\\left(\\theta \\right)} - C_{1 1} \\sin^{2}{\\left(\\theta \\right)} + 4 C_{2 2} \\sin^{2}{\\left(\\theta \\right)} - 2 C_{2 2}\\right) \\sin{\\left(\\theta \\right)} \\cos{\\left(\\theta \\right)}\\\\- \\frac{C_{2 2} \\left(1 - \\cos{\\left(4 \\theta \\right)}\\right)}{2} + \\left(C_{0 0} \\sin^{2}{\\left(\\theta \\right)} + C_{1 0} \\cos^{2}{\\left(\\theta \\right)}\\right) \\cos^{2}{\\left(\\theta \\right)} + \\left(C_{0 1} \\sin^{2}{\\left(\\theta \\right)} + C_{1 1} \\cos^{2}{\\left(\\theta \\right)}\\right) \\sin^{2}{\\left(\\theta \\right)} & \\frac{C_{2 2} \\left(1 - \\cos{\\left(4 \\theta \\right)}\\right)}{2} + \\left(C_{0 0} \\sin^{2}{\\left(\\theta \\right)} + C_{1 0} \\cos^{2}{\\left(\\theta \\right)}\\right) \\sin^{2}{\\left(\\theta \\right)} + \\left(C_{0 1} \\sin^{2}{\\left(\\theta \\right)} + C_{1 1} \\cos^{2}{\\left(\\theta \\right)}\\right) \\cos^{2}{\\left(\\theta \\right)} & 1.0 \\left(C_{0 0} \\sin^{2}{\\left(\\theta \\right)} - C_{0 1} \\sin^{2}{\\left(\\theta \\right)} + C_{1 0} \\cos^{2}{\\left(\\theta \\right)} - C_{1 1} \\cos^{2}{\\left(\\theta \\right)} - 4 C_{2 2} \\sin^{2}{\\left(\\theta \\right)} + 2 C_{2 2}\\right) \\sin{\\left(\\theta \\right)} \\cos{\\left(\\theta \\right)}\\\\- \\frac{C_{2 2} \\sin{\\left(4 \\theta \\right)}}{2} + \\left(C_{0 0} - C_{1 0}\\right) \\sin{\\left(\\theta \\right)} \\cos^{3}{\\left(\\theta \\right)} + \\left(C_{0 1} - C_{1 1}\\right) \\sin^{3}{\\left(\\theta \\right)} \\cos{\\left(\\theta \\right)} & \\frac{C_{2 2} \\sin{\\left(4 \\theta \\right)}}{2} + \\left(C_{0 0} - C_{1 0}\\right) \\sin^{3}{\\left(\\theta \\right)} \\cos{\\left(\\theta \\right)} + \\left(C_{0 1} - C_{1 1}\\right) \\sin{\\left(\\theta \\right)} \\cos^{3}{\\left(\\theta \\right)} & C_{2 2} \\cos^{2}{\\left(2 \\theta \\right)} + 0.125 \\left(1 - \\cos{\\left(4 \\theta \\right)}\\right) \\left(C_{0 0} - C_{1 0}\\right) + 0.125 \\left(1 - \\cos{\\left(4 \\theta \\right)}\\right) \\left(- C_{0 1} + C_{1 1}\\right)\\end{matrix}\\right]$"
      ],
      "text/plain": [
       "⎡ C₂ ₂⋅(1 - cos(4⋅θ))   ⎛        2              2   ⎞    2      ⎛        2    \n",
       "⎢ ─────────────────── + ⎝C₀ ₀⋅cos (θ) + C₁ ₀⋅sin (θ)⎠⋅cos (θ) + ⎝C₀ ₁⋅cos (θ) \n",
       "⎢          2                                                                  \n",
       "⎢                                                                             \n",
       "⎢  C₂ ₂⋅(1 - cos(4⋅θ))   ⎛        2              2   ⎞    2      ⎛        2   \n",
       "⎢- ─────────────────── + ⎝C₀ ₀⋅sin (θ) + C₁ ₀⋅cos (θ)⎠⋅cos (θ) + ⎝C₀ ₁⋅sin (θ)\n",
       "⎢           2                                                                 \n",
       "⎢                                                                             \n",
       "⎢              C₂ ₂⋅sin(4⋅θ)                           3                      \n",
       "⎢            - ───────────── + (C₀ ₀ - C₁ ₀)⋅sin(θ)⋅cos (θ) + (C₀ ₁ - C₁ ₁)⋅si\n",
       "⎣                    2                                                        \n",
       "\n",
       "          2   ⎞    2        C₂ ₂⋅(1 - cos(4⋅θ))   ⎛        2              2   \n",
       "+ C₁ ₁⋅sin (θ)⎠⋅sin (θ)   - ─────────────────── + ⎝C₀ ₀⋅cos (θ) + C₁ ₀⋅sin (θ)\n",
       "                                     2                                        \n",
       "                                                                              \n",
       "           2   ⎞    2      C₂ ₂⋅(1 - cos(4⋅θ))   ⎛        2              2   ⎞\n",
       " + C₁ ₁⋅cos (θ)⎠⋅sin (θ)   ─────────────────── + ⎝C₀ ₀⋅sin (θ) + C₁ ₀⋅cos (θ)⎠\n",
       "                                    2                                         \n",
       "                                                                              \n",
       " 3                                     C₂ ₂⋅sin(4⋅θ)                    3     \n",
       "n (θ)⋅cos(θ)                           ───────────── + (C₀ ₀ - C₁ ₀)⋅sin (θ)⋅c\n",
       "                                             2                                \n",
       "\n",
       "⎞    2      ⎛        2              2   ⎞    2         ⎛        2             \n",
       "⎠⋅sin (θ) + ⎝C₀ ₁⋅cos (θ) + C₁ ₁⋅sin (θ)⎠⋅cos (θ)  1.0⋅⎝C₀ ₀⋅cos (θ) - C₀ ₁⋅co\n",
       "                                                                              \n",
       "                                                                              \n",
       "    2      ⎛        2              2   ⎞    2          ⎛        2             \n",
       "⋅sin (θ) + ⎝C₀ ₁⋅sin (θ) + C₁ ₁⋅cos (θ)⎠⋅cos (θ)   1.0⋅⎝C₀ ₀⋅sin (θ) - C₀ ₁⋅si\n",
       "                                                                              \n",
       "                                                                              \n",
       "                                3                                 2           \n",
       "os(θ) + (C₀ ₁ - C₁ ₁)⋅sin(θ)⋅cos (θ)                      C₂ ₂⋅cos (2⋅θ) + 0.1\n",
       "                                                                              \n",
       "\n",
       " 2              2              2                2            ⎞              ⎤\n",
       "s (θ) + C₁ ₀⋅sin (θ) - C₁ ₁⋅sin (θ) + 4⋅C₂ ₂⋅sin (θ) - 2⋅C₂ ₂⎠⋅sin(θ)⋅cos(θ)⎥\n",
       "                                                                            ⎥\n",
       "                                                                            ⎥\n",
       " 2              2              2                2            ⎞              ⎥\n",
       "n (θ) + C₁ ₀⋅cos (θ) - C₁ ₁⋅cos (θ) - 4⋅C₂ ₂⋅sin (θ) + 2⋅C₂ ₂⎠⋅sin(θ)⋅cos(θ)⎥\n",
       "                                                                            ⎥\n",
       "                                                                            ⎥\n",
       "                                                                            ⎥\n",
       "25⋅(1 - cos(4⋅θ))⋅(C₀ ₀ - C₁ ₀) + 0.125⋅(1 - cos(4⋅θ))⋅(-C₀ ₁ + C₁ ₁)       ⎥\n",
       "                                                                            ⎦"
      ]
     },
     "execution_count": 10,
     "metadata": {},
     "output_type": "execute_result"
    }
   ],
   "source": [
    "CTrue = simplify(At*C*R*A*Rt)\n",
    "CTrue"
   ]
  },
  {
   "cell_type": "code",
   "execution_count": 11,
   "metadata": {
    "ExecuteTime": {
     "end_time": "2021-06-12T21:30:10.058010Z",
     "start_time": "2021-06-12T21:30:09.871702Z"
    }
   },
   "outputs": [
    {
     "data": {
      "image/png": "[encoded data removed]",
      "text/latex": [
       "$\\displaystyle C_{2 2} \\cos^{2}{\\left(2 \\theta \\right)} + 0.125 \\left(1 - \\cos{\\left(4 \\theta \\right)}\\right) \\left(C_{0 0} - C_{1 0}\\right) + 0.125 \\left(1 - \\cos{\\left(4 \\theta \\right)}\\right) \\left(- C_{0 1} + C_{1 1}\\right)$"
      ],
      "text/plain": [
       "        2                                                                     \n",
       "C₂ ₂⋅cos (2⋅θ) + 0.125⋅(1 - cos(4⋅θ))⋅(C₀ ₀ - C₁ ₀) + 0.125⋅(1 - cos(4⋅θ))⋅(-C\n",
       "\n",
       "           \n",
       "₀ ₁ + C₁ ₁)"
      ]
     },
     "execution_count": 11,
     "metadata": {},
     "output_type": "execute_result"
    }
   ],
   "source": [
    "CTrue[2,2]"
   ]
  },
  {
   "cell_type": "code",
   "execution_count": 12,
   "metadata": {
    "ExecuteTime": {
     "end_time": "2021-06-12T21:30:14.145776Z",
     "start_time": "2021-06-12T21:30:10.060362Z"
    }
   },
   "outputs": [
    {
     "data": {
      "image/png": "[encoded data removed]",
      "text/latex": [
       "$\\displaystyle C_{2 2} \\cos^{2}{\\left(2 \\theta \\right)} + \\frac{\\left(1 - \\cos{\\left(4 \\theta \\right)}\\right) \\left(C_{0 0} - C_{1 0}\\right)}{4} + \\frac{\\left(1 - \\cos{\\left(4 \\theta \\right)}\\right) \\left(- C_{0 1} + C_{1 1}\\right)}{4}$"
      ],
      "text/plain": [
       "        2        (1 - cos(4⋅θ))⋅(C₀ ₀ - C₁ ₀)   (1 - cos(4⋅θ))⋅(-C₀ ₁ + C₁ ₁)\n",
       "C₂ ₂⋅cos (2⋅θ) + ──────────────────────────── + ─────────────────────────────\n",
       "                              4                               4              "
      ]
     },
     "execution_count": 12,
     "metadata": {},
     "output_type": "execute_result"
    }
   ],
   "source": [
    "CPrime = simplify(At*C*A)\n",
    "CPrime[2,2]"
   ]
  },
  {
   "cell_type": "code",
   "execution_count": 13,
   "metadata": {
    "ExecuteTime": {
     "end_time": "2021-06-12T21:30:14.169871Z",
     "start_time": "2021-06-12T21:30:14.147739Z"
    }
   },
   "outputs": [
    {
     "name": "stdout",
     "output_type": "stream",
     "text": [
      "x = C_2_2*pow(cos(2*theta), 2) + 0.125*(1 - cos(4*theta))*(C_0_0 - C_1_0) + 0.125*(1 - cos(4*theta))*(-C_0_1 + C_1_1);\n"
     ]
    }
   ],
   "source": [
    "print(ccode(Assignment(x,CTrue[2,2])))"
   ]
  },
  {
   "cell_type": "code",
   "execution_count": 14,
   "metadata": {
    "ExecuteTime": {
     "end_time": "2021-06-12T21:30:14.385366Z",
     "start_time": "2021-06-12T21:30:14.171788Z"
    }
   },
   "outputs": [
    {
     "data": {
      "image/png": "[encoded data removed]",
      "text/latex": [
       "$\\displaystyle C_{2 2}$"
      ],
      "text/plain": [
       "C₂ ₂"
      ]
     },
     "execution_count": 14,
     "metadata": {},
     "output_type": "execute_result"
    }
   ],
   "source": [
    "CTrue[2,2].subs(theta,0)"
   ]
  },
  {
   "cell_type": "code",
   "execution_count": 15,
   "metadata": {
    "ExecuteTime": {
     "end_time": "2021-06-12T21:30:14.611188Z",
     "start_time": "2021-06-12T21:30:14.387939Z"
    }
   },
   "outputs": [
    {
     "data": {
      "image/png": "[encoded data removed]",
      "text/latex": [
       "$\\displaystyle C_{2 2}$"
      ],
      "text/plain": [
       "C₂ ₂"
      ]
     },
     "execution_count": 15,
     "metadata": {},
     "output_type": "execute_result"
    }
   ],
   "source": [
    "simplify(CTrue[2,2].subs(theta,pi/2))"
   ]
  },
  {
   "cell_type": "code",
   "execution_count": 16,
   "metadata": {
    "ExecuteTime": {
     "end_time": "2021-06-12T21:30:14.891987Z",
     "start_time": "2021-06-12T21:30:14.614060Z"
    }
   },
   "outputs": [
    {
     "data": {
      "image/png": "[encoded data removed]",
      "text/latex": [
       "$\\displaystyle 0.25 C_{0 0} - 0.25 C_{0 1} - 0.25 C_{1 0} + 0.25 C_{1 1}$"
      ],
      "text/plain": [
       "0.25⋅C₀ ₀ - 0.25⋅C₀ ₁ - 0.25⋅C₁ ₀ + 0.25⋅C₁ ₁"
      ]
     },
     "execution_count": 16,
     "metadata": {},
     "output_type": "execute_result"
    }
   ],
   "source": [
    "simplify(CTrue[2,2].subs(theta,pi/4))"
   ]
  },
  {
   "cell_type": "code",
   "execution_count": 17,
   "metadata": {
    "ExecuteTime": {
     "end_time": "2021-06-12T21:30:15.120811Z",
     "start_time": "2021-06-12T21:30:14.894261Z"
    }
   },
   "outputs": [
    {
     "data": {
      "image/png": "[encoded data removed]",
      "text/latex": [
       "$\\displaystyle \\left[\\begin{matrix}1 & 0 & 0\\\\0 & 1 & 0\\\\0 & 0 & 1.0\\end{matrix}\\right]$"
      ],
      "text/plain": [
       "⎡1  0   0 ⎤\n",
       "⎢         ⎥\n",
       "⎢0  1   0 ⎥\n",
       "⎢         ⎥\n",
       "⎣0  0  1.0⎦"
      ]
     },
     "execution_count": 17,
     "metadata": {},
     "output_type": "execute_result"
    }
   ],
   "source": [
    "(R*A*Rt).subs(theta,0)"
   ]
  },
  {
   "cell_type": "code",
   "execution_count": 18,
   "metadata": {
    "ExecuteTime": {
     "end_time": "2021-06-12T21:30:15.337888Z",
     "start_time": "2021-06-12T21:30:15.123195Z"
    }
   },
   "outputs": [
    {
     "data": {
      "image/png": "[encoded data removed]",
      "text/latex": [
       "$\\displaystyle \\left[\\begin{matrix}C_{0 0} & C_{0 1} & 0\\\\C_{1 0} & C_{1 1} & 0\\\\0 & 0 & C_{2 2}\\end{matrix}\\right]$"
      ],
      "text/plain": [
       "⎡C₀ ₀  C₀ ₁   0  ⎤\n",
       "⎢                ⎥\n",
       "⎢C₁ ₀  C₁ ₁   0  ⎥\n",
       "⎢                ⎥\n",
       "⎣ 0     0    C₂ ₂⎦"
      ]
     },
     "execution_count": 18,
     "metadata": {},
     "output_type": "execute_result"
    }
   ],
   "source": [
    "C"
   ]
  },
  {
   "cell_type": "code",
   "execution_count": 19,
   "metadata": {
    "ExecuteTime": {
     "end_time": "2021-06-12T21:30:15.571194Z",
     "start_time": "2021-06-12T21:30:15.340906Z"
    }
   },
   "outputs": [
    {
     "data": {
      "image/png": "[encoded data removed]",
      "text/latex": [
       "$\\displaystyle \\left[\\begin{matrix}\\cos^{2}{\\left(\\theta \\right)} & \\sin^{2}{\\left(\\theta \\right)} & 2 \\sin{\\left(\\theta \\right)} \\cos{\\left(\\theta \\right)}\\\\\\sin^{2}{\\left(\\theta \\right)} & \\cos^{2}{\\left(\\theta \\right)} & - 2 \\sin{\\left(\\theta \\right)} \\cos{\\left(\\theta \\right)}\\\\- \\sin{\\left(\\theta \\right)} \\cos{\\left(\\theta \\right)} & \\sin{\\left(\\theta \\right)} \\cos{\\left(\\theta \\right)} & - \\sin^{2}{\\left(\\theta \\right)} + \\cos^{2}{\\left(\\theta \\right)}\\end{matrix}\\right]$"
      ],
      "text/plain": [
       "⎡      2               2                           ⎤\n",
       "⎢   cos (θ)         sin (θ)       2⋅sin(θ)⋅cos(θ)  ⎥\n",
       "⎢                                                  ⎥\n",
       "⎢      2               2                           ⎥\n",
       "⎢   sin (θ)         cos (θ)      -2⋅sin(θ)⋅cos(θ)  ⎥\n",
       "⎢                                                  ⎥\n",
       "⎢                                    2         2   ⎥\n",
       "⎣-sin(θ)⋅cos(θ)  sin(θ)⋅cos(θ)  - sin (θ) + cos (θ)⎦"
      ]
     },
     "execution_count": 19,
     "metadata": {},
     "output_type": "execute_result"
    }
   ],
   "source": [
    "A"
   ]
  },
  {
   "cell_type": "code",
   "execution_count": 20,
   "metadata": {
    "ExecuteTime": {
     "end_time": "2021-06-12T21:30:15.802533Z",
     "start_time": "2021-06-12T21:30:15.574298Z"
    }
   },
   "outputs": [
    {
     "data": {
      "image/png": "[encoded data removed]",
      "text/latex": [
       "$\\displaystyle \\left[\\begin{matrix}\\cos^{2}{\\left(\\theta \\right)} & \\sin^{2}{\\left(\\theta \\right)} & 1.0 \\sin{\\left(\\theta \\right)} \\cos{\\left(\\theta \\right)}\\\\\\sin^{2}{\\left(\\theta \\right)} & \\cos^{2}{\\left(\\theta \\right)} & - 1.0 \\sin{\\left(\\theta \\right)} \\cos{\\left(\\theta \\right)}\\\\- 2 \\sin{\\left(\\theta \\right)} \\cos{\\left(\\theta \\right)} & 2 \\sin{\\left(\\theta \\right)} \\cos{\\left(\\theta \\right)} & - 1.0 \\sin^{2}{\\left(\\theta \\right)} + 1.0 \\cos^{2}{\\left(\\theta \\right)}\\end{matrix}\\right]$"
      ],
      "text/plain": [
       "⎡       2                 2                                ⎤\n",
       "⎢    cos (θ)           sin (θ)         1.0⋅sin(θ)⋅cos(θ)   ⎥\n",
       "⎢                                                          ⎥\n",
       "⎢       2                 2                                ⎥\n",
       "⎢    sin (θ)           cos (θ)        -1.0⋅sin(θ)⋅cos(θ)   ⎥\n",
       "⎢                                                          ⎥\n",
       "⎢                                        2             2   ⎥\n",
       "⎣-2⋅sin(θ)⋅cos(θ)  2⋅sin(θ)⋅cos(θ)  - sin (θ) + 1.0⋅cos (θ)⎦"
      ]
     },
     "execution_count": 20,
     "metadata": {},
     "output_type": "execute_result"
    }
   ],
   "source": [
    "R*A*Rt"
   ]
  },
  {
   "cell_type": "code",
   "execution_count": 24,
   "metadata": {
    "ExecuteTime": {
     "end_time": "2021-06-12T21:46:32.463044Z",
     "start_time": "2021-06-12T21:46:32.271611Z"
    }
   },
   "outputs": [
    {
     "data": {
      "image/png": "[encoded data removed]",
      "text/latex": [
       "$\\displaystyle \\left[\\begin{matrix}C_{1 1} & C_{1 0} & 0\\\\C_{0 1} & C_{0 0} & 0\\\\0 & 0 & C_{2 2}\\end{matrix}\\right]$"
      ],
      "text/plain": [
       "⎡C₁ ₁  C₁ ₀   0  ⎤\n",
       "⎢                ⎥\n",
       "⎢C₀ ₁  C₀ ₀   0  ⎥\n",
       "⎢                ⎥\n",
       "⎣ 0     0    C₂ ₂⎦"
      ]
     },
     "execution_count": 24,
     "metadata": {},
     "output_type": "execute_result"
    }
   ],
   "source": [
    "CTrue.subs(theta,pi/2)"
   ]
  },
  {
   "cell_type": "code",
   "execution_count": 26,
   "metadata": {
    "ExecuteTime": {
     "end_time": "2021-06-12T22:07:46.402778Z",
     "start_time": "2021-06-12T22:07:46.211286Z"
    }
   },
   "outputs": [
    {
     "data": {
      "image/png": "[encoded data removed]",
      "text/latex": [
       "$\\displaystyle \\left[\\begin{matrix}1\\\\2\\\\3\\end{matrix}\\right]$"
      ],
      "text/plain": [
       "⎡1⎤\n",
       "⎢ ⎥\n",
       "⎢2⎥\n",
       "⎢ ⎥\n",
       "⎣3⎦"
      ]
     },
     "execution_count": 26,
     "metadata": {},
     "output_type": "execute_result"
    }
   ],
   "source": [
    "v1 = Matrix([1,2,3])\n",
    "v1"
   ]
  },
  {
   "cell_type": "code",
   "execution_count": null,
   "metadata": {},
   "outputs": [],
   "source": [
    "C[0,0] = 1\n",
    "C[1,1] = 3\n",
    "C[0,1] = 2\n",
    "C[1,0] = 2"
   ]
  }
 ],
 "metadata": {
  "kernelspec": {
   "display_name": "Python 3",
   "language": "python",
   "name": "python3"
  },
  "language_info": {
   "codemirror_mode": {
    "name": "ipython",
    "version": 3
   },
   "file_extension": ".py",
   "mimetype": "text/x-python",
   "name": "python",
   "nbconvert_exporter": "python",
   "pygments_lexer": "ipython3",
   "version": "3.9.1"
  }
 },
 "nbformat": 4,
 "nbformat_minor": 2
}
