{
 "cells": [
  {
   "cell_type": "code",
   "execution_count": 2,
   "metadata": {
    "ExecuteTime": {
     "end_time": "2021-07-14T09:21:46.748943Z",
     "start_time": "2021-07-14T09:21:46.245851Z"
    }
   },
   "outputs": [],
   "source": [
    "from sympy import *\n",
    "init_printing(use_unicode=True)\n",
    "from sympy.codegen.ast import Assignment"
   ]
  },
  {
   "cell_type": "code",
   "execution_count": 3,
   "metadata": {
    "ExecuteTime": {
     "end_time": "2021-07-14T09:21:46.753870Z",
     "start_time": "2021-07-14T09:21:46.750600Z"
    }
   },
   "outputs": [],
   "source": [
    "m, n = symbols('m n')\n",
    "x = symbols('x')\n",
    "theta = Symbol(\"theta\")"
   ]
  },
  {
   "cell_type": "code",
   "execution_count": 4,
   "metadata": {
    "ExecuteTime": {
     "end_time": "2021-07-14T09:21:46.799608Z",
     "start_time": "2021-07-14T09:21:46.756364Z"
    }
   },
   "outputs": [],
   "source": [
    "m = cos(theta)\n",
    "n = sin(theta)"
   ]
  },
  {
   "cell_type": "markdown",
   "metadata": {},
   "source": [
    "# Definition of rotation matrix $A$"
   ]
  },
  {
   "cell_type": "code",
   "execution_count": 5,
   "metadata": {
    "ExecuteTime": {
     "end_time": "2021-07-14T09:21:49.253501Z",
     "start_time": "2021-07-14T09:21:46.839023Z"
    }
   },
   "outputs": [
    {
     "data": {
      "image/png": "[encoded data removed]",
      "text/latex": [
       "$\\displaystyle \\left( \\left[\\begin{matrix}\\cos^{2}{\\left(\\theta \\right)} & \\sin^{2}{\\left(\\theta \\right)} & - \\sin{\\left(2 \\theta \\right)}\\\\\\sin^{2}{\\left(\\theta \\right)} & \\cos^{2}{\\left(\\theta \\right)} & \\sin{\\left(2 \\theta \\right)}\\\\\\frac{\\sin{\\left(2 \\theta \\right)}}{2} & - \\frac{\\sin{\\left(2 \\theta \\right)}}{2} & \\cos{\\left(2 \\theta \\right)}\\end{matrix}\\right], \\  \\left[\\begin{matrix}\\cos^{2}{\\left(\\theta \\right)} & \\sin^{2}{\\left(\\theta \\right)} & \\sin{\\left(2 \\theta \\right)}\\\\\\sin^{2}{\\left(\\theta \\right)} & \\cos^{2}{\\left(\\theta \\right)} & - \\sin{\\left(2 \\theta \\right)}\\\\- \\frac{\\sin{\\left(2 \\theta \\right)}}{2} & \\frac{\\sin{\\left(2 \\theta \\right)}}{2} & \\cos{\\left(2 \\theta \\right)}\\end{matrix}\\right]\\right)$"
      ],
      "text/plain": [
       "⎛⎡   2          2                ⎤  ⎡    2          2               ⎤⎞\n",
       "⎜⎢cos (θ)    sin (θ)    -sin(2⋅θ)⎥  ⎢ cos (θ)    sin (θ)   sin(2⋅θ) ⎥⎟\n",
       "⎜⎢                               ⎥  ⎢                               ⎥⎟\n",
       "⎜⎢   2          2                ⎥  ⎢    2          2               ⎥⎟\n",
       "⎜⎢sin (θ)    cos (θ)    sin(2⋅θ) ⎥, ⎢ sin (θ)    cos (θ)   -sin(2⋅θ)⎥⎟\n",
       "⎜⎢                               ⎥  ⎢                               ⎥⎟\n",
       "⎜⎢sin(2⋅θ)  -sin(2⋅θ)            ⎥  ⎢-sin(2⋅θ)   sin(2⋅θ)           ⎥⎟\n",
       "⎜⎢────────  ──────────  cos(2⋅θ) ⎥  ⎢──────────  ────────  cos(2⋅θ) ⎥⎟\n",
       "⎝⎣   2          2                ⎦  ⎣    2          2               ⎦⎠"
      ]
     },
     "execution_count": 5,
     "metadata": {},
     "output_type": "execute_result"
    }
   ],
   "source": [
    "A = Matrix([[m**2, n**2, 2*m*n], [n**2, m**2, -2*m*n], [-m*n, m*n,m**2-n**2]])\n",
    "At = simplify(A.inv())\n",
    "\n",
    "At, simplify(A)\n",
    "# The inverse of the rotation matrix in voigt notation is not the transpose"
   ]
  },
  {
   "cell_type": "code",
   "execution_count": 6,
   "metadata": {
    "ExecuteTime": {
     "end_time": "2021-07-14T09:21:49.444333Z",
     "start_time": "2021-07-14T09:21:49.255524Z"
    }
   },
   "outputs": [
    {
     "data": {
      "image/png": "[encoded data removed]",
      "text/latex": [
       "$\\displaystyle \\left[\\begin{matrix}1 & 0 & 0\\\\0 & 1 & 0\\\\0 & 0 & 1\\end{matrix}\\right]$"
      ],
      "text/plain": [
       "⎡1  0  0⎤\n",
       "⎢       ⎥\n",
       "⎢0  1  0⎥\n",
       "⎢       ⎥\n",
       "⎣0  0  1⎦"
      ]
     },
     "execution_count": 6,
     "metadata": {},
     "output_type": "execute_result"
    }
   ],
   "source": [
    "simplify(A.subs(theta,0))"
   ]
  },
  {
   "cell_type": "markdown",
   "metadata": {},
   "source": [
    "# Definition of the Reuter Matrix $R$"
   ]
  },
  {
   "cell_type": "code",
   "execution_count": 7,
   "metadata": {
    "ExecuteTime": {
     "end_time": "2021-07-14T09:21:49.630887Z",
     "start_time": "2021-07-14T09:21:49.446662Z"
    }
   },
   "outputs": [
    {
     "data": {
      "image/png": "[encoded data removed]",
      "text/latex": [
       "$\\displaystyle \\left[\\begin{matrix}1 & 0 & 0\\\\0 & 1 & 0\\\\0 & 0 & 2\\end{matrix}\\right]$"
      ],
      "text/plain": [
       "⎡1  0  0⎤\n",
       "⎢       ⎥\n",
       "⎢0  1  0⎥\n",
       "⎢       ⎥\n",
       "⎣0  0  2⎦"
      ]
     },
     "execution_count": 7,
     "metadata": {},
     "output_type": "execute_result"
    }
   ],
   "source": [
    "R = Matrix([[1, 0, 0], [0, 1, 0], [0, 0,2]])\n",
    "Rt = Matrix([[1, 0, 0], [0, 1, 0], [0, 0,0.5]])\n",
    "R"
   ]
  },
  {
   "cell_type": "markdown",
   "metadata": {},
   "source": [
    "# transversely isotropic stiffness tensor $C$\n",
    "\n",
    "$C' = A^{-1}CRAR^{-1}$"
   ]
  },
  {
   "cell_type": "code",
   "execution_count": 8,
   "metadata": {
    "ExecuteTime": {
     "end_time": "2021-07-14T09:21:50.071156Z",
     "start_time": "2021-07-14T09:21:49.635333Z"
    }
   },
   "outputs": [
    {
     "data": {
      "image/png": "[encoded data removed]",
      "text/latex": [
       "$\\displaystyle \\left[\\begin{matrix}C_{0 0} & C_{0 1} & C_{0 2}\\\\C_{1 0} & C_{1 1} & C_{1 2}\\\\C_{2 0} & C_{2 1} & C_{2 2}\\end{matrix}\\right]$"
      ],
      "text/plain": [
       "⎡C₀ ₀  C₀ ₁  C₀ ₂⎤\n",
       "⎢                ⎥\n",
       "⎢C₁ ₀  C₁ ₁  C₁ ₂⎥\n",
       "⎢                ⎥\n",
       "⎣C₂ ₀  C₂ ₁  C₂ ₂⎦"
      ]
     },
     "execution_count": 8,
     "metadata": {},
     "output_type": "execute_result"
    }
   ],
   "source": [
    "C = Matrix( symarray('C', (3,3)) )\n",
    "C"
   ]
  },
  {
   "cell_type": "code",
   "execution_count": 9,
   "metadata": {
    "ExecuteTime": {
     "end_time": "2021-07-14T09:21:50.279583Z",
     "start_time": "2021-07-14T09:21:50.073092Z"
    }
   },
   "outputs": [
    {
     "data": {
      "image/png": "[encoded data removed]",
      "text/latex": [
       "$\\displaystyle \\left[\\begin{matrix}C_{0 0} & C_{0 1} & 0\\\\C_{0 1} & C_{0 0} & 0\\\\0 & 0 & 0.5 C_{0 0} - 0.5 C_{0 1}\\end{matrix}\\right]$"
      ],
      "text/plain": [
       "⎡C₀ ₀  C₀ ₁           0         ⎤\n",
       "⎢                               ⎥\n",
       "⎢C₀ ₁  C₀ ₀           0         ⎥\n",
       "⎢                               ⎥\n",
       "⎣ 0     0    0.5⋅C₀ ₀ - 0.5⋅C₀ ₁⎦"
      ]
     },
     "execution_count": 9,
     "metadata": {},
     "output_type": "execute_result"
    }
   ],
   "source": [
    "gamma = symbols('\\gamma')\n",
    "C[2,0] = 0\n",
    "C[2,1] = 0\n",
    "C[0,2] = 0\n",
    "C[1,2] = 0\n",
    "C[1,1] = C[0,0]\n",
    "C[1,0] = C[0,1]\n",
    "C[2,2] = 0.5 *(C[0,0] - C[1,0])\n",
    "#C[2,2] = gamma\n",
    "C"
   ]
  },
  {
   "cell_type": "code",
   "execution_count": 10,
   "metadata": {
    "ExecuteTime": {
     "end_time": "2021-07-14T09:21:53.002057Z",
     "start_time": "2021-07-14T09:21:50.281440Z"
    }
   },
   "outputs": [
    {
     "data": {
      "image/png": "[encoded data removed]",
      "text/latex": [
       "$\\displaystyle \\left[\\begin{matrix}C_{0 0} & C_{0 1} & 0\\\\C_{0 1} & C_{0 0} & 0\\\\0 & 0 & 0.5 C_{0 0} - 0.5 C_{0 1}\\end{matrix}\\right]$"
      ],
      "text/plain": [
       "⎡C₀ ₀  C₀ ₁           0         ⎤\n",
       "⎢                               ⎥\n",
       "⎢C₀ ₁  C₀ ₀           0         ⎥\n",
       "⎢                               ⎥\n",
       "⎣ 0     0    0.5⋅C₀ ₀ - 0.5⋅C₀ ₁⎦"
      ]
     },
     "execution_count": 10,
     "metadata": {},
     "output_type": "execute_result"
    }
   ],
   "source": [
    "CTrue = simplify(At*C*R*A*Rt)\n",
    "CTrue"
   ]
  },
  {
   "cell_type": "code",
   "execution_count": 11,
   "metadata": {
    "ExecuteTime": {
     "end_time": "2021-07-14T09:21:53.206690Z",
     "start_time": "2021-07-14T09:21:53.004163Z"
    }
   },
   "outputs": [
    {
     "data": {
      "image/png": "[encoded data removed]",
      "text/latex": [
       "$\\displaystyle 0.5 C_{0 0} - 0.5 C_{0 1}$"
      ],
      "text/plain": [
       "0.5⋅C₀ ₀ - 0.5⋅C₀ ₁"
      ]
     },
     "execution_count": 11,
     "metadata": {},
     "output_type": "execute_result"
    }
   ],
   "source": [
    "CTrue[2,2]"
   ]
  },
  {
   "cell_type": "code",
   "execution_count": 12,
   "metadata": {
    "ExecuteTime": {
     "end_time": "2021-07-14T09:21:56.514071Z",
     "start_time": "2021-07-14T09:21:53.211137Z"
    }
   },
   "outputs": [
    {
     "data": {
      "image/png": "[encoded data removed]",
      "text/latex": [
       "$\\displaystyle \\left(C_{0 0} - C_{0 1}\\right) \\left(- 2.0 \\sin^{4}{\\left(\\theta \\right)} + 2.0 \\sin^{2}{\\left(\\theta \\right)} + 0.5\\right)$"
      ],
      "text/plain": [
       "              ⎛         4             2         ⎞\n",
       "(C₀ ₀ - C₀ ₁)⋅⎝- 2.0⋅sin (θ) + 2.0⋅sin (θ) + 0.5⎠"
      ]
     },
     "execution_count": 12,
     "metadata": {},
     "output_type": "execute_result"
    }
   ],
   "source": [
    "CPrime = simplify(At*C*A)\n",
    "CPrime[2,2]"
   ]
  },
  {
   "cell_type": "code",
   "execution_count": 13,
   "metadata": {
    "ExecuteTime": {
     "end_time": "2021-07-14T09:21:56.545941Z",
     "start_time": "2021-07-14T09:21:56.516498Z"
    }
   },
   "outputs": [
    {
     "name": "stdout",
     "output_type": "stream",
     "text": [
      "x = 0.5*C_0_0 - 0.5*C_0_1;\n"
     ]
    }
   ],
   "source": [
    "print(ccode(Assignment(x,CTrue[2,2])))"
   ]
  },
  {
   "cell_type": "code",
   "execution_count": 14,
   "metadata": {
    "ExecuteTime": {
     "end_time": "2021-07-14T09:21:56.756138Z",
     "start_time": "2021-07-14T09:21:56.547539Z"
    }
   },
   "outputs": [
    {
     "data": {
      "image/png": "[encoded data removed]",
      "text/latex": [
       "$\\displaystyle 0.5 C_{0 0} - 0.5 C_{0 1}$"
      ],
      "text/plain": [
       "0.5⋅C₀ ₀ - 0.5⋅C₀ ₁"
      ]
     },
     "execution_count": 14,
     "metadata": {},
     "output_type": "execute_result"
    }
   ],
   "source": [
    "CTrue[2,2].subs(theta,0)"
   ]
  },
  {
   "cell_type": "code",
   "execution_count": 15,
   "metadata": {
    "ExecuteTime": {
     "end_time": "2021-07-14T09:21:56.986544Z",
     "start_time": "2021-07-14T09:21:56.758400Z"
    }
   },
   "outputs": [
    {
     "data": {
      "image/png": "[encoded data removed]",
      "text/latex": [
       "$\\displaystyle 0.5 C_{0 0} - 0.5 C_{0 1}$"
      ],
      "text/plain": [
       "0.5⋅C₀ ₀ - 0.5⋅C₀ ₁"
      ]
     },
     "execution_count": 15,
     "metadata": {},
     "output_type": "execute_result"
    }
   ],
   "source": [
    "simplify(CTrue[2,2].subs(theta,pi/2))"
   ]
  },
  {
   "cell_type": "code",
   "execution_count": 16,
   "metadata": {
    "ExecuteTime": {
     "end_time": "2021-07-14T09:21:57.223852Z",
     "start_time": "2021-07-14T09:21:56.988979Z"
    }
   },
   "outputs": [
    {
     "data": {
      "image/png": "[encoded data removed]",
      "text/latex": [
       "$\\displaystyle 0.5 C_{0 0} - 0.5 C_{0 1}$"
      ],
      "text/plain": [
       "0.5⋅C₀ ₀ - 0.5⋅C₀ ₁"
      ]
     },
     "execution_count": 16,
     "metadata": {},
     "output_type": "execute_result"
    }
   ],
   "source": [
    "simplify(CTrue[2,2].subs(theta,pi/4))"
   ]
  },
  {
   "cell_type": "code",
   "execution_count": 17,
   "metadata": {
    "ExecuteTime": {
     "end_time": "2021-07-14T09:21:57.447550Z",
     "start_time": "2021-07-14T09:21:57.226421Z"
    }
   },
   "outputs": [
    {
     "data": {
      "image/png": "[encoded data removed]",
      "text/latex": [
       "$\\displaystyle \\left[\\begin{matrix}1 & 0 & 0\\\\0 & 1 & 0\\\\0 & 0 & 1.0\\end{matrix}\\right]$"
      ],
      "text/plain": [
       "⎡1  0   0 ⎤\n",
       "⎢         ⎥\n",
       "⎢0  1   0 ⎥\n",
       "⎢         ⎥\n",
       "⎣0  0  1.0⎦"
      ]
     },
     "execution_count": 17,
     "metadata": {},
     "output_type": "execute_result"
    }
   ],
   "source": [
    "(R*A*Rt).subs(theta,0)"
   ]
  },
  {
   "cell_type": "code",
   "execution_count": 18,
   "metadata": {
    "ExecuteTime": {
     "end_time": "2021-07-14T09:21:57.664361Z",
     "start_time": "2021-07-14T09:21:57.449406Z"
    }
   },
   "outputs": [
    {
     "data": {
      "image/png": "[encoded data removed]",
      "text/latex": [
       "$\\displaystyle \\left[\\begin{matrix}C_{0 0} & C_{0 1} & 0\\\\C_{0 1} & C_{0 0} & 0\\\\0 & 0 & 0.5 C_{0 0} - 0.5 C_{0 1}\\end{matrix}\\right]$"
      ],
      "text/plain": [
       "⎡C₀ ₀  C₀ ₁           0         ⎤\n",
       "⎢                               ⎥\n",
       "⎢C₀ ₁  C₀ ₀           0         ⎥\n",
       "⎢                               ⎥\n",
       "⎣ 0     0    0.5⋅C₀ ₀ - 0.5⋅C₀ ₁⎦"
      ]
     },
     "execution_count": 18,
     "metadata": {},
     "output_type": "execute_result"
    }
   ],
   "source": [
    "C"
   ]
  },
  {
   "cell_type": "code",
   "execution_count": 19,
   "metadata": {
    "ExecuteTime": {
     "end_time": "2021-07-14T09:21:57.896979Z",
     "start_time": "2021-07-14T09:21:57.666258Z"
    }
   },
   "outputs": [
    {
     "data": {
      "image/png": "[encoded data removed]",
      "text/latex": [
       "$\\displaystyle \\left[\\begin{matrix}\\cos^{2}{\\left(\\theta \\right)} & \\sin^{2}{\\left(\\theta \\right)} & 2 \\sin{\\left(\\theta \\right)} \\cos{\\left(\\theta \\right)}\\\\\\sin^{2}{\\left(\\theta \\right)} & \\cos^{2}{\\left(\\theta \\right)} & - 2 \\sin{\\left(\\theta \\right)} \\cos{\\left(\\theta \\right)}\\\\- \\sin{\\left(\\theta \\right)} \\cos{\\left(\\theta \\right)} & \\sin{\\left(\\theta \\right)} \\cos{\\left(\\theta \\right)} & - \\sin^{2}{\\left(\\theta \\right)} + \\cos^{2}{\\left(\\theta \\right)}\\end{matrix}\\right]$"
      ],
      "text/plain": [
       "⎡      2               2                           ⎤\n",
       "⎢   cos (θ)         sin (θ)       2⋅sin(θ)⋅cos(θ)  ⎥\n",
       "⎢                                                  ⎥\n",
       "⎢      2               2                           ⎥\n",
       "⎢   sin (θ)         cos (θ)      -2⋅sin(θ)⋅cos(θ)  ⎥\n",
       "⎢                                                  ⎥\n",
       "⎢                                    2         2   ⎥\n",
       "⎣-sin(θ)⋅cos(θ)  sin(θ)⋅cos(θ)  - sin (θ) + cos (θ)⎦"
      ]
     },
     "execution_count": 19,
     "metadata": {},
     "output_type": "execute_result"
    }
   ],
   "source": [
    "A"
   ]
  },
  {
   "cell_type": "code",
   "execution_count": 20,
   "metadata": {
    "ExecuteTime": {
     "end_time": "2021-07-14T09:21:58.126283Z",
     "start_time": "2021-07-14T09:21:57.899319Z"
    }
   },
   "outputs": [
    {
     "data": {
      "image/png": "[encoded data removed]",
      "text/latex": [
       "$\\displaystyle \\left[\\begin{matrix}\\cos^{2}{\\left(\\theta \\right)} & \\sin^{2}{\\left(\\theta \\right)} & 1.0 \\sin{\\left(\\theta \\right)} \\cos{\\left(\\theta \\right)}\\\\\\sin^{2}{\\left(\\theta \\right)} & \\cos^{2}{\\left(\\theta \\right)} & - 1.0 \\sin{\\left(\\theta \\right)} \\cos{\\left(\\theta \\right)}\\\\- 2 \\sin{\\left(\\theta \\right)} \\cos{\\left(\\theta \\right)} & 2 \\sin{\\left(\\theta \\right)} \\cos{\\left(\\theta \\right)} & - 1.0 \\sin^{2}{\\left(\\theta \\right)} + 1.0 \\cos^{2}{\\left(\\theta \\right)}\\end{matrix}\\right]$"
      ],
      "text/plain": [
       "⎡       2                 2                                ⎤\n",
       "⎢    cos (θ)           sin (θ)         1.0⋅sin(θ)⋅cos(θ)   ⎥\n",
       "⎢                                                          ⎥\n",
       "⎢       2                 2                                ⎥\n",
       "⎢    sin (θ)           cos (θ)        -1.0⋅sin(θ)⋅cos(θ)   ⎥\n",
       "⎢                                                          ⎥\n",
       "⎢                                        2             2   ⎥\n",
       "⎣-2⋅sin(θ)⋅cos(θ)  2⋅sin(θ)⋅cos(θ)  - sin (θ) + 1.0⋅cos (θ)⎦"
      ]
     },
     "execution_count": 20,
     "metadata": {},
     "output_type": "execute_result"
    }
   ],
   "source": [
    "R*A*Rt"
   ]
  },
  {
   "cell_type": "code",
   "execution_count": 21,
   "metadata": {
    "ExecuteTime": {
     "end_time": "2021-07-14T09:21:58.340059Z",
     "start_time": "2021-07-14T09:21:58.128992Z"
    }
   },
   "outputs": [
    {
     "data": {
      "image/png": "[encoded data removed]",
      "text/latex": [
       "$\\displaystyle \\left[\\begin{matrix}C_{0 0} & C_{0 1} & 0\\\\C_{0 1} & C_{0 0} & 0\\\\0 & 0 & 0.5 C_{0 0} - 0.5 C_{0 1}\\end{matrix}\\right]$"
      ],
      "text/plain": [
       "⎡C₀ ₀  C₀ ₁           0         ⎤\n",
       "⎢                               ⎥\n",
       "⎢C₀ ₁  C₀ ₀           0         ⎥\n",
       "⎢                               ⎥\n",
       "⎣ 0     0    0.5⋅C₀ ₀ - 0.5⋅C₀ ₁⎦"
      ]
     },
     "execution_count": 21,
     "metadata": {},
     "output_type": "execute_result"
    }
   ],
   "source": [
    "CTrue.subs(theta,pi/2)"
   ]
  },
  {
   "cell_type": "code",
   "execution_count": 22,
   "metadata": {
    "ExecuteTime": {
     "end_time": "2021-07-14T09:21:58.545066Z",
     "start_time": "2021-07-14T09:21:58.342001Z"
    }
   },
   "outputs": [
    {
     "data": {
      "image/png": "[encoded data removed]",
      "text/latex": [
       "$\\displaystyle \\left[\\begin{matrix}4\\\\5\\\\6\\end{matrix}\\right]$"
      ],
      "text/plain": [
       "⎡4⎤\n",
       "⎢ ⎥\n",
       "⎢5⎥\n",
       "⎢ ⎥\n",
       "⎣6⎦"
      ]
     },
     "execution_count": 22,
     "metadata": {},
     "output_type": "execute_result"
    }
   ],
   "source": [
    "v1 = Matrix([4,5,6])\n",
    "v1"
   ]
  },
  {
   "cell_type": "code",
   "execution_count": 23,
   "metadata": {
    "ExecuteTime": {
     "end_time": "2021-07-14T09:21:58.552028Z",
     "start_time": "2021-07-14T09:21:58.547637Z"
    }
   },
   "outputs": [],
   "source": [
    "C[0,0] = 1\n",
    "C[1,1] = 3\n",
    "C[0,1] = 2\n",
    "C[1,0] = 2\n",
    "C[2,2] = 13"
   ]
  },
  {
   "cell_type": "code",
   "execution_count": 24,
   "metadata": {
    "ExecuteTime": {
     "end_time": "2021-07-14T09:22:00.134184Z",
     "start_time": "2021-07-14T09:21:58.554637Z"
    }
   },
   "outputs": [
    {
     "data": {
      "image/png": "[encoded data removed]",
      "text/latex": [
       "$\\displaystyle \\left[\\begin{matrix}1.99999999999999\\\\28.0\\\\- \\frac{9}{2}\\end{matrix}\\right]$"
      ],
      "text/plain": [
       "⎡1.99999999999999⎤\n",
       "⎢                ⎥\n",
       "⎢      28.0      ⎥\n",
       "⎢                ⎥\n",
       "⎣      -9/2      ⎦"
      ]
     },
     "execution_count": 24,
     "metadata": {},
     "output_type": "execute_result"
    }
   ],
   "source": [
    "CTrue = simplify(At*C*R*A*Rt)\n",
    "(CTrue*v1).subs(theta, pi/4)"
   ]
  },
  {
   "cell_type": "code",
   "execution_count": 25,
   "metadata": {
    "ExecuteTime": {
     "end_time": "2021-07-14T09:22:00.350116Z",
     "start_time": "2021-07-14T09:22:00.136045Z"
    }
   },
   "outputs": [
    {
     "data": {
      "image/png": "[encoded data removed]",
      "text/latex": [
       "$\\displaystyle -4.5$"
      ],
      "text/plain": [
       "-4.5"
      ]
     },
     "execution_count": 25,
     "metadata": {},
     "output_type": "execute_result"
    }
   ],
   "source": [
    "-9/2"
   ]
  },
  {
   "cell_type": "code",
   "execution_count": 26,
   "metadata": {
    "ExecuteTime": {
     "end_time": "2021-07-14T09:22:00.359626Z",
     "start_time": "2021-07-14T09:22:00.353289Z"
    }
   },
   "outputs": [],
   "source": [
    "x, n, delta = symbols('x n \\delta')\n"
   ]
  },
  {
   "cell_type": "code",
   "execution_count": 84,
   "metadata": {
    "ExecuteTime": {
     "end_time": "2021-07-14T09:29:00.456664Z",
     "start_time": "2021-07-14T09:29:00.260966Z"
    }
   },
   "outputs": [
    {
     "data": {
      "image/png": "[encoded data removed]",
      "text/latex": [
       "$\\displaystyle 1 - 2 \\left|{x}\\right|$"
      ],
      "text/plain": [
       "1 - 2⋅│x│"
      ]
     },
     "execution_count": 84,
     "metadata": {},
     "output_type": "execute_result"
    }
   ],
   "source": [
    "Weight = (1 - 2*abs(x))\n",
    "Weight"
   ]
  },
  {
   "cell_type": "code",
   "execution_count": 85,
   "metadata": {
    "ExecuteTime": {
     "end_time": "2021-07-14T09:29:00.889631Z",
     "start_time": "2021-07-14T09:29:00.596963Z"
    }
   },
   "outputs": [
    {
     "data": {
      "image/png": "[encoded data removed]",
      "text/plain": [
       "<Figure size 432x288 with 1 Axes>"
      ]
     },
     "metadata": {
      "needs_background": "light"
     },
     "output_type": "display_data"
    },
    {
     "data": {
      "text/plain": [
       "<sympy.plotting.plot.Plot at 0x14a481c31df0>"
      ]
     },
     "execution_count": 85,
     "metadata": {},
     "output_type": "execute_result"
    }
   ],
   "source": [
    "plot(Weight, (x, -0.5, .5), ylim=[0,1])"
   ]
  },
  {
   "cell_type": "code",
   "execution_count": 81,
   "metadata": {
    "ExecuteTime": {
     "end_time": "2021-07-14T09:28:40.419330Z",
     "start_time": "2021-07-14T09:28:40.211157Z"
    }
   },
   "outputs": [
    {
     "data": {
      "image/png": "[encoded data removed]",
      "text/latex": [
       "$\\displaystyle \\frac{\\left(n + 1.0\\right) \\left(- n \\left(2.0 \\left|{x}\\right|\\right)^{n - 1.0} + \\left(2.0 \\left|{x}\\right|\\right)^{n} \\left(n - 1.0\\right) + 1.0\\right)}{n - 1.0}$"
      ],
      "text/plain": [
       "          ⎛             n - 1.0            n                ⎞\n",
       "(n + 1.0)⋅⎝- n⋅(2.0⋅│x│)        + (2.0⋅│x│) ⋅(n - 1.0) + 1.0⎠\n",
       "─────────────────────────────────────────────────────────────\n",
       "                           n - 1.0                           "
      ]
     },
     "execution_count": 81,
     "metadata": {},
     "output_type": "execute_result"
    }
   ],
   "source": [
    "Weight = ((n+1.0)/(n-1.0))*(1.0 - n * (abs(2.0 * x))**( n - 1.0) + (n - 1.0) * (abs(2.0*x))**(n))\n",
    "Weight"
   ]
  },
  {
   "cell_type": "code",
   "execution_count": 83,
   "metadata": {
    "ExecuteTime": {
     "end_time": "2021-07-14T09:28:46.869976Z",
     "start_time": "2021-07-14T09:28:46.680717Z"
    }
   },
   "outputs": [
    {
     "data": {
      "image/png": "[encoded data removed]",
      "text/plain": [
       "<Figure size 432x288 with 1 Axes>"
      ]
     },
     "metadata": {
      "needs_background": "light"
     },
     "output_type": "display_data"
    },
    {
     "data": {
      "text/plain": [
       "<sympy.plotting.plot.Plot at 0x14a481c319d0>"
      ]
     },
     "execution_count": 83,
     "metadata": {},
     "output_type": "execute_result"
    }
   ],
   "source": [
    "plot(Weight.subs(n,100), (x, -0.5, .5),ylim=[0,2])"
   ]
  },
  {
   "cell_type": "code",
   "execution_count": null,
   "metadata": {},
   "outputs": [],
   "source": []
  },
  {
   "cell_type": "code",
   "execution_count": null,
   "metadata": {},
   "outputs": [],
   "source": []
  },
  {
   "cell_type": "code",
   "execution_count": null,
   "metadata": {},
   "outputs": [],
   "source": []
  }
 ],
 "metadata": {
  "kernelspec": {
   "display_name": "Python 3",
   "language": "python",
   "name": "python3"
  },
  "language_info": {
   "codemirror_mode": {
    "name": "ipython",
    "version": 3
   },
   "file_extension": ".py",
   "mimetype": "text/x-python",
   "name": "python",
   "nbconvert_exporter": "python",
   "pygments_lexer": "ipython3",
   "version": "3.9.1"
  }
 },
 "nbformat": 4,
 "nbformat_minor": 2
}
