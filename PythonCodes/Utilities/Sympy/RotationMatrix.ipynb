{
 "cells": [
  {
   "cell_type": "code",
   "execution_count": 1,
   "id": "iraqi-galaxy",
   "metadata": {
    "ExecuteTime": {
     "end_time": "2021-09-15T13:01:14.746296Z",
     "start_time": "2021-09-15T13:01:14.280255Z"
    }
   },
   "outputs": [],
   "source": [
    "from sympy import *\n",
    "init_printing(use_unicode=True)\n",
    "from sympy.codegen.ast import Assignment"
   ]
  },
  {
   "cell_type": "code",
   "execution_count": 2,
   "id": "chicken-effect",
   "metadata": {
    "ExecuteTime": {
     "end_time": "2021-09-15T13:01:15.007455Z",
     "start_time": "2021-09-15T13:01:14.748043Z"
    }
   },
   "outputs": [],
   "source": [
    "C = Matrix( symarray('C', (2,2)) )\n",
    "R = Matrix( symarray('R', (2,2)) )\n",
    "n = Matrix( symarray('n', (2)) )\n",
    "t = Matrix( symarray('t', (2)) )"
   ]
  },
  {
   "cell_type": "code",
   "execution_count": 3,
   "id": "unlikely-happening",
   "metadata": {
    "ExecuteTime": {
     "end_time": "2021-09-15T13:01:15.013410Z",
     "start_time": "2021-09-15T13:01:15.010032Z"
    }
   },
   "outputs": [],
   "source": [
    "R[0,0]=t[0]\n",
    "R[1,0]=t[1]\n",
    "R[0,1]=n[0]\n",
    "R[1,1]=n[1]"
   ]
  },
  {
   "cell_type": "code",
   "execution_count": 4,
   "id": "considerable-blank",
   "metadata": {
    "ExecuteTime": {
     "end_time": "2021-09-15T13:01:15.269589Z",
     "start_time": "2021-09-15T13:01:15.015375Z"
    }
   },
   "outputs": [
    {
     "data": {
      "image/png": "[encoded data removed]",
      "text/latex": [
       "$\\displaystyle \\left[\\begin{matrix}C_{0 0} & C_{0 1}\\\\C_{1 0} & C_{1 1}\\end{matrix}\\right]$"
      ],
      "text/plain": [
       "⎡C₀ ₀  C₀ ₁⎤\n",
       "⎢          ⎥\n",
       "⎣C₁ ₀  C₁ ₁⎦"
      ]
     },
     "execution_count": 4,
     "metadata": {},
     "output_type": "execute_result"
    }
   ],
   "source": [
    "C"
   ]
  },
  {
   "cell_type": "code",
   "execution_count": 5,
   "id": "unnecessary-product",
   "metadata": {
    "ExecuteTime": {
     "end_time": "2021-09-15T13:01:15.982170Z",
     "start_time": "2021-09-15T13:01:15.272953Z"
    }
   },
   "outputs": [
    {
     "data": {
      "image/png": "[encoded data removed]",
      "text/latex": [
       "$\\displaystyle \\left[\\begin{matrix}t_{0} \\left(C_{0 0} t_{0} + C_{1 0} t_{1}\\right) + t_{1} \\left(C_{0 1} t_{0} + C_{1 1} t_{1}\\right) & n_{0} \\left(C_{0 0} t_{0} + C_{1 0} t_{1}\\right) + n_{1} \\left(C_{0 1} t_{0} + C_{1 1} t_{1}\\right)\\\\t_{0} \\left(C_{0 0} n_{0} + C_{1 0} n_{1}\\right) + t_{1} \\left(C_{0 1} n_{0} + C_{1 1} n_{1}\\right) & n_{0} \\left(C_{0 0} n_{0} + C_{1 0} n_{1}\\right) + n_{1} \\left(C_{0 1} n_{0} + C_{1 1} n_{1}\\right)\\end{matrix}\\right]$"
      ],
      "text/plain": [
       "⎡t₀⋅(C₀ ₀⋅t₀ + C₁ ₀⋅t₁) + t₁⋅(C₀ ₁⋅t₀ + C₁ ₁⋅t₁)  n₀⋅(C₀ ₀⋅t₀ + C₁ ₀⋅t₁) + n₁⋅\n",
       "⎢                                                                             \n",
       "⎣t₀⋅(C₀ ₀⋅n₀ + C₁ ₀⋅n₁) + t₁⋅(C₀ ₁⋅n₀ + C₁ ₁⋅n₁)  n₀⋅(C₀ ₀⋅n₀ + C₁ ₀⋅n₁) + n₁⋅\n",
       "\n",
       "(C₀ ₁⋅t₀ + C₁ ₁⋅t₁)⎤\n",
       "                   ⎥\n",
       "(C₀ ₁⋅n₀ + C₁ ₁⋅n₁)⎦"
      ]
     },
     "execution_count": 5,
     "metadata": {},
     "output_type": "execute_result"
    }
   ],
   "source": [
    "simplify(transpose(R)*C*R)"
   ]
  },
  {
   "cell_type": "code",
   "execution_count": 6,
   "id": "bulgarian-reporter",
   "metadata": {
    "ExecuteTime": {
     "end_time": "2021-09-15T13:01:16.178228Z",
     "start_time": "2021-09-15T13:01:15.984630Z"
    }
   },
   "outputs": [
    {
     "data": {
      "image/png": "[encoded data removed]",
      "text/latex": [
       "$\\displaystyle \\left[\\begin{matrix}t_{0}^{2} & t_{1}^{2} & 2 t_{0} t_{1}\\\\n_{0}^{2} & n_{1}^{2} & 2 n_{0} n_{1}\\\\n_{0} t_{0} & n_{1} t_{1} & n_{0} t_{1} + n_{1} t_{0}\\end{matrix}\\right]$"
      ],
      "text/plain": [
       "⎡   2      2                ⎤\n",
       "⎢ t₀     t₁       2⋅t₀⋅t₁   ⎥\n",
       "⎢                           ⎥\n",
       "⎢   2      2                ⎥\n",
       "⎢ n₀     n₁       2⋅n₀⋅n₁   ⎥\n",
       "⎢                           ⎥\n",
       "⎣n₀⋅t₀  n₁⋅t₁  n₀⋅t₁ + n₁⋅t₀⎦"
      ]
     },
     "execution_count": 6,
     "metadata": {},
     "output_type": "execute_result"
    }
   ],
   "source": [
    "TensRot = Matrix( symarray('r', (3,3)) )\n",
    "\n",
    "TensRot[0,0]=t[0]*t[0]\n",
    "TensRot[0,1]=t[1]*t[1]\n",
    "TensRot[0,2]=t[0]*t[1] + t[1]*t[0]\n",
    "TensRot[1,0]=n[0]*n[0]\n",
    "TensRot[1,1]=n[1]*n[1]\n",
    "TensRot[1,2]=n[0]*n[1] + n[1]*n[0]\n",
    "TensRot[2,0]=t[0]*n[0]\n",
    "TensRot[2,1]=t[1]*n[1]\n",
    "TensRot[2,2]=t[0]*n[1] + t[1]*n[0]\n",
    "TensRot"
   ]
  },
  {
   "cell_type": "code",
   "execution_count": 7,
   "id": "brutal-berlin",
   "metadata": {
    "ExecuteTime": {
     "end_time": "2021-09-15T13:01:16.376885Z",
     "start_time": "2021-09-15T13:01:16.180458Z"
    }
   },
   "outputs": [
    {
     "data": {
      "image/png": "[encoded data removed]",
      "text/latex": [
       "$\\displaystyle \\left[\\begin{matrix}t_{0}^{2} & n_{0}^{2} & 2 n_{0} t_{0}\\\\t_{1}^{2} & n_{1}^{2} & 2 n_{1} t_{1}\\\\t_{0} t_{1} & n_{0} n_{1} & n_{0} t_{1} + n_{1} t_{0}\\end{matrix}\\right]$"
      ],
      "text/plain": [
       "⎡   2      2                ⎤\n",
       "⎢ t₀     n₀       2⋅n₀⋅t₀   ⎥\n",
       "⎢                           ⎥\n",
       "⎢   2      2                ⎥\n",
       "⎢ t₁     n₁       2⋅n₁⋅t₁   ⎥\n",
       "⎢                           ⎥\n",
       "⎣t₀⋅t₁  n₀⋅n₁  n₀⋅t₁ + n₁⋅t₀⎦"
      ]
     },
     "execution_count": 7,
     "metadata": {},
     "output_type": "execute_result"
    }
   ],
   "source": [
    "InvTensRot = Matrix( symarray('r', (3,3)) )\n",
    "\n",
    "InvTensRot[0,0]=t[0]*t[0]\n",
    "InvTensRot[0,1]=n[0]*n[0]\n",
    "InvTensRot[0,2]=t[0]*n[0] + t[0]*n[0]\n",
    "InvTensRot[1,0]=t[1]*t[1]\n",
    "InvTensRot[1,1]=n[1]*n[1]\n",
    "InvTensRot[1,2]=t[1]*n[1] + t[1]*n[1]\n",
    "InvTensRot[2,0]=t[0]*t[1]\n",
    "InvTensRot[2,1]=n[0]*n[1]\n",
    "InvTensRot[2,2]=t[0]*n[1] + t[1]*n[0]\n",
    "InvTensRot"
   ]
  },
  {
   "cell_type": "code",
   "execution_count": 17,
   "id": "hearing-pantyhose",
   "metadata": {
    "ExecuteTime": {
     "end_time": "2021-09-15T13:01:44.582124Z",
     "start_time": "2021-09-15T13:01:44.256664Z"
    }
   },
   "outputs": [
    {
     "data": {
      "image/png": "[encoded data removed]",
      "text/latex": [
       "$\\displaystyle \\left[\\begin{matrix}n_{0} \\left(C_{0 1} t_{0} + C_{1 1} n_{0}\\right) + t_{0} \\left(C_{0 0} t_{0} + C_{1 0} n_{0}\\right) & n_{1} \\left(C_{0 1} t_{0} + C_{1 1} n_{0}\\right) + t_{1} \\left(C_{0 0} t_{0} + C_{1 0} n_{0}\\right)\\\\n_{0} \\left(C_{0 1} t_{1} + C_{1 1} n_{1}\\right) + t_{0} \\left(C_{0 0} t_{1} + C_{1 0} n_{1}\\right) & n_{1} \\left(C_{0 1} t_{1} + C_{1 1} n_{1}\\right) + t_{1} \\left(C_{0 0} t_{1} + C_{1 0} n_{1}\\right)\\end{matrix}\\right]$"
      ],
      "text/plain": [
       "⎡n₀⋅(C₀ ₁⋅t₀ + C₁ ₁⋅n₀) + t₀⋅(C₀ ₀⋅t₀ + C₁ ₀⋅n₀)  n₁⋅(C₀ ₁⋅t₀ + C₁ ₁⋅n₀) + t₁⋅\n",
       "⎢                                                                             \n",
       "⎣n₀⋅(C₀ ₁⋅t₁ + C₁ ₁⋅n₁) + t₀⋅(C₀ ₀⋅t₁ + C₁ ₀⋅n₁)  n₁⋅(C₀ ₁⋅t₁ + C₁ ₁⋅n₁) + t₁⋅\n",
       "\n",
       "(C₀ ₀⋅t₀ + C₁ ₀⋅n₀)⎤\n",
       "                   ⎥\n",
       "(C₀ ₀⋅t₁ + C₁ ₀⋅n₁)⎦"
      ]
     },
     "execution_count": 17,
     "metadata": {},
     "output_type": "execute_result"
    }
   ],
   "source": [
    "simplify(R*C*transpose(R))"
   ]
  },
  {
   "cell_type": "code",
   "execution_count": 8,
   "id": "future-inspection",
   "metadata": {
    "ExecuteTime": {
     "end_time": "2021-09-15T13:01:16.385913Z",
     "start_time": "2021-09-15T13:01:16.380087Z"
    }
   },
   "outputs": [
    {
     "name": "stdout",
     "output_type": "stream",
     "text": [
      "\\left[\\begin{matrix}t_{0}^{2} & n_{0}^{2} & 2 n_{0} t_{0}\\\\t_{1}^{2} & n_{1}^{2} & 2 n_{1} t_{1}\\\\t_{0} t_{1} & n_{0} n_{1} & n_{0} t_{1} + n_{1} t_{0}\\end{matrix}\\right]\n"
     ]
    }
   ],
   "source": [
    "print(latex(InvTensRot))"
   ]
  },
  {
   "cell_type": "code",
   "execution_count": 9,
   "id": "sound-emphasis",
   "metadata": {
    "ExecuteTime": {
     "end_time": "2021-09-15T13:01:16.397977Z",
     "start_time": "2021-09-15T13:01:16.388890Z"
    }
   },
   "outputs": [
    {
     "name": "stdout",
     "output_type": "stream",
     "text": [
      "\\left[\\begin{matrix}t_{0}^{2} & t_{1}^{2} & 2 t_{0} t_{1}\\\\n_{0}^{2} & n_{1}^{2} & 2 n_{0} n_{1}\\\\n_{0} t_{0} & n_{1} t_{1} & n_{0} t_{1} + n_{1} t_{0}\\end{matrix}\\right]\n"
     ]
    }
   ],
   "source": [
    "print(latex(TensRot))"
   ]
  },
  {
   "cell_type": "code",
   "execution_count": 10,
   "id": "ruled-process",
   "metadata": {
    "ExecuteTime": {
     "end_time": "2021-09-15T13:01:16.407149Z",
     "start_time": "2021-09-15T13:01:16.399776Z"
    }
   },
   "outputs": [],
   "source": [
    "theta = Symbol(\"theta\")\n",
    "n[0] = -sin(theta)\n",
    "n[1] =  cos(theta)\n",
    "\n",
    "t[0]= n[1]\n",
    "t[1]= -n[0]"
   ]
  },
  {
   "cell_type": "code",
   "execution_count": 11,
   "id": "confused-morocco",
   "metadata": {
    "ExecuteTime": {
     "end_time": "2021-09-15T13:01:16.425624Z",
     "start_time": "2021-09-15T13:01:16.410023Z"
    }
   },
   "outputs": [],
   "source": [
    "InvTensRot[0,0]=t[0]*t[0]\n",
    "InvTensRot[0,1]=n[0]*n[0]\n",
    "InvTensRot[0,2]=t[0]*n[0] + t[0]*n[0]\n",
    "InvTensRot[1,0]=t[1]*t[1]\n",
    "InvTensRot[1,1]=n[1]*n[1]\n",
    "InvTensRot[1,2]=t[1]*n[1] + t[1]*n[1]\n",
    "InvTensRot[2,0]=t[0]*t[1]\n",
    "InvTensRot[2,1]=n[0]*n[1]\n",
    "InvTensRot[2,2]=t[0]*n[1] + t[1]*n[0]\n",
    "\n",
    "\n",
    "TensRot[0,0]=t[0]*t[0]\n",
    "TensRot[0,1]=t[1]*t[1]\n",
    "TensRot[0,2]=t[0]*t[1] + t[1]*t[0]\n",
    "TensRot[1,0]=n[0]*n[0]\n",
    "TensRot[1,1]=n[1]*n[1]\n",
    "TensRot[1,2]=n[0]*n[1] + n[1]*n[0]\n",
    "TensRot[2,0]=t[0]*n[0]\n",
    "TensRot[2,1]=t[1]*n[1]\n",
    "TensRot[2,2]=t[0]*n[1] + t[1]*n[0]\n"
   ]
  },
  {
   "cell_type": "code",
   "execution_count": 12,
   "id": "federal-beijing",
   "metadata": {
    "ExecuteTime": {
     "end_time": "2021-09-15T13:01:16.659196Z",
     "start_time": "2021-09-15T13:01:16.427580Z"
    }
   },
   "outputs": [
    {
     "data": {
      "image/png": "[encoded data removed]",
      "text/latex": [
       "$\\displaystyle \\left[\\begin{matrix}2.5195307762541\\\\1.4804692237459\\\\2.1748764959245\\end{matrix}\\right]$"
      ],
      "text/plain": [
       "⎡2.5195307762541⎤\n",
       "⎢               ⎥\n",
       "⎢1.4804692237459⎥\n",
       "⎢               ⎥\n",
       "⎣2.1748764959245⎦"
      ]
     },
     "execution_count": 12,
     "metadata": {},
     "output_type": "execute_result"
    }
   ],
   "source": [
    "sigma = Matrix( symarray('\\sigma', (3)) )\n",
    "sigma[0]=1\n",
    "sigma[1]=3\n",
    "sigma[2]=2\n",
    "\n",
    "(TensRot*sigma).subs(theta,20*pi/180).evalf()"
   ]
  },
  {
   "cell_type": "code",
   "execution_count": 13,
   "id": "julian-calgary",
   "metadata": {
    "ExecuteTime": {
     "end_time": "2021-09-15T13:01:16.853594Z",
     "start_time": "2021-09-15T13:01:16.661497Z"
    }
   },
   "outputs": [
    {
     "data": {
      "image/png": "[encoded data removed]",
      "text/latex": [
       "$\\displaystyle \\left[\\begin{matrix}0.591167947194483\\\\3.40883205280552\\\\0.246513666864877\\end{matrix}\\right]$"
      ],
      "text/plain": [
       "⎡0.591167947194483⎤\n",
       "⎢                 ⎥\n",
       "⎢3.40883205280552 ⎥\n",
       "⎢                 ⎥\n",
       "⎣0.246513666864877⎦"
      ]
     },
     "execution_count": 13,
     "metadata": {},
     "output_type": "execute_result"
    }
   ],
   "source": [
    "(Transpose(TensRot)*sigma).subs(theta,20*pi/180).evalf()"
   ]
  },
  {
   "cell_type": "code",
   "execution_count": 14,
   "id": "secondary-college",
   "metadata": {
    "ExecuteTime": {
     "end_time": "2021-09-15T13:01:17.113047Z",
     "start_time": "2021-09-15T13:01:16.855793Z"
    }
   },
   "outputs": [
    {
     "data": {
      "image/png": "[encoded data removed]",
      "text/latex": [
       "$\\displaystyle \\left[\\begin{matrix}4.14326368369135\\\\-0.143263683691346\\\\0.637511397678347\\end{matrix}\\right]$"
      ],
      "text/plain": [
       "⎡ 4.14326368369135 ⎤\n",
       "⎢                  ⎥\n",
       "⎢-0.143263683691346⎥\n",
       "⎢                  ⎥\n",
       "⎣0.637511397678347 ⎦"
      ]
     },
     "execution_count": 14,
     "metadata": {},
     "output_type": "execute_result"
    }
   ],
   "source": [
    "\n",
    "(InvTensRot*sigma).subs(theta,-50*pi/180).evalf()"
   ]
  },
  {
   "cell_type": "code",
   "execution_count": 15,
   "id": "plastic-point",
   "metadata": {
    "ExecuteTime": {
     "end_time": "2021-09-15T13:01:17.348726Z",
     "start_time": "2021-09-15T13:01:17.115753Z"
    }
   },
   "outputs": [
    {
     "data": {
      "image/png": "[encoded data removed]",
      "text/latex": [
       "$\\displaystyle \\left[\\begin{matrix}0.896706022208366 & 0.103293977791634 & 0.246201938253052\\\\0.103293977791634 & 0.896706022208366 & -0.246201938253052\\\\0.246201938253052 & -0.246201938253052 & 1.41317591116653\\end{matrix}\\right]$"
      ],
      "text/plain": [
       "⎡0.896706022208366  0.103293977791634   0.246201938253052 ⎤\n",
       "⎢                                                         ⎥\n",
       "⎢0.103293977791634  0.896706022208366   -0.246201938253052⎥\n",
       "⎢                                                         ⎥\n",
       "⎣0.246201938253052  -0.246201938253052   1.41317591116653 ⎦"
      ]
     },
     "execution_count": 15,
     "metadata": {},
     "output_type": "execute_result"
    }
   ],
   "source": [
    "(Transpose(TensRot)*TensRot).subs(theta,20*pi/180).evalf()"
   ]
  },
  {
   "cell_type": "code",
   "execution_count": 16,
   "id": "polish-notification",
   "metadata": {
    "ExecuteTime": {
     "end_time": "2021-09-15T13:01:17.616679Z",
     "start_time": "2021-09-15T13:01:17.351031Z"
    }
   },
   "outputs": [
    {
     "data": {
      "image/png": "[encoded data removed]",
      "text/latex": [
       "$\\displaystyle \\left[\\begin{matrix}1.0 & 0 & 1.0 \\cdot 10^{-125}\\\\0 & 1.0 & 1.0 \\cdot 10^{-125}\\\\6.0 \\cdot 10^{-126} & 6.0 \\cdot 10^{-126} & 1.0\\end{matrix}\\right]$"
      ],
      "text/plain": [
       "⎡  1.0       0     0.e-125⎤\n",
       "⎢                         ⎥\n",
       "⎢   0       1.0    0.e-125⎥\n",
       "⎢                         ⎥\n",
       "⎣0.e-125  0.e-125    1.0  ⎦"
      ]
     },
     "execution_count": 16,
     "metadata": {},
     "output_type": "execute_result"
    }
   ],
   "source": [
    "(InvTensRot*TensRot).subs(theta,20*pi/180).evalf()"
   ]
  },
  {
   "cell_type": "code",
   "execution_count": null,
   "id": "married-zoning",
   "metadata": {},
   "outputs": [],
   "source": []
  },
  {
   "cell_type": "code",
   "execution_count": null,
   "id": "exciting-ballet",
   "metadata": {},
   "outputs": [],
   "source": [
    "# EXTRA"
   ]
  },
  {
   "cell_type": "code",
   "execution_count": 10,
   "id": "changing-signature",
   "metadata": {
    "ExecuteTime": {
     "end_time": "2021-09-22T09:10:14.788128Z",
     "start_time": "2021-09-22T09:10:14.646113Z"
    }
   },
   "outputs": [
    {
     "data": {
      "image/png": "[encoded data removed]",
      "text/plain": [
       "<Figure size 432x288 with 1 Axes>"
      ]
     },
     "metadata": {
      "needs_background": "light"
     },
     "output_type": "display_data"
    }
   ],
   "source": [
    "import numpy as np\n",
    "import matplotlib.pyplot as plt\n",
    "\n",
    "import math\n",
    "\n",
    "def rotMatrix(angle):\n",
    "    c = np.cos(np.radians(angle))\n",
    "    s = np.sin(np.radians(angle))\n",
    "    return np.array([[c, -s], [s, c]])\n",
    "\n",
    "\n",
    "v = np.array([0,1])\n",
    "v30 = rotMatrix(30).dot(v)\n",
    "\n",
    "plt.arrow(0,0,v[0],v[1], head_width=0.1, head_length=0.1)\n",
    "plt.arrow(0,0,v30[0],v30[1],head_width=0.1, head_length=0.1)\n",
    "\n",
    "v = np.array([1,0])\n",
    "v30 = rotMatrix(30).dot(v)\n",
    "\n",
    "plt.arrow(0,0,v[0],v[1], head_width=0.1, head_length=0.1)\n",
    "plt.arrow(0,0,v30[0],v30[1],head_width=0.1, head_length=0.1)\n",
    "\n",
    "plt.axis([-2,2,-2,2])\n",
    "plt.grid\n",
    "plt.axis('square')\n",
    "plt.show()"
   ]
  },
  {
   "cell_type": "code",
   "execution_count": null,
   "id": "nutritional-edmonton",
   "metadata": {},
   "outputs": [],
   "source": []
  }
 ],
 "metadata": {
  "kernelspec": {
   "display_name": "Python 3",
   "language": "python",
   "name": "python3"
  },
  "language_info": {
   "codemirror_mode": {
    "name": "ipython",
    "version": 3
   },
   "file_extension": ".py",
   "mimetype": "text/x-python",
   "name": "python",
   "nbconvert_exporter": "python",
   "pygments_lexer": "ipython3",
   "version": "3.9.1"
  }
 },
 "nbformat": 4,
 "nbformat_minor": 5
}
