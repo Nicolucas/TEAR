{
 "cells": [
  {
   "cell_type": "code",
   "execution_count": 1,
   "id": "secure-tours",
   "metadata": {
    "ExecuteTime": {
     "end_time": "2021-07-07T16:08:22.734065Z",
     "start_time": "2021-07-07T16:08:22.237033Z"
    }
   },
   "outputs": [],
   "source": [
    "from sympy import *\n",
    "init_printing(use_unicode=True)\n",
    "from sympy.codegen.ast import Assignment"
   ]
  },
  {
   "cell_type": "code",
   "execution_count": 20,
   "id": "separate-orleans",
   "metadata": {
    "ExecuteTime": {
     "end_time": "2021-07-07T16:19:30.328740Z",
     "start_time": "2021-07-07T16:19:30.316635Z"
    }
   },
   "outputs": [],
   "source": [
    "C = Matrix( symarray('C', (2,2)) )\n",
    "R = Matrix( symarray('R', (2,2)) )\n",
    "n = Matrix( symarray('n', (2)) )\n",
    "t = Matrix( symarray('t', (2)) )"
   ]
  },
  {
   "cell_type": "code",
   "execution_count": 21,
   "id": "loose-hawaii",
   "metadata": {
    "ExecuteTime": {
     "end_time": "2021-07-07T16:19:31.291570Z",
     "start_time": "2021-07-07T16:19:31.281031Z"
    }
   },
   "outputs": [],
   "source": [
    "R[0,0]=t[0]\n",
    "R[1,0]=t[1]\n",
    "R[0,1]=n[0]\n",
    "R[1,1]=n[1]"
   ]
  },
  {
   "cell_type": "code",
   "execution_count": 24,
   "id": "integrated-river",
   "metadata": {
    "ExecuteTime": {
     "end_time": "2021-07-07T16:26:30.839987Z",
     "start_time": "2021-07-07T16:26:30.634766Z"
    }
   },
   "outputs": [
    {
     "data": {
      "image/png": "[encoded data removed]",
      "text/latex": [
       "$\\displaystyle \\left[\\begin{matrix}C_{0 0} & C_{0 1}\\\\C_{1 0} & C_{1 1}\\end{matrix}\\right]$"
      ],
      "text/plain": [
       "⎡C₀ ₀  C₀ ₁⎤\n",
       "⎢          ⎥\n",
       "⎣C₁ ₀  C₁ ₁⎦"
      ]
     },
     "execution_count": 24,
     "metadata": {},
     "output_type": "execute_result"
    }
   ],
   "source": [
    "C"
   ]
  },
  {
   "cell_type": "code",
   "execution_count": 26,
   "id": "prepared-sigma",
   "metadata": {
    "ExecuteTime": {
     "end_time": "2021-07-07T16:42:44.905238Z",
     "start_time": "2021-07-07T16:42:44.590192Z"
    }
   },
   "outputs": [
    {
     "data": {
      "image/png": "[encoded data removed]",
      "text/latex": [
       "$\\displaystyle \\left[\\begin{matrix}t_{0} \\left(C_{0 0} t_{0} + C_{1 0} t_{1}\\right) + t_{1} \\left(C_{0 1} t_{0} + C_{1 1} t_{1}\\right) & n_{0} \\left(C_{0 0} t_{0} + C_{1 0} t_{1}\\right) + n_{1} \\left(C_{0 1} t_{0} + C_{1 1} t_{1}\\right)\\\\t_{0} \\left(C_{0 0} n_{0} + C_{1 0} n_{1}\\right) + t_{1} \\left(C_{0 1} n_{0} + C_{1 1} n_{1}\\right) & n_{0} \\left(C_{0 0} n_{0} + C_{1 0} n_{1}\\right) + n_{1} \\left(C_{0 1} n_{0} + C_{1 1} n_{1}\\right)\\end{matrix}\\right]$"
      ],
      "text/plain": [
       "⎡t₀⋅(C₀ ₀⋅t₀ + C₁ ₀⋅t₁) + t₁⋅(C₀ ₁⋅t₀ + C₁ ₁⋅t₁)  n₀⋅(C₀ ₀⋅t₀ + C₁ ₀⋅t₁) + n₁⋅\n",
       "⎢                                                                             \n",
       "⎣t₀⋅(C₀ ₀⋅n₀ + C₁ ₀⋅n₁) + t₁⋅(C₀ ₁⋅n₀ + C₁ ₁⋅n₁)  n₀⋅(C₀ ₀⋅n₀ + C₁ ₀⋅n₁) + n₁⋅\n",
       "\n",
       "(C₀ ₁⋅t₀ + C₁ ₁⋅t₁)⎤\n",
       "                   ⎥\n",
       "(C₀ ₁⋅n₀ + C₁ ₁⋅n₁)⎦"
      ]
     },
     "execution_count": 26,
     "metadata": {},
     "output_type": "execute_result"
    }
   ],
   "source": [
    "simplify(transpose(R)*C*R)"
   ]
  },
  {
   "cell_type": "code",
   "execution_count": null,
   "id": "median-party",
   "metadata": {},
   "outputs": [],
   "source": []
  }
 ],
 "metadata": {
  "kernelspec": {
   "display_name": "Python 3",
   "language": "python",
   "name": "python3"
  },
  "language_info": {
   "codemirror_mode": {
    "name": "ipython",
    "version": 3
   },
   "file_extension": ".py",
   "mimetype": "text/x-python",
   "name": "python",
   "nbconvert_exporter": "python",
   "pygments_lexer": "ipython3",
   "version": "3.9.1"
  }
 },
 "nbformat": 4,
 "nbformat_minor": 5
}
